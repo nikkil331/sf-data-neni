{
 "cells": [
  {
   "cell_type": "code",
   "execution_count": 21,
   "metadata": {},
   "outputs": [],
   "source": [
    "import pandas as pd\n",
    "import plotly\n",
    "import plotly.express as  px\n",
    "from plotly import colors\n",
    "import textwrap"
   ]
  },
  {
   "cell_type": "markdown",
   "metadata": {},
   "source": [
    "## Millenial seeks home built for this millenium\n",
    "_San Francisco's aging housing stock just another consequence of its stalling housing pipeline_\n",
    "\n",
    "For the first half of 2024, my partner and I were committed to the finanically dubious goal of buying a home in San Francisco. We hired a real estate agent, attended open houses most weekends, and developed unhealthy relationships with the Zillow app. What started out as a hopeful next chapter in our lives was quickly reality checked. Almost every unit that met our requirements was a very old home with some very old problems -- major fixers, to say the least. After repeatedly being quoted multiple hundreds of dollars in needed repairs, we simply gave up.\n",
    "\n",
    "Our housing search faltered somewhat predictably, but what did surprise me is how much it turned me off to the charming old Victorians and Edwardians that characterize many SF neighborhoods. Normally I love the vibe of an old house, but our housing search taught me that with _charm_ and _character_ comes sloping floors, crumbling foundations, questionable electrical installations, furances from the 1940s, and on, and on. I wondered, where are the homes that just work? Are there any that don't need to be retrofitted to a new century?\n",
    "\n",
    "In San Francisco, that type of home is a rare breed. Only about 12% of the city's housing stock was built in this millenium<sup>[1](#Percentage-of-housing-stock-built-since-2000)</sup>; 50,000 units, give or take. To put that number in perspective, the city of San Francisco needs to build 82,000 new housing units between 2023 and 2031 in order to meet its state-mandated Regional Housing Needs Allocation commitment<sup>[2](https://sfplanning.org/sites/default/files/documents/citywide/housing-choice/RHNA-Primer.pdf)</sup>. In just eight years, the city needs to build 1.5x the housing that it built in the last twenty-four.\n",
    "\n",
    "Much has been said in the public discourse about San Francisco's urgent need to build more housing<sup>[3](https://www.sfchronicle.com/sf/article/housing-permits-san-francisco-17652633.php), [4](https://www.nytimes.com/2023/10/25/us/san-francisco-housing.html), [5](https://www.sfexaminer.com/news/housing/experts-say-sf-zoning-a-total-mismatch-from-housing-needs/article_b9d713fa-8996-11ee-aa28-6f28f6cdd4ab.html)</sup>. Since I moved here in 2019, the insistent fact of our failure to build has seemed the norm, an unfortunate but consistent reality pinning us to the status quo. You can imagine my surprise, then, when I saw that data on building permits<sup>[6](#Permit-Filing-and-Completion-Data)</sup> illustrated a clear downward trend in the rate of housing development. It doesn't look like we're adamantly holding to a too-slow pace. It looks like we're stalling out."
   ]
  },
  {
   "cell_type": "code",
   "execution_count": 22,
   "metadata": {},
   "outputs": [],
   "source": [
    "import warnings\n",
    "warnings.filterwarnings('ignore')\n",
    "\n",
    "permits_df = pd.read_csv(\"data/deduplicated_residential_building_permits_issued_filed_since_2000.csv\")\n",
    "# Convert dates to pandas datetime objects.\n",
    "permits_df.loc[:, \"Filed Date\"] = pd.to_datetime(permits_df[\"Filed Date\"])\n",
    "permits_df.loc[:, \"Issued Date\"] = pd.to_datetime(permits_df[\"Issued Date\"])\n",
    "permits_df.loc[:, \"Current Status Date\"] = pd.to_datetime(permits_df[\"Current Status Date\"])"
   ]
  },
  {
   "cell_type": "markdown",
   "metadata": {},
   "source": [
    "The number of issued permits for new housing has been trending down since its peak in 2016. Fewer permits were issued to build new housing in 2023 than almost any other time since the turn of the millenium, save only for the years immediately following the 2008 housing bubble collapse."
   ]
  },
  {
   "cell_type": "code",
   "execution_count": 23,
   "metadata": {},
   "outputs": [
    {
     "data": {
      "text/html": [
       "        <script type=\"text/javascript\">\n",
       "        window.PlotlyConfig = {MathJaxConfig: 'local'};\n",
       "        if (window.MathJax && window.MathJax.Hub && window.MathJax.Hub.Config) {window.MathJax.Hub.Config({SVG: {font: \"STIX-Web\"}});}\n",
       "        if (typeof require !== 'undefined') {\n",
       "        require.undef(\"plotly\");\n",
       "        requirejs.config({\n",
       "            paths: {\n",
       "                'plotly': ['https://cdn.plot.ly/plotly-2.35.0.min']\n",
       "            }\n",
       "        });\n",
       "        require(['plotly'], function(Plotly) {\n",
       "            window._Plotly = Plotly;\n",
       "        });\n",
       "        }\n",
       "        </script>\n",
       "        "
      ]
     },
     "metadata": {},
     "output_type": "display_data"
    },
    {
     "data": {
      "application/vnd.plotly.v1+json": {
       "config": {
        "plotlyServerURL": "https://plot.ly"
       },
       "data": [
        {
         "hovertemplate": "variable=Permit Number<br>Year=%{x}<br>Number of Permits Issued=%{y}<extra></extra>",
         "legendgroup": "Permit Number",
         "line": {
          "color": "#636efa",
          "dash": "solid"
         },
         "marker": {
          "symbol": "circle"
         },
         "mode": "lines",
         "name": "Permit Number",
         "orientation": "v",
         "showlegend": true,
         "type": "scatter",
         "x": [
          2000,
          2001,
          2002,
          2003,
          2004,
          2005,
          2006,
          2007,
          2008,
          2009,
          2010,
          2011,
          2012,
          2013,
          2014,
          2015,
          2016,
          2017,
          2018,
          2019,
          2020,
          2021,
          2022,
          2023
         ],
         "xaxis": "x",
         "y": [
          223,
          230,
          209,
          163,
          161,
          129,
          181,
          170,
          123,
          50,
          51,
          76,
          80,
          141,
          119,
          158,
          195,
          109,
          133,
          81,
          57,
          88,
          75,
          57
         ],
         "yaxis": "y"
        }
       ],
       "layout": {
        "legend": {
         "title": {
          "text": "variable"
         },
         "tracegroupgap": 0
        },
        "margin": {
         "t": 60
        },
        "showlegend": false,
        "template": {
         "data": {
          "bar": [
           {
            "error_x": {
             "color": "#2a3f5f"
            },
            "error_y": {
             "color": "#2a3f5f"
            },
            "marker": {
             "line": {
              "color": "white",
              "width": 0.5
             },
             "pattern": {
              "fillmode": "overlay",
              "size": 10,
              "solidity": 0.2
             }
            },
            "type": "bar"
           }
          ],
          "barpolar": [
           {
            "marker": {
             "line": {
              "color": "white",
              "width": 0.5
             },
             "pattern": {
              "fillmode": "overlay",
              "size": 10,
              "solidity": 0.2
             }
            },
            "type": "barpolar"
           }
          ],
          "carpet": [
           {
            "aaxis": {
             "endlinecolor": "#2a3f5f",
             "gridcolor": "#C8D4E3",
             "linecolor": "#C8D4E3",
             "minorgridcolor": "#C8D4E3",
             "startlinecolor": "#2a3f5f"
            },
            "baxis": {
             "endlinecolor": "#2a3f5f",
             "gridcolor": "#C8D4E3",
             "linecolor": "#C8D4E3",
             "minorgridcolor": "#C8D4E3",
             "startlinecolor": "#2a3f5f"
            },
            "type": "carpet"
           }
          ],
          "choropleth": [
           {
            "colorbar": {
             "outlinewidth": 0,
             "ticks": ""
            },
            "type": "choropleth"
           }
          ],
          "contour": [
           {
            "colorbar": {
             "outlinewidth": 0,
             "ticks": ""
            },
            "colorscale": [
             [
              0,
              "#0d0887"
             ],
             [
              0.1111111111111111,
              "#46039f"
             ],
             [
              0.2222222222222222,
              "#7201a8"
             ],
             [
              0.3333333333333333,
              "#9c179e"
             ],
             [
              0.4444444444444444,
              "#bd3786"
             ],
             [
              0.5555555555555556,
              "#d8576b"
             ],
             [
              0.6666666666666666,
              "#ed7953"
             ],
             [
              0.7777777777777778,
              "#fb9f3a"
             ],
             [
              0.8888888888888888,
              "#fdca26"
             ],
             [
              1,
              "#f0f921"
             ]
            ],
            "type": "contour"
           }
          ],
          "contourcarpet": [
           {
            "colorbar": {
             "outlinewidth": 0,
             "ticks": ""
            },
            "type": "contourcarpet"
           }
          ],
          "heatmap": [
           {
            "colorbar": {
             "outlinewidth": 0,
             "ticks": ""
            },
            "colorscale": [
             [
              0,
              "#0d0887"
             ],
             [
              0.1111111111111111,
              "#46039f"
             ],
             [
              0.2222222222222222,
              "#7201a8"
             ],
             [
              0.3333333333333333,
              "#9c179e"
             ],
             [
              0.4444444444444444,
              "#bd3786"
             ],
             [
              0.5555555555555556,
              "#d8576b"
             ],
             [
              0.6666666666666666,
              "#ed7953"
             ],
             [
              0.7777777777777778,
              "#fb9f3a"
             ],
             [
              0.8888888888888888,
              "#fdca26"
             ],
             [
              1,
              "#f0f921"
             ]
            ],
            "type": "heatmap"
           }
          ],
          "heatmapgl": [
           {
            "colorbar": {
             "outlinewidth": 0,
             "ticks": ""
            },
            "colorscale": [
             [
              0,
              "#0d0887"
             ],
             [
              0.1111111111111111,
              "#46039f"
             ],
             [
              0.2222222222222222,
              "#7201a8"
             ],
             [
              0.3333333333333333,
              "#9c179e"
             ],
             [
              0.4444444444444444,
              "#bd3786"
             ],
             [
              0.5555555555555556,
              "#d8576b"
             ],
             [
              0.6666666666666666,
              "#ed7953"
             ],
             [
              0.7777777777777778,
              "#fb9f3a"
             ],
             [
              0.8888888888888888,
              "#fdca26"
             ],
             [
              1,
              "#f0f921"
             ]
            ],
            "type": "heatmapgl"
           }
          ],
          "histogram": [
           {
            "marker": {
             "pattern": {
              "fillmode": "overlay",
              "size": 10,
              "solidity": 0.2
             }
            },
            "type": "histogram"
           }
          ],
          "histogram2d": [
           {
            "colorbar": {
             "outlinewidth": 0,
             "ticks": ""
            },
            "colorscale": [
             [
              0,
              "#0d0887"
             ],
             [
              0.1111111111111111,
              "#46039f"
             ],
             [
              0.2222222222222222,
              "#7201a8"
             ],
             [
              0.3333333333333333,
              "#9c179e"
             ],
             [
              0.4444444444444444,
              "#bd3786"
             ],
             [
              0.5555555555555556,
              "#d8576b"
             ],
             [
              0.6666666666666666,
              "#ed7953"
             ],
             [
              0.7777777777777778,
              "#fb9f3a"
             ],
             [
              0.8888888888888888,
              "#fdca26"
             ],
             [
              1,
              "#f0f921"
             ]
            ],
            "type": "histogram2d"
           }
          ],
          "histogram2dcontour": [
           {
            "colorbar": {
             "outlinewidth": 0,
             "ticks": ""
            },
            "colorscale": [
             [
              0,
              "#0d0887"
             ],
             [
              0.1111111111111111,
              "#46039f"
             ],
             [
              0.2222222222222222,
              "#7201a8"
             ],
             [
              0.3333333333333333,
              "#9c179e"
             ],
             [
              0.4444444444444444,
              "#bd3786"
             ],
             [
              0.5555555555555556,
              "#d8576b"
             ],
             [
              0.6666666666666666,
              "#ed7953"
             ],
             [
              0.7777777777777778,
              "#fb9f3a"
             ],
             [
              0.8888888888888888,
              "#fdca26"
             ],
             [
              1,
              "#f0f921"
             ]
            ],
            "type": "histogram2dcontour"
           }
          ],
          "mesh3d": [
           {
            "colorbar": {
             "outlinewidth": 0,
             "ticks": ""
            },
            "type": "mesh3d"
           }
          ],
          "parcoords": [
           {
            "line": {
             "colorbar": {
              "outlinewidth": 0,
              "ticks": ""
             }
            },
            "type": "parcoords"
           }
          ],
          "pie": [
           {
            "automargin": true,
            "type": "pie"
           }
          ],
          "scatter": [
           {
            "fillpattern": {
             "fillmode": "overlay",
             "size": 10,
             "solidity": 0.2
            },
            "type": "scatter"
           }
          ],
          "scatter3d": [
           {
            "line": {
             "colorbar": {
              "outlinewidth": 0,
              "ticks": ""
             }
            },
            "marker": {
             "colorbar": {
              "outlinewidth": 0,
              "ticks": ""
             }
            },
            "type": "scatter3d"
           }
          ],
          "scattercarpet": [
           {
            "marker": {
             "colorbar": {
              "outlinewidth": 0,
              "ticks": ""
             }
            },
            "type": "scattercarpet"
           }
          ],
          "scattergeo": [
           {
            "marker": {
             "colorbar": {
              "outlinewidth": 0,
              "ticks": ""
             }
            },
            "type": "scattergeo"
           }
          ],
          "scattergl": [
           {
            "marker": {
             "colorbar": {
              "outlinewidth": 0,
              "ticks": ""
             }
            },
            "type": "scattergl"
           }
          ],
          "scattermapbox": [
           {
            "marker": {
             "colorbar": {
              "outlinewidth": 0,
              "ticks": ""
             }
            },
            "type": "scattermapbox"
           }
          ],
          "scatterpolar": [
           {
            "marker": {
             "colorbar": {
              "outlinewidth": 0,
              "ticks": ""
             }
            },
            "type": "scatterpolar"
           }
          ],
          "scatterpolargl": [
           {
            "marker": {
             "colorbar": {
              "outlinewidth": 0,
              "ticks": ""
             }
            },
            "type": "scatterpolargl"
           }
          ],
          "scatterternary": [
           {
            "marker": {
             "colorbar": {
              "outlinewidth": 0,
              "ticks": ""
             }
            },
            "type": "scatterternary"
           }
          ],
          "surface": [
           {
            "colorbar": {
             "outlinewidth": 0,
             "ticks": ""
            },
            "colorscale": [
             [
              0,
              "#0d0887"
             ],
             [
              0.1111111111111111,
              "#46039f"
             ],
             [
              0.2222222222222222,
              "#7201a8"
             ],
             [
              0.3333333333333333,
              "#9c179e"
             ],
             [
              0.4444444444444444,
              "#bd3786"
             ],
             [
              0.5555555555555556,
              "#d8576b"
             ],
             [
              0.6666666666666666,
              "#ed7953"
             ],
             [
              0.7777777777777778,
              "#fb9f3a"
             ],
             [
              0.8888888888888888,
              "#fdca26"
             ],
             [
              1,
              "#f0f921"
             ]
            ],
            "type": "surface"
           }
          ],
          "table": [
           {
            "cells": {
             "fill": {
              "color": "#EBF0F8"
             },
             "line": {
              "color": "white"
             }
            },
            "header": {
             "fill": {
              "color": "#C8D4E3"
             },
             "line": {
              "color": "white"
             }
            },
            "type": "table"
           }
          ]
         },
         "layout": {
          "annotationdefaults": {
           "arrowcolor": "#2a3f5f",
           "arrowhead": 0,
           "arrowwidth": 1
          },
          "autotypenumbers": "strict",
          "coloraxis": {
           "colorbar": {
            "outlinewidth": 0,
            "ticks": ""
           }
          },
          "colorscale": {
           "diverging": [
            [
             0,
             "#8e0152"
            ],
            [
             0.1,
             "#c51b7d"
            ],
            [
             0.2,
             "#de77ae"
            ],
            [
             0.3,
             "#f1b6da"
            ],
            [
             0.4,
             "#fde0ef"
            ],
            [
             0.5,
             "#f7f7f7"
            ],
            [
             0.6,
             "#e6f5d0"
            ],
            [
             0.7,
             "#b8e186"
            ],
            [
             0.8,
             "#7fbc41"
            ],
            [
             0.9,
             "#4d9221"
            ],
            [
             1,
             "#276419"
            ]
           ],
           "sequential": [
            [
             0,
             "#0d0887"
            ],
            [
             0.1111111111111111,
             "#46039f"
            ],
            [
             0.2222222222222222,
             "#7201a8"
            ],
            [
             0.3333333333333333,
             "#9c179e"
            ],
            [
             0.4444444444444444,
             "#bd3786"
            ],
            [
             0.5555555555555556,
             "#d8576b"
            ],
            [
             0.6666666666666666,
             "#ed7953"
            ],
            [
             0.7777777777777778,
             "#fb9f3a"
            ],
            [
             0.8888888888888888,
             "#fdca26"
            ],
            [
             1,
             "#f0f921"
            ]
           ],
           "sequentialminus": [
            [
             0,
             "#0d0887"
            ],
            [
             0.1111111111111111,
             "#46039f"
            ],
            [
             0.2222222222222222,
             "#7201a8"
            ],
            [
             0.3333333333333333,
             "#9c179e"
            ],
            [
             0.4444444444444444,
             "#bd3786"
            ],
            [
             0.5555555555555556,
             "#d8576b"
            ],
            [
             0.6666666666666666,
             "#ed7953"
            ],
            [
             0.7777777777777778,
             "#fb9f3a"
            ],
            [
             0.8888888888888888,
             "#fdca26"
            ],
            [
             1,
             "#f0f921"
            ]
           ]
          },
          "colorway": [
           "#636efa",
           "#EF553B",
           "#00cc96",
           "#ab63fa",
           "#FFA15A",
           "#19d3f3",
           "#FF6692",
           "#B6E880",
           "#FF97FF",
           "#FECB52"
          ],
          "font": {
           "color": "#2a3f5f"
          },
          "geo": {
           "bgcolor": "white",
           "lakecolor": "white",
           "landcolor": "white",
           "showlakes": true,
           "showland": true,
           "subunitcolor": "#C8D4E3"
          },
          "hoverlabel": {
           "align": "left"
          },
          "hovermode": "closest",
          "mapbox": {
           "style": "light"
          },
          "paper_bgcolor": "white",
          "plot_bgcolor": "white",
          "polar": {
           "angularaxis": {
            "gridcolor": "#EBF0F8",
            "linecolor": "#EBF0F8",
            "ticks": ""
           },
           "bgcolor": "white",
           "radialaxis": {
            "gridcolor": "#EBF0F8",
            "linecolor": "#EBF0F8",
            "ticks": ""
           }
          },
          "scene": {
           "xaxis": {
            "backgroundcolor": "white",
            "gridcolor": "#DFE8F3",
            "gridwidth": 2,
            "linecolor": "#EBF0F8",
            "showbackground": true,
            "ticks": "",
            "zerolinecolor": "#EBF0F8"
           },
           "yaxis": {
            "backgroundcolor": "white",
            "gridcolor": "#DFE8F3",
            "gridwidth": 2,
            "linecolor": "#EBF0F8",
            "showbackground": true,
            "ticks": "",
            "zerolinecolor": "#EBF0F8"
           },
           "zaxis": {
            "backgroundcolor": "white",
            "gridcolor": "#DFE8F3",
            "gridwidth": 2,
            "linecolor": "#EBF0F8",
            "showbackground": true,
            "ticks": "",
            "zerolinecolor": "#EBF0F8"
           }
          },
          "shapedefaults": {
           "line": {
            "color": "#2a3f5f"
           }
          },
          "ternary": {
           "aaxis": {
            "gridcolor": "#DFE8F3",
            "linecolor": "#A2B1C6",
            "ticks": ""
           },
           "baxis": {
            "gridcolor": "#DFE8F3",
            "linecolor": "#A2B1C6",
            "ticks": ""
           },
           "bgcolor": "white",
           "caxis": {
            "gridcolor": "#DFE8F3",
            "linecolor": "#A2B1C6",
            "ticks": ""
           }
          },
          "title": {
           "x": 0.05
          },
          "xaxis": {
           "automargin": true,
           "gridcolor": "#EBF0F8",
           "linecolor": "#EBF0F8",
           "ticks": "",
           "title": {
            "standoff": 15
           },
           "zerolinecolor": "#EBF0F8",
           "zerolinewidth": 2
          },
          "yaxis": {
           "automargin": true,
           "gridcolor": "#EBF0F8",
           "linecolor": "#EBF0F8",
           "ticks": "",
           "title": {
            "standoff": 15
           },
           "zerolinecolor": "#EBF0F8",
           "zerolinewidth": 2
          }
         }
        },
        "width": 800,
        "xaxis": {
         "anchor": "y",
         "domain": [
          0,
          1
         ],
         "title": {
          "text": "Year"
         }
        },
        "yaxis": {
         "anchor": "x",
         "domain": [
          0,
          1
         ],
         "title": {
          "text": "Number of Permits Issued"
         }
        }
       }
      },
      "text/html": [
       "<div>                            <div id=\"84f96a58-4a6f-4792-b40e-b75e0e92ce39\" class=\"plotly-graph-div\" style=\"height:525px; width:800px;\"></div>            <script type=\"text/javascript\">                require([\"plotly\"], function(Plotly) {                    window.PLOTLYENV=window.PLOTLYENV || {};                                    if (document.getElementById(\"84f96a58-4a6f-4792-b40e-b75e0e92ce39\")) {                    Plotly.newPlot(                        \"84f96a58-4a6f-4792-b40e-b75e0e92ce39\",                        [{\"hovertemplate\":\"variable=Permit Number\\u003cbr\\u003eYear=%{x}\\u003cbr\\u003eNumber of Permits Issued=%{y}\\u003cextra\\u003e\\u003c\\u002fextra\\u003e\",\"legendgroup\":\"Permit Number\",\"line\":{\"color\":\"#636efa\",\"dash\":\"solid\"},\"marker\":{\"symbol\":\"circle\"},\"mode\":\"lines\",\"name\":\"Permit Number\",\"orientation\":\"v\",\"showlegend\":true,\"x\":[2000,2001,2002,2003,2004,2005,2006,2007,2008,2009,2010,2011,2012,2013,2014,2015,2016,2017,2018,2019,2020,2021,2022,2023],\"xaxis\":\"x\",\"y\":[223,230,209,163,161,129,181,170,123,50,51,76,80,141,119,158,195,109,133,81,57,88,75,57],\"yaxis\":\"y\",\"type\":\"scatter\"}],                        {\"template\":{\"data\":{\"barpolar\":[{\"marker\":{\"line\":{\"color\":\"white\",\"width\":0.5},\"pattern\":{\"fillmode\":\"overlay\",\"size\":10,\"solidity\":0.2}},\"type\":\"barpolar\"}],\"bar\":[{\"error_x\":{\"color\":\"#2a3f5f\"},\"error_y\":{\"color\":\"#2a3f5f\"},\"marker\":{\"line\":{\"color\":\"white\",\"width\":0.5},\"pattern\":{\"fillmode\":\"overlay\",\"size\":10,\"solidity\":0.2}},\"type\":\"bar\"}],\"carpet\":[{\"aaxis\":{\"endlinecolor\":\"#2a3f5f\",\"gridcolor\":\"#C8D4E3\",\"linecolor\":\"#C8D4E3\",\"minorgridcolor\":\"#C8D4E3\",\"startlinecolor\":\"#2a3f5f\"},\"baxis\":{\"endlinecolor\":\"#2a3f5f\",\"gridcolor\":\"#C8D4E3\",\"linecolor\":\"#C8D4E3\",\"minorgridcolor\":\"#C8D4E3\",\"startlinecolor\":\"#2a3f5f\"},\"type\":\"carpet\"}],\"choropleth\":[{\"colorbar\":{\"outlinewidth\":0,\"ticks\":\"\"},\"type\":\"choropleth\"}],\"contourcarpet\":[{\"colorbar\":{\"outlinewidth\":0,\"ticks\":\"\"},\"type\":\"contourcarpet\"}],\"contour\":[{\"colorbar\":{\"outlinewidth\":0,\"ticks\":\"\"},\"colorscale\":[[0.0,\"#0d0887\"],[0.1111111111111111,\"#46039f\"],[0.2222222222222222,\"#7201a8\"],[0.3333333333333333,\"#9c179e\"],[0.4444444444444444,\"#bd3786\"],[0.5555555555555556,\"#d8576b\"],[0.6666666666666666,\"#ed7953\"],[0.7777777777777778,\"#fb9f3a\"],[0.8888888888888888,\"#fdca26\"],[1.0,\"#f0f921\"]],\"type\":\"contour\"}],\"heatmapgl\":[{\"colorbar\":{\"outlinewidth\":0,\"ticks\":\"\"},\"colorscale\":[[0.0,\"#0d0887\"],[0.1111111111111111,\"#46039f\"],[0.2222222222222222,\"#7201a8\"],[0.3333333333333333,\"#9c179e\"],[0.4444444444444444,\"#bd3786\"],[0.5555555555555556,\"#d8576b\"],[0.6666666666666666,\"#ed7953\"],[0.7777777777777778,\"#fb9f3a\"],[0.8888888888888888,\"#fdca26\"],[1.0,\"#f0f921\"]],\"type\":\"heatmapgl\"}],\"heatmap\":[{\"colorbar\":{\"outlinewidth\":0,\"ticks\":\"\"},\"colorscale\":[[0.0,\"#0d0887\"],[0.1111111111111111,\"#46039f\"],[0.2222222222222222,\"#7201a8\"],[0.3333333333333333,\"#9c179e\"],[0.4444444444444444,\"#bd3786\"],[0.5555555555555556,\"#d8576b\"],[0.6666666666666666,\"#ed7953\"],[0.7777777777777778,\"#fb9f3a\"],[0.8888888888888888,\"#fdca26\"],[1.0,\"#f0f921\"]],\"type\":\"heatmap\"}],\"histogram2dcontour\":[{\"colorbar\":{\"outlinewidth\":0,\"ticks\":\"\"},\"colorscale\":[[0.0,\"#0d0887\"],[0.1111111111111111,\"#46039f\"],[0.2222222222222222,\"#7201a8\"],[0.3333333333333333,\"#9c179e\"],[0.4444444444444444,\"#bd3786\"],[0.5555555555555556,\"#d8576b\"],[0.6666666666666666,\"#ed7953\"],[0.7777777777777778,\"#fb9f3a\"],[0.8888888888888888,\"#fdca26\"],[1.0,\"#f0f921\"]],\"type\":\"histogram2dcontour\"}],\"histogram2d\":[{\"colorbar\":{\"outlinewidth\":0,\"ticks\":\"\"},\"colorscale\":[[0.0,\"#0d0887\"],[0.1111111111111111,\"#46039f\"],[0.2222222222222222,\"#7201a8\"],[0.3333333333333333,\"#9c179e\"],[0.4444444444444444,\"#bd3786\"],[0.5555555555555556,\"#d8576b\"],[0.6666666666666666,\"#ed7953\"],[0.7777777777777778,\"#fb9f3a\"],[0.8888888888888888,\"#fdca26\"],[1.0,\"#f0f921\"]],\"type\":\"histogram2d\"}],\"histogram\":[{\"marker\":{\"pattern\":{\"fillmode\":\"overlay\",\"size\":10,\"solidity\":0.2}},\"type\":\"histogram\"}],\"mesh3d\":[{\"colorbar\":{\"outlinewidth\":0,\"ticks\":\"\"},\"type\":\"mesh3d\"}],\"parcoords\":[{\"line\":{\"colorbar\":{\"outlinewidth\":0,\"ticks\":\"\"}},\"type\":\"parcoords\"}],\"pie\":[{\"automargin\":true,\"type\":\"pie\"}],\"scatter3d\":[{\"line\":{\"colorbar\":{\"outlinewidth\":0,\"ticks\":\"\"}},\"marker\":{\"colorbar\":{\"outlinewidth\":0,\"ticks\":\"\"}},\"type\":\"scatter3d\"}],\"scattercarpet\":[{\"marker\":{\"colorbar\":{\"outlinewidth\":0,\"ticks\":\"\"}},\"type\":\"scattercarpet\"}],\"scattergeo\":[{\"marker\":{\"colorbar\":{\"outlinewidth\":0,\"ticks\":\"\"}},\"type\":\"scattergeo\"}],\"scattergl\":[{\"marker\":{\"colorbar\":{\"outlinewidth\":0,\"ticks\":\"\"}},\"type\":\"scattergl\"}],\"scattermapbox\":[{\"marker\":{\"colorbar\":{\"outlinewidth\":0,\"ticks\":\"\"}},\"type\":\"scattermapbox\"}],\"scatterpolargl\":[{\"marker\":{\"colorbar\":{\"outlinewidth\":0,\"ticks\":\"\"}},\"type\":\"scatterpolargl\"}],\"scatterpolar\":[{\"marker\":{\"colorbar\":{\"outlinewidth\":0,\"ticks\":\"\"}},\"type\":\"scatterpolar\"}],\"scatter\":[{\"fillpattern\":{\"fillmode\":\"overlay\",\"size\":10,\"solidity\":0.2},\"type\":\"scatter\"}],\"scatterternary\":[{\"marker\":{\"colorbar\":{\"outlinewidth\":0,\"ticks\":\"\"}},\"type\":\"scatterternary\"}],\"surface\":[{\"colorbar\":{\"outlinewidth\":0,\"ticks\":\"\"},\"colorscale\":[[0.0,\"#0d0887\"],[0.1111111111111111,\"#46039f\"],[0.2222222222222222,\"#7201a8\"],[0.3333333333333333,\"#9c179e\"],[0.4444444444444444,\"#bd3786\"],[0.5555555555555556,\"#d8576b\"],[0.6666666666666666,\"#ed7953\"],[0.7777777777777778,\"#fb9f3a\"],[0.8888888888888888,\"#fdca26\"],[1.0,\"#f0f921\"]],\"type\":\"surface\"}],\"table\":[{\"cells\":{\"fill\":{\"color\":\"#EBF0F8\"},\"line\":{\"color\":\"white\"}},\"header\":{\"fill\":{\"color\":\"#C8D4E3\"},\"line\":{\"color\":\"white\"}},\"type\":\"table\"}]},\"layout\":{\"annotationdefaults\":{\"arrowcolor\":\"#2a3f5f\",\"arrowhead\":0,\"arrowwidth\":1},\"autotypenumbers\":\"strict\",\"coloraxis\":{\"colorbar\":{\"outlinewidth\":0,\"ticks\":\"\"}},\"colorscale\":{\"diverging\":[[0,\"#8e0152\"],[0.1,\"#c51b7d\"],[0.2,\"#de77ae\"],[0.3,\"#f1b6da\"],[0.4,\"#fde0ef\"],[0.5,\"#f7f7f7\"],[0.6,\"#e6f5d0\"],[0.7,\"#b8e186\"],[0.8,\"#7fbc41\"],[0.9,\"#4d9221\"],[1,\"#276419\"]],\"sequential\":[[0.0,\"#0d0887\"],[0.1111111111111111,\"#46039f\"],[0.2222222222222222,\"#7201a8\"],[0.3333333333333333,\"#9c179e\"],[0.4444444444444444,\"#bd3786\"],[0.5555555555555556,\"#d8576b\"],[0.6666666666666666,\"#ed7953\"],[0.7777777777777778,\"#fb9f3a\"],[0.8888888888888888,\"#fdca26\"],[1.0,\"#f0f921\"]],\"sequentialminus\":[[0.0,\"#0d0887\"],[0.1111111111111111,\"#46039f\"],[0.2222222222222222,\"#7201a8\"],[0.3333333333333333,\"#9c179e\"],[0.4444444444444444,\"#bd3786\"],[0.5555555555555556,\"#d8576b\"],[0.6666666666666666,\"#ed7953\"],[0.7777777777777778,\"#fb9f3a\"],[0.8888888888888888,\"#fdca26\"],[1.0,\"#f0f921\"]]},\"colorway\":[\"#636efa\",\"#EF553B\",\"#00cc96\",\"#ab63fa\",\"#FFA15A\",\"#19d3f3\",\"#FF6692\",\"#B6E880\",\"#FF97FF\",\"#FECB52\"],\"font\":{\"color\":\"#2a3f5f\"},\"geo\":{\"bgcolor\":\"white\",\"lakecolor\":\"white\",\"landcolor\":\"white\",\"showlakes\":true,\"showland\":true,\"subunitcolor\":\"#C8D4E3\"},\"hoverlabel\":{\"align\":\"left\"},\"hovermode\":\"closest\",\"mapbox\":{\"style\":\"light\"},\"paper_bgcolor\":\"white\",\"plot_bgcolor\":\"white\",\"polar\":{\"angularaxis\":{\"gridcolor\":\"#EBF0F8\",\"linecolor\":\"#EBF0F8\",\"ticks\":\"\"},\"bgcolor\":\"white\",\"radialaxis\":{\"gridcolor\":\"#EBF0F8\",\"linecolor\":\"#EBF0F8\",\"ticks\":\"\"}},\"scene\":{\"xaxis\":{\"backgroundcolor\":\"white\",\"gridcolor\":\"#DFE8F3\",\"gridwidth\":2,\"linecolor\":\"#EBF0F8\",\"showbackground\":true,\"ticks\":\"\",\"zerolinecolor\":\"#EBF0F8\"},\"yaxis\":{\"backgroundcolor\":\"white\",\"gridcolor\":\"#DFE8F3\",\"gridwidth\":2,\"linecolor\":\"#EBF0F8\",\"showbackground\":true,\"ticks\":\"\",\"zerolinecolor\":\"#EBF0F8\"},\"zaxis\":{\"backgroundcolor\":\"white\",\"gridcolor\":\"#DFE8F3\",\"gridwidth\":2,\"linecolor\":\"#EBF0F8\",\"showbackground\":true,\"ticks\":\"\",\"zerolinecolor\":\"#EBF0F8\"}},\"shapedefaults\":{\"line\":{\"color\":\"#2a3f5f\"}},\"ternary\":{\"aaxis\":{\"gridcolor\":\"#DFE8F3\",\"linecolor\":\"#A2B1C6\",\"ticks\":\"\"},\"baxis\":{\"gridcolor\":\"#DFE8F3\",\"linecolor\":\"#A2B1C6\",\"ticks\":\"\"},\"bgcolor\":\"white\",\"caxis\":{\"gridcolor\":\"#DFE8F3\",\"linecolor\":\"#A2B1C6\",\"ticks\":\"\"}},\"title\":{\"x\":0.05},\"xaxis\":{\"automargin\":true,\"gridcolor\":\"#EBF0F8\",\"linecolor\":\"#EBF0F8\",\"ticks\":\"\",\"title\":{\"standoff\":15},\"zerolinecolor\":\"#EBF0F8\",\"zerolinewidth\":2},\"yaxis\":{\"automargin\":true,\"gridcolor\":\"#EBF0F8\",\"linecolor\":\"#EBF0F8\",\"ticks\":\"\",\"title\":{\"standoff\":15},\"zerolinecolor\":\"#EBF0F8\",\"zerolinewidth\":2}}},\"xaxis\":{\"anchor\":\"y\",\"domain\":[0.0,1.0],\"title\":{\"text\":\"Year\"}},\"yaxis\":{\"anchor\":\"x\",\"domain\":[0.0,1.0],\"title\":{\"text\":\"Number of Permits Issued\"}},\"legend\":{\"title\":{\"text\":\"variable\"},\"tracegroupgap\":0},\"margin\":{\"t\":60},\"width\":800,\"showlegend\":false},                        {\"responsive\": true}                    ).then(function(){\n",
       "                            \n",
       "var gd = document.getElementById('84f96a58-4a6f-4792-b40e-b75e0e92ce39');\n",
       "var x = new MutationObserver(function (mutations, observer) {{\n",
       "        var display = window.getComputedStyle(gd).display;\n",
       "        if (!display || display === 'none') {{\n",
       "            console.log([gd, 'removed!']);\n",
       "            Plotly.purge(gd);\n",
       "            observer.disconnect();\n",
       "        }}\n",
       "}});\n",
       "\n",
       "// Listen for the removal of the full notebook cells\n",
       "var notebookContainer = gd.closest('#notebook-container');\n",
       "if (notebookContainer) {{\n",
       "    x.observe(notebookContainer, {childList: true});\n",
       "}}\n",
       "\n",
       "// Listen for the clearing of the current output cell\n",
       "var outputEl = gd.closest('.output');\n",
       "if (outputEl) {{\n",
       "    x.observe(outputEl, {childList: true});\n",
       "}}\n",
       "\n",
       "                        })                };                });            </script>        </div>"
      ]
     },
     "metadata": {},
     "output_type": "display_data"
    }
   ],
   "source": [
    "plotly.offline.init_notebook_mode(connected=True)\n",
    "\n",
    "issued_permits = permits_df[~permits_df[\"Issued Date\"].isna()]\n",
    "permits_issued_by_year = issued_permits.groupby(\n",
    "    lambda idx: issued_permits.loc[idx][\"Issued Date\"].year\n",
    ")[\"Permit Number\"].count().drop(2024)  # Drop 2024, since the year isn't finished yet\n",
    "fig = px.line(\n",
    "    permits_issued_by_year,\n",
    "    labels={\"value\": \"Number of Permits Issued\", \"index\": \"Year\"},\n",
    "    width=800,\n",
    "    template=\"plotly_white\"\n",
    ")\n",
    "fig.update_layout(showlegend=False)\n"
   ]
  },
  {
   "cell_type": "markdown",
   "metadata": {},
   "source": [
    "Perhaps even more troubling, the number of permit applications filed for new housing is also trending downard since its recent peak in 2015."
   ]
  },
  {
   "cell_type": "code",
   "execution_count": 24,
   "metadata": {},
   "outputs": [
    {
     "data": {
      "text/html": [
       "        <script type=\"text/javascript\">\n",
       "        window.PlotlyConfig = {MathJaxConfig: 'local'};\n",
       "        if (window.MathJax && window.MathJax.Hub && window.MathJax.Hub.Config) {window.MathJax.Hub.Config({SVG: {font: \"STIX-Web\"}});}\n",
       "        if (typeof require !== 'undefined') {\n",
       "        require.undef(\"plotly\");\n",
       "        requirejs.config({\n",
       "            paths: {\n",
       "                'plotly': ['https://cdn.plot.ly/plotly-2.35.0.min']\n",
       "            }\n",
       "        });\n",
       "        require(['plotly'], function(Plotly) {\n",
       "            window._Plotly = Plotly;\n",
       "        });\n",
       "        }\n",
       "        </script>\n",
       "        "
      ]
     },
     "metadata": {},
     "output_type": "display_data"
    },
    {
     "data": {
      "application/vnd.plotly.v1+json": {
       "config": {
        "plotlyServerURL": "https://plot.ly"
       },
       "data": [
        {
         "hovertemplate": "variable=Permit Number<br>Year=%{x}<br>Number of Permits Filed=%{y}<extra></extra>",
         "legendgroup": "Permit Number",
         "line": {
          "color": "#636efa",
          "dash": "solid"
         },
         "marker": {
          "symbol": "circle"
         },
         "mode": "lines",
         "name": "Permit Number",
         "orientation": "v",
         "showlegend": true,
         "type": "scatter",
         "x": [
          2000,
          2001,
          2002,
          2003,
          2004,
          2005,
          2006,
          2007,
          2008,
          2009,
          2010,
          2011,
          2012,
          2013,
          2014,
          2015,
          2016,
          2017,
          2018,
          2019,
          2020,
          2021,
          2022,
          2023
         ],
         "xaxis": "x",
         "y": [
          392,
          258,
          248,
          215,
          193,
          261,
          173,
          149,
          97,
          61,
          93,
          46,
          134,
          136,
          198,
          258,
          181,
          108,
          109,
          226,
          74,
          115,
          173,
          59
         ],
         "yaxis": "y"
        }
       ],
       "layout": {
        "legend": {
         "title": {
          "text": "variable"
         },
         "tracegroupgap": 0
        },
        "margin": {
         "t": 60
        },
        "showlegend": false,
        "template": {
         "data": {
          "bar": [
           {
            "error_x": {
             "color": "#2a3f5f"
            },
            "error_y": {
             "color": "#2a3f5f"
            },
            "marker": {
             "line": {
              "color": "white",
              "width": 0.5
             },
             "pattern": {
              "fillmode": "overlay",
              "size": 10,
              "solidity": 0.2
             }
            },
            "type": "bar"
           }
          ],
          "barpolar": [
           {
            "marker": {
             "line": {
              "color": "white",
              "width": 0.5
             },
             "pattern": {
              "fillmode": "overlay",
              "size": 10,
              "solidity": 0.2
             }
            },
            "type": "barpolar"
           }
          ],
          "carpet": [
           {
            "aaxis": {
             "endlinecolor": "#2a3f5f",
             "gridcolor": "#C8D4E3",
             "linecolor": "#C8D4E3",
             "minorgridcolor": "#C8D4E3",
             "startlinecolor": "#2a3f5f"
            },
            "baxis": {
             "endlinecolor": "#2a3f5f",
             "gridcolor": "#C8D4E3",
             "linecolor": "#C8D4E3",
             "minorgridcolor": "#C8D4E3",
             "startlinecolor": "#2a3f5f"
            },
            "type": "carpet"
           }
          ],
          "choropleth": [
           {
            "colorbar": {
             "outlinewidth": 0,
             "ticks": ""
            },
            "type": "choropleth"
           }
          ],
          "contour": [
           {
            "colorbar": {
             "outlinewidth": 0,
             "ticks": ""
            },
            "colorscale": [
             [
              0,
              "#0d0887"
             ],
             [
              0.1111111111111111,
              "#46039f"
             ],
             [
              0.2222222222222222,
              "#7201a8"
             ],
             [
              0.3333333333333333,
              "#9c179e"
             ],
             [
              0.4444444444444444,
              "#bd3786"
             ],
             [
              0.5555555555555556,
              "#d8576b"
             ],
             [
              0.6666666666666666,
              "#ed7953"
             ],
             [
              0.7777777777777778,
              "#fb9f3a"
             ],
             [
              0.8888888888888888,
              "#fdca26"
             ],
             [
              1,
              "#f0f921"
             ]
            ],
            "type": "contour"
           }
          ],
          "contourcarpet": [
           {
            "colorbar": {
             "outlinewidth": 0,
             "ticks": ""
            },
            "type": "contourcarpet"
           }
          ],
          "heatmap": [
           {
            "colorbar": {
             "outlinewidth": 0,
             "ticks": ""
            },
            "colorscale": [
             [
              0,
              "#0d0887"
             ],
             [
              0.1111111111111111,
              "#46039f"
             ],
             [
              0.2222222222222222,
              "#7201a8"
             ],
             [
              0.3333333333333333,
              "#9c179e"
             ],
             [
              0.4444444444444444,
              "#bd3786"
             ],
             [
              0.5555555555555556,
              "#d8576b"
             ],
             [
              0.6666666666666666,
              "#ed7953"
             ],
             [
              0.7777777777777778,
              "#fb9f3a"
             ],
             [
              0.8888888888888888,
              "#fdca26"
             ],
             [
              1,
              "#f0f921"
             ]
            ],
            "type": "heatmap"
           }
          ],
          "heatmapgl": [
           {
            "colorbar": {
             "outlinewidth": 0,
             "ticks": ""
            },
            "colorscale": [
             [
              0,
              "#0d0887"
             ],
             [
              0.1111111111111111,
              "#46039f"
             ],
             [
              0.2222222222222222,
              "#7201a8"
             ],
             [
              0.3333333333333333,
              "#9c179e"
             ],
             [
              0.4444444444444444,
              "#bd3786"
             ],
             [
              0.5555555555555556,
              "#d8576b"
             ],
             [
              0.6666666666666666,
              "#ed7953"
             ],
             [
              0.7777777777777778,
              "#fb9f3a"
             ],
             [
              0.8888888888888888,
              "#fdca26"
             ],
             [
              1,
              "#f0f921"
             ]
            ],
            "type": "heatmapgl"
           }
          ],
          "histogram": [
           {
            "marker": {
             "pattern": {
              "fillmode": "overlay",
              "size": 10,
              "solidity": 0.2
             }
            },
            "type": "histogram"
           }
          ],
          "histogram2d": [
           {
            "colorbar": {
             "outlinewidth": 0,
             "ticks": ""
            },
            "colorscale": [
             [
              0,
              "#0d0887"
             ],
             [
              0.1111111111111111,
              "#46039f"
             ],
             [
              0.2222222222222222,
              "#7201a8"
             ],
             [
              0.3333333333333333,
              "#9c179e"
             ],
             [
              0.4444444444444444,
              "#bd3786"
             ],
             [
              0.5555555555555556,
              "#d8576b"
             ],
             [
              0.6666666666666666,
              "#ed7953"
             ],
             [
              0.7777777777777778,
              "#fb9f3a"
             ],
             [
              0.8888888888888888,
              "#fdca26"
             ],
             [
              1,
              "#f0f921"
             ]
            ],
            "type": "histogram2d"
           }
          ],
          "histogram2dcontour": [
           {
            "colorbar": {
             "outlinewidth": 0,
             "ticks": ""
            },
            "colorscale": [
             [
              0,
              "#0d0887"
             ],
             [
              0.1111111111111111,
              "#46039f"
             ],
             [
              0.2222222222222222,
              "#7201a8"
             ],
             [
              0.3333333333333333,
              "#9c179e"
             ],
             [
              0.4444444444444444,
              "#bd3786"
             ],
             [
              0.5555555555555556,
              "#d8576b"
             ],
             [
              0.6666666666666666,
              "#ed7953"
             ],
             [
              0.7777777777777778,
              "#fb9f3a"
             ],
             [
              0.8888888888888888,
              "#fdca26"
             ],
             [
              1,
              "#f0f921"
             ]
            ],
            "type": "histogram2dcontour"
           }
          ],
          "mesh3d": [
           {
            "colorbar": {
             "outlinewidth": 0,
             "ticks": ""
            },
            "type": "mesh3d"
           }
          ],
          "parcoords": [
           {
            "line": {
             "colorbar": {
              "outlinewidth": 0,
              "ticks": ""
             }
            },
            "type": "parcoords"
           }
          ],
          "pie": [
           {
            "automargin": true,
            "type": "pie"
           }
          ],
          "scatter": [
           {
            "fillpattern": {
             "fillmode": "overlay",
             "size": 10,
             "solidity": 0.2
            },
            "type": "scatter"
           }
          ],
          "scatter3d": [
           {
            "line": {
             "colorbar": {
              "outlinewidth": 0,
              "ticks": ""
             }
            },
            "marker": {
             "colorbar": {
              "outlinewidth": 0,
              "ticks": ""
             }
            },
            "type": "scatter3d"
           }
          ],
          "scattercarpet": [
           {
            "marker": {
             "colorbar": {
              "outlinewidth": 0,
              "ticks": ""
             }
            },
            "type": "scattercarpet"
           }
          ],
          "scattergeo": [
           {
            "marker": {
             "colorbar": {
              "outlinewidth": 0,
              "ticks": ""
             }
            },
            "type": "scattergeo"
           }
          ],
          "scattergl": [
           {
            "marker": {
             "colorbar": {
              "outlinewidth": 0,
              "ticks": ""
             }
            },
            "type": "scattergl"
           }
          ],
          "scattermapbox": [
           {
            "marker": {
             "colorbar": {
              "outlinewidth": 0,
              "ticks": ""
             }
            },
            "type": "scattermapbox"
           }
          ],
          "scatterpolar": [
           {
            "marker": {
             "colorbar": {
              "outlinewidth": 0,
              "ticks": ""
             }
            },
            "type": "scatterpolar"
           }
          ],
          "scatterpolargl": [
           {
            "marker": {
             "colorbar": {
              "outlinewidth": 0,
              "ticks": ""
             }
            },
            "type": "scatterpolargl"
           }
          ],
          "scatterternary": [
           {
            "marker": {
             "colorbar": {
              "outlinewidth": 0,
              "ticks": ""
             }
            },
            "type": "scatterternary"
           }
          ],
          "surface": [
           {
            "colorbar": {
             "outlinewidth": 0,
             "ticks": ""
            },
            "colorscale": [
             [
              0,
              "#0d0887"
             ],
             [
              0.1111111111111111,
              "#46039f"
             ],
             [
              0.2222222222222222,
              "#7201a8"
             ],
             [
              0.3333333333333333,
              "#9c179e"
             ],
             [
              0.4444444444444444,
              "#bd3786"
             ],
             [
              0.5555555555555556,
              "#d8576b"
             ],
             [
              0.6666666666666666,
              "#ed7953"
             ],
             [
              0.7777777777777778,
              "#fb9f3a"
             ],
             [
              0.8888888888888888,
              "#fdca26"
             ],
             [
              1,
              "#f0f921"
             ]
            ],
            "type": "surface"
           }
          ],
          "table": [
           {
            "cells": {
             "fill": {
              "color": "#EBF0F8"
             },
             "line": {
              "color": "white"
             }
            },
            "header": {
             "fill": {
              "color": "#C8D4E3"
             },
             "line": {
              "color": "white"
             }
            },
            "type": "table"
           }
          ]
         },
         "layout": {
          "annotationdefaults": {
           "arrowcolor": "#2a3f5f",
           "arrowhead": 0,
           "arrowwidth": 1
          },
          "autotypenumbers": "strict",
          "coloraxis": {
           "colorbar": {
            "outlinewidth": 0,
            "ticks": ""
           }
          },
          "colorscale": {
           "diverging": [
            [
             0,
             "#8e0152"
            ],
            [
             0.1,
             "#c51b7d"
            ],
            [
             0.2,
             "#de77ae"
            ],
            [
             0.3,
             "#f1b6da"
            ],
            [
             0.4,
             "#fde0ef"
            ],
            [
             0.5,
             "#f7f7f7"
            ],
            [
             0.6,
             "#e6f5d0"
            ],
            [
             0.7,
             "#b8e186"
            ],
            [
             0.8,
             "#7fbc41"
            ],
            [
             0.9,
             "#4d9221"
            ],
            [
             1,
             "#276419"
            ]
           ],
           "sequential": [
            [
             0,
             "#0d0887"
            ],
            [
             0.1111111111111111,
             "#46039f"
            ],
            [
             0.2222222222222222,
             "#7201a8"
            ],
            [
             0.3333333333333333,
             "#9c179e"
            ],
            [
             0.4444444444444444,
             "#bd3786"
            ],
            [
             0.5555555555555556,
             "#d8576b"
            ],
            [
             0.6666666666666666,
             "#ed7953"
            ],
            [
             0.7777777777777778,
             "#fb9f3a"
            ],
            [
             0.8888888888888888,
             "#fdca26"
            ],
            [
             1,
             "#f0f921"
            ]
           ],
           "sequentialminus": [
            [
             0,
             "#0d0887"
            ],
            [
             0.1111111111111111,
             "#46039f"
            ],
            [
             0.2222222222222222,
             "#7201a8"
            ],
            [
             0.3333333333333333,
             "#9c179e"
            ],
            [
             0.4444444444444444,
             "#bd3786"
            ],
            [
             0.5555555555555556,
             "#d8576b"
            ],
            [
             0.6666666666666666,
             "#ed7953"
            ],
            [
             0.7777777777777778,
             "#fb9f3a"
            ],
            [
             0.8888888888888888,
             "#fdca26"
            ],
            [
             1,
             "#f0f921"
            ]
           ]
          },
          "colorway": [
           "#636efa",
           "#EF553B",
           "#00cc96",
           "#ab63fa",
           "#FFA15A",
           "#19d3f3",
           "#FF6692",
           "#B6E880",
           "#FF97FF",
           "#FECB52"
          ],
          "font": {
           "color": "#2a3f5f"
          },
          "geo": {
           "bgcolor": "white",
           "lakecolor": "white",
           "landcolor": "white",
           "showlakes": true,
           "showland": true,
           "subunitcolor": "#C8D4E3"
          },
          "hoverlabel": {
           "align": "left"
          },
          "hovermode": "closest",
          "mapbox": {
           "style": "light"
          },
          "paper_bgcolor": "white",
          "plot_bgcolor": "white",
          "polar": {
           "angularaxis": {
            "gridcolor": "#EBF0F8",
            "linecolor": "#EBF0F8",
            "ticks": ""
           },
           "bgcolor": "white",
           "radialaxis": {
            "gridcolor": "#EBF0F8",
            "linecolor": "#EBF0F8",
            "ticks": ""
           }
          },
          "scene": {
           "xaxis": {
            "backgroundcolor": "white",
            "gridcolor": "#DFE8F3",
            "gridwidth": 2,
            "linecolor": "#EBF0F8",
            "showbackground": true,
            "ticks": "",
            "zerolinecolor": "#EBF0F8"
           },
           "yaxis": {
            "backgroundcolor": "white",
            "gridcolor": "#DFE8F3",
            "gridwidth": 2,
            "linecolor": "#EBF0F8",
            "showbackground": true,
            "ticks": "",
            "zerolinecolor": "#EBF0F8"
           },
           "zaxis": {
            "backgroundcolor": "white",
            "gridcolor": "#DFE8F3",
            "gridwidth": 2,
            "linecolor": "#EBF0F8",
            "showbackground": true,
            "ticks": "",
            "zerolinecolor": "#EBF0F8"
           }
          },
          "shapedefaults": {
           "line": {
            "color": "#2a3f5f"
           }
          },
          "ternary": {
           "aaxis": {
            "gridcolor": "#DFE8F3",
            "linecolor": "#A2B1C6",
            "ticks": ""
           },
           "baxis": {
            "gridcolor": "#DFE8F3",
            "linecolor": "#A2B1C6",
            "ticks": ""
           },
           "bgcolor": "white",
           "caxis": {
            "gridcolor": "#DFE8F3",
            "linecolor": "#A2B1C6",
            "ticks": ""
           }
          },
          "title": {
           "x": 0.05
          },
          "xaxis": {
           "automargin": true,
           "gridcolor": "#EBF0F8",
           "linecolor": "#EBF0F8",
           "ticks": "",
           "title": {
            "standoff": 15
           },
           "zerolinecolor": "#EBF0F8",
           "zerolinewidth": 2
          },
          "yaxis": {
           "automargin": true,
           "gridcolor": "#EBF0F8",
           "linecolor": "#EBF0F8",
           "ticks": "",
           "title": {
            "standoff": 15
           },
           "zerolinecolor": "#EBF0F8",
           "zerolinewidth": 2
          }
         }
        },
        "width": 800,
        "xaxis": {
         "anchor": "y",
         "domain": [
          0,
          1
         ],
         "title": {
          "text": "Year"
         }
        },
        "yaxis": {
         "anchor": "x",
         "domain": [
          0,
          1
         ],
         "title": {
          "text": "Number of Permits Filed"
         }
        }
       }
      },
      "text/html": [
       "<div>                            <div id=\"3a633968-372a-44c7-a17b-4f5a76bb053a\" class=\"plotly-graph-div\" style=\"height:525px; width:800px;\"></div>            <script type=\"text/javascript\">                require([\"plotly\"], function(Plotly) {                    window.PLOTLYENV=window.PLOTLYENV || {};                                    if (document.getElementById(\"3a633968-372a-44c7-a17b-4f5a76bb053a\")) {                    Plotly.newPlot(                        \"3a633968-372a-44c7-a17b-4f5a76bb053a\",                        [{\"hovertemplate\":\"variable=Permit Number\\u003cbr\\u003eYear=%{x}\\u003cbr\\u003eNumber of Permits Filed=%{y}\\u003cextra\\u003e\\u003c\\u002fextra\\u003e\",\"legendgroup\":\"Permit Number\",\"line\":{\"color\":\"#636efa\",\"dash\":\"solid\"},\"marker\":{\"symbol\":\"circle\"},\"mode\":\"lines\",\"name\":\"Permit Number\",\"orientation\":\"v\",\"showlegend\":true,\"x\":[2000,2001,2002,2003,2004,2005,2006,2007,2008,2009,2010,2011,2012,2013,2014,2015,2016,2017,2018,2019,2020,2021,2022,2023],\"xaxis\":\"x\",\"y\":[392,258,248,215,193,261,173,149,97,61,93,46,134,136,198,258,181,108,109,226,74,115,173,59],\"yaxis\":\"y\",\"type\":\"scatter\"}],                        {\"template\":{\"data\":{\"barpolar\":[{\"marker\":{\"line\":{\"color\":\"white\",\"width\":0.5},\"pattern\":{\"fillmode\":\"overlay\",\"size\":10,\"solidity\":0.2}},\"type\":\"barpolar\"}],\"bar\":[{\"error_x\":{\"color\":\"#2a3f5f\"},\"error_y\":{\"color\":\"#2a3f5f\"},\"marker\":{\"line\":{\"color\":\"white\",\"width\":0.5},\"pattern\":{\"fillmode\":\"overlay\",\"size\":10,\"solidity\":0.2}},\"type\":\"bar\"}],\"carpet\":[{\"aaxis\":{\"endlinecolor\":\"#2a3f5f\",\"gridcolor\":\"#C8D4E3\",\"linecolor\":\"#C8D4E3\",\"minorgridcolor\":\"#C8D4E3\",\"startlinecolor\":\"#2a3f5f\"},\"baxis\":{\"endlinecolor\":\"#2a3f5f\",\"gridcolor\":\"#C8D4E3\",\"linecolor\":\"#C8D4E3\",\"minorgridcolor\":\"#C8D4E3\",\"startlinecolor\":\"#2a3f5f\"},\"type\":\"carpet\"}],\"choropleth\":[{\"colorbar\":{\"outlinewidth\":0,\"ticks\":\"\"},\"type\":\"choropleth\"}],\"contourcarpet\":[{\"colorbar\":{\"outlinewidth\":0,\"ticks\":\"\"},\"type\":\"contourcarpet\"}],\"contour\":[{\"colorbar\":{\"outlinewidth\":0,\"ticks\":\"\"},\"colorscale\":[[0.0,\"#0d0887\"],[0.1111111111111111,\"#46039f\"],[0.2222222222222222,\"#7201a8\"],[0.3333333333333333,\"#9c179e\"],[0.4444444444444444,\"#bd3786\"],[0.5555555555555556,\"#d8576b\"],[0.6666666666666666,\"#ed7953\"],[0.7777777777777778,\"#fb9f3a\"],[0.8888888888888888,\"#fdca26\"],[1.0,\"#f0f921\"]],\"type\":\"contour\"}],\"heatmapgl\":[{\"colorbar\":{\"outlinewidth\":0,\"ticks\":\"\"},\"colorscale\":[[0.0,\"#0d0887\"],[0.1111111111111111,\"#46039f\"],[0.2222222222222222,\"#7201a8\"],[0.3333333333333333,\"#9c179e\"],[0.4444444444444444,\"#bd3786\"],[0.5555555555555556,\"#d8576b\"],[0.6666666666666666,\"#ed7953\"],[0.7777777777777778,\"#fb9f3a\"],[0.8888888888888888,\"#fdca26\"],[1.0,\"#f0f921\"]],\"type\":\"heatmapgl\"}],\"heatmap\":[{\"colorbar\":{\"outlinewidth\":0,\"ticks\":\"\"},\"colorscale\":[[0.0,\"#0d0887\"],[0.1111111111111111,\"#46039f\"],[0.2222222222222222,\"#7201a8\"],[0.3333333333333333,\"#9c179e\"],[0.4444444444444444,\"#bd3786\"],[0.5555555555555556,\"#d8576b\"],[0.6666666666666666,\"#ed7953\"],[0.7777777777777778,\"#fb9f3a\"],[0.8888888888888888,\"#fdca26\"],[1.0,\"#f0f921\"]],\"type\":\"heatmap\"}],\"histogram2dcontour\":[{\"colorbar\":{\"outlinewidth\":0,\"ticks\":\"\"},\"colorscale\":[[0.0,\"#0d0887\"],[0.1111111111111111,\"#46039f\"],[0.2222222222222222,\"#7201a8\"],[0.3333333333333333,\"#9c179e\"],[0.4444444444444444,\"#bd3786\"],[0.5555555555555556,\"#d8576b\"],[0.6666666666666666,\"#ed7953\"],[0.7777777777777778,\"#fb9f3a\"],[0.8888888888888888,\"#fdca26\"],[1.0,\"#f0f921\"]],\"type\":\"histogram2dcontour\"}],\"histogram2d\":[{\"colorbar\":{\"outlinewidth\":0,\"ticks\":\"\"},\"colorscale\":[[0.0,\"#0d0887\"],[0.1111111111111111,\"#46039f\"],[0.2222222222222222,\"#7201a8\"],[0.3333333333333333,\"#9c179e\"],[0.4444444444444444,\"#bd3786\"],[0.5555555555555556,\"#d8576b\"],[0.6666666666666666,\"#ed7953\"],[0.7777777777777778,\"#fb9f3a\"],[0.8888888888888888,\"#fdca26\"],[1.0,\"#f0f921\"]],\"type\":\"histogram2d\"}],\"histogram\":[{\"marker\":{\"pattern\":{\"fillmode\":\"overlay\",\"size\":10,\"solidity\":0.2}},\"type\":\"histogram\"}],\"mesh3d\":[{\"colorbar\":{\"outlinewidth\":0,\"ticks\":\"\"},\"type\":\"mesh3d\"}],\"parcoords\":[{\"line\":{\"colorbar\":{\"outlinewidth\":0,\"ticks\":\"\"}},\"type\":\"parcoords\"}],\"pie\":[{\"automargin\":true,\"type\":\"pie\"}],\"scatter3d\":[{\"line\":{\"colorbar\":{\"outlinewidth\":0,\"ticks\":\"\"}},\"marker\":{\"colorbar\":{\"outlinewidth\":0,\"ticks\":\"\"}},\"type\":\"scatter3d\"}],\"scattercarpet\":[{\"marker\":{\"colorbar\":{\"outlinewidth\":0,\"ticks\":\"\"}},\"type\":\"scattercarpet\"}],\"scattergeo\":[{\"marker\":{\"colorbar\":{\"outlinewidth\":0,\"ticks\":\"\"}},\"type\":\"scattergeo\"}],\"scattergl\":[{\"marker\":{\"colorbar\":{\"outlinewidth\":0,\"ticks\":\"\"}},\"type\":\"scattergl\"}],\"scattermapbox\":[{\"marker\":{\"colorbar\":{\"outlinewidth\":0,\"ticks\":\"\"}},\"type\":\"scattermapbox\"}],\"scatterpolargl\":[{\"marker\":{\"colorbar\":{\"outlinewidth\":0,\"ticks\":\"\"}},\"type\":\"scatterpolargl\"}],\"scatterpolar\":[{\"marker\":{\"colorbar\":{\"outlinewidth\":0,\"ticks\":\"\"}},\"type\":\"scatterpolar\"}],\"scatter\":[{\"fillpattern\":{\"fillmode\":\"overlay\",\"size\":10,\"solidity\":0.2},\"type\":\"scatter\"}],\"scatterternary\":[{\"marker\":{\"colorbar\":{\"outlinewidth\":0,\"ticks\":\"\"}},\"type\":\"scatterternary\"}],\"surface\":[{\"colorbar\":{\"outlinewidth\":0,\"ticks\":\"\"},\"colorscale\":[[0.0,\"#0d0887\"],[0.1111111111111111,\"#46039f\"],[0.2222222222222222,\"#7201a8\"],[0.3333333333333333,\"#9c179e\"],[0.4444444444444444,\"#bd3786\"],[0.5555555555555556,\"#d8576b\"],[0.6666666666666666,\"#ed7953\"],[0.7777777777777778,\"#fb9f3a\"],[0.8888888888888888,\"#fdca26\"],[1.0,\"#f0f921\"]],\"type\":\"surface\"}],\"table\":[{\"cells\":{\"fill\":{\"color\":\"#EBF0F8\"},\"line\":{\"color\":\"white\"}},\"header\":{\"fill\":{\"color\":\"#C8D4E3\"},\"line\":{\"color\":\"white\"}},\"type\":\"table\"}]},\"layout\":{\"annotationdefaults\":{\"arrowcolor\":\"#2a3f5f\",\"arrowhead\":0,\"arrowwidth\":1},\"autotypenumbers\":\"strict\",\"coloraxis\":{\"colorbar\":{\"outlinewidth\":0,\"ticks\":\"\"}},\"colorscale\":{\"diverging\":[[0,\"#8e0152\"],[0.1,\"#c51b7d\"],[0.2,\"#de77ae\"],[0.3,\"#f1b6da\"],[0.4,\"#fde0ef\"],[0.5,\"#f7f7f7\"],[0.6,\"#e6f5d0\"],[0.7,\"#b8e186\"],[0.8,\"#7fbc41\"],[0.9,\"#4d9221\"],[1,\"#276419\"]],\"sequential\":[[0.0,\"#0d0887\"],[0.1111111111111111,\"#46039f\"],[0.2222222222222222,\"#7201a8\"],[0.3333333333333333,\"#9c179e\"],[0.4444444444444444,\"#bd3786\"],[0.5555555555555556,\"#d8576b\"],[0.6666666666666666,\"#ed7953\"],[0.7777777777777778,\"#fb9f3a\"],[0.8888888888888888,\"#fdca26\"],[1.0,\"#f0f921\"]],\"sequentialminus\":[[0.0,\"#0d0887\"],[0.1111111111111111,\"#46039f\"],[0.2222222222222222,\"#7201a8\"],[0.3333333333333333,\"#9c179e\"],[0.4444444444444444,\"#bd3786\"],[0.5555555555555556,\"#d8576b\"],[0.6666666666666666,\"#ed7953\"],[0.7777777777777778,\"#fb9f3a\"],[0.8888888888888888,\"#fdca26\"],[1.0,\"#f0f921\"]]},\"colorway\":[\"#636efa\",\"#EF553B\",\"#00cc96\",\"#ab63fa\",\"#FFA15A\",\"#19d3f3\",\"#FF6692\",\"#B6E880\",\"#FF97FF\",\"#FECB52\"],\"font\":{\"color\":\"#2a3f5f\"},\"geo\":{\"bgcolor\":\"white\",\"lakecolor\":\"white\",\"landcolor\":\"white\",\"showlakes\":true,\"showland\":true,\"subunitcolor\":\"#C8D4E3\"},\"hoverlabel\":{\"align\":\"left\"},\"hovermode\":\"closest\",\"mapbox\":{\"style\":\"light\"},\"paper_bgcolor\":\"white\",\"plot_bgcolor\":\"white\",\"polar\":{\"angularaxis\":{\"gridcolor\":\"#EBF0F8\",\"linecolor\":\"#EBF0F8\",\"ticks\":\"\"},\"bgcolor\":\"white\",\"radialaxis\":{\"gridcolor\":\"#EBF0F8\",\"linecolor\":\"#EBF0F8\",\"ticks\":\"\"}},\"scene\":{\"xaxis\":{\"backgroundcolor\":\"white\",\"gridcolor\":\"#DFE8F3\",\"gridwidth\":2,\"linecolor\":\"#EBF0F8\",\"showbackground\":true,\"ticks\":\"\",\"zerolinecolor\":\"#EBF0F8\"},\"yaxis\":{\"backgroundcolor\":\"white\",\"gridcolor\":\"#DFE8F3\",\"gridwidth\":2,\"linecolor\":\"#EBF0F8\",\"showbackground\":true,\"ticks\":\"\",\"zerolinecolor\":\"#EBF0F8\"},\"zaxis\":{\"backgroundcolor\":\"white\",\"gridcolor\":\"#DFE8F3\",\"gridwidth\":2,\"linecolor\":\"#EBF0F8\",\"showbackground\":true,\"ticks\":\"\",\"zerolinecolor\":\"#EBF0F8\"}},\"shapedefaults\":{\"line\":{\"color\":\"#2a3f5f\"}},\"ternary\":{\"aaxis\":{\"gridcolor\":\"#DFE8F3\",\"linecolor\":\"#A2B1C6\",\"ticks\":\"\"},\"baxis\":{\"gridcolor\":\"#DFE8F3\",\"linecolor\":\"#A2B1C6\",\"ticks\":\"\"},\"bgcolor\":\"white\",\"caxis\":{\"gridcolor\":\"#DFE8F3\",\"linecolor\":\"#A2B1C6\",\"ticks\":\"\"}},\"title\":{\"x\":0.05},\"xaxis\":{\"automargin\":true,\"gridcolor\":\"#EBF0F8\",\"linecolor\":\"#EBF0F8\",\"ticks\":\"\",\"title\":{\"standoff\":15},\"zerolinecolor\":\"#EBF0F8\",\"zerolinewidth\":2},\"yaxis\":{\"automargin\":true,\"gridcolor\":\"#EBF0F8\",\"linecolor\":\"#EBF0F8\",\"ticks\":\"\",\"title\":{\"standoff\":15},\"zerolinecolor\":\"#EBF0F8\",\"zerolinewidth\":2}}},\"xaxis\":{\"anchor\":\"y\",\"domain\":[0.0,1.0],\"title\":{\"text\":\"Year\"}},\"yaxis\":{\"anchor\":\"x\",\"domain\":[0.0,1.0],\"title\":{\"text\":\"Number of Permits Filed\"}},\"legend\":{\"title\":{\"text\":\"variable\"},\"tracegroupgap\":0},\"margin\":{\"t\":60},\"width\":800,\"showlegend\":false},                        {\"responsive\": true}                    ).then(function(){\n",
       "                            \n",
       "var gd = document.getElementById('3a633968-372a-44c7-a17b-4f5a76bb053a');\n",
       "var x = new MutationObserver(function (mutations, observer) {{\n",
       "        var display = window.getComputedStyle(gd).display;\n",
       "        if (!display || display === 'none') {{\n",
       "            console.log([gd, 'removed!']);\n",
       "            Plotly.purge(gd);\n",
       "            observer.disconnect();\n",
       "        }}\n",
       "}});\n",
       "\n",
       "// Listen for the removal of the full notebook cells\n",
       "var notebookContainer = gd.closest('#notebook-container');\n",
       "if (notebookContainer) {{\n",
       "    x.observe(notebookContainer, {childList: true});\n",
       "}}\n",
       "\n",
       "// Listen for the clearing of the current output cell\n",
       "var outputEl = gd.closest('.output');\n",
       "if (outputEl) {{\n",
       "    x.observe(outputEl, {childList: true});\n",
       "}}\n",
       "\n",
       "                        })                };                });            </script>        </div>"
      ]
     },
     "metadata": {},
     "output_type": "display_data"
    }
   ],
   "source": [
    "plotly.offline.init_notebook_mode(connected=True)\n",
    "\n",
    "permits_filed_by_year = permits_df.groupby(\n",
    "    lambda idx: int(permits_df.loc[idx][\"Filed Date\"].year)\n",
    ")[\"Permit Number\"].count()\n",
    "fig = px.line(\n",
    "    # Filter to after 2000, and drop 2024 since the year isn't over yet.\n",
    "    permits_filed_by_year[\n",
    "        (permits_filed_by_year.index >= 2000) &\n",
    "        (permits_filed_by_year.index < 2024)\n",
    "    ],\n",
    "    labels={\"value\": \"Number of Permits Filed\", \"index\": \"Year\"}, \n",
    "    width=800, \n",
    "    template=\"plotly_white\"\n",
    ")\n",
    "fig.update_layout(showlegend=False)"
   ]
  },
  {
   "cell_type": "markdown",
   "metadata": {},
   "source": [
    "The permitting process itself is commonly blamed for discouraging new development. The process is famously complicated, expensive, and long. In this too, we are getting worse. The percentage of permits issued to new housing applications within two, three, and four years have all been declining since 2012."
   ]
  },
  {
   "cell_type": "code",
   "execution_count": 25,
   "metadata": {},
   "outputs": [
    {
     "data": {
      "text/html": [
       "        <script type=\"text/javascript\">\n",
       "        window.PlotlyConfig = {MathJaxConfig: 'local'};\n",
       "        if (window.MathJax && window.MathJax.Hub && window.MathJax.Hub.Config) {window.MathJax.Hub.Config({SVG: {font: \"STIX-Web\"}});}\n",
       "        if (typeof require !== 'undefined') {\n",
       "        require.undef(\"plotly\");\n",
       "        requirejs.config({\n",
       "            paths: {\n",
       "                'plotly': ['https://cdn.plot.ly/plotly-2.35.0.min']\n",
       "            }\n",
       "        });\n",
       "        require(['plotly'], function(Plotly) {\n",
       "            window._Plotly = Plotly;\n",
       "        });\n",
       "        }\n",
       "        </script>\n",
       "        "
      ]
     },
     "metadata": {},
     "output_type": "display_data"
    },
    {
     "data": {
      "application/vnd.plotly.v1+json": {
       "config": {
        "plotlyServerURL": "https://plot.ly"
       },
       "data": [
        {
         "hovertemplate": "variable=% Issued After 2 Years<br>Application Filing Year=%{x}<br>% of Applications Issued Permits=%{y}<extra></extra>",
         "legendgroup": "% Issued After 2 Years",
         "line": {
          "color": "#636efa",
          "dash": "solid"
         },
         "marker": {
          "symbol": "circle"
         },
         "mode": "lines",
         "name": "% Issued After 2 Years",
         "orientation": "v",
         "showlegend": true,
         "type": "scatter",
         "x": [
          2004,
          2005,
          2006,
          2007,
          2008,
          2009,
          2010,
          2011,
          2012,
          2013,
          2014,
          2015,
          2016,
          2017,
          2018,
          2019,
          2020,
          2021
         ],
         "xaxis": "x",
         "y": [
          47.15025906735752,
          52.87356321839081,
          49.13294797687861,
          33.557046979865774,
          42.2680412371134,
          44.26229508196721,
          39.784946236559136,
          67.3913043478261,
          79.1044776119403,
          66.91176470588235,
          50.505050505050505,
          63.95348837209303,
          50.27624309392266,
          37.03703703703704,
          33.02752293577982,
          15.929203539823009,
          25.675675675675674,
          33.04347826086956
         ],
         "yaxis": "y"
        },
        {
         "hovertemplate": "variable=% Issued After 3 Years<br>Application Filing Year=%{x}<br>% of Applications Issued Permits=%{y}<extra></extra>",
         "legendgroup": "% Issued After 3 Years",
         "line": {
          "color": "#EF553B",
          "dash": "solid"
         },
         "marker": {
          "symbol": "circle"
         },
         "mode": "lines",
         "name": "% Issued After 3 Years",
         "orientation": "v",
         "showlegend": true,
         "type": "scatter",
         "x": [
          2004,
          2005,
          2006,
          2007,
          2008,
          2009,
          2010,
          2011,
          2012,
          2013,
          2014,
          2015,
          2016,
          2017,
          2018,
          2019,
          2020,
          2021
         ],
         "xaxis": "x",
         "y": [
          69.43005181347151,
          64.75095785440614,
          57.22543352601156,
          38.25503355704698,
          52.57731958762887,
          55.73770491803278,
          48.38709677419355,
          71.73913043478261,
          81.34328358208955,
          79.41176470588235,
          70.70707070707071,
          72.09302325581395,
          61.87845303867403,
          48.148148148148145,
          53.21100917431193,
          27.876106194690266,
          39.189189189189186,
          null
         ],
         "yaxis": "y"
        },
        {
         "hovertemplate": "variable=% Issued After 4 Years<br>Application Filing Year=%{x}<br>% of Applications Issued Permits=%{y}<extra></extra>",
         "legendgroup": "% Issued After 4 Years",
         "line": {
          "color": "#00cc96",
          "dash": "solid"
         },
         "marker": {
          "symbol": "circle"
         },
         "mode": "lines",
         "name": "% Issued After 4 Years",
         "orientation": "v",
         "showlegend": true,
         "type": "scatter",
         "x": [
          2004,
          2005,
          2006,
          2007,
          2008,
          2009,
          2010,
          2011,
          2012,
          2013,
          2014,
          2015,
          2016,
          2017,
          2018,
          2019,
          2020,
          2021
         ],
         "xaxis": "x",
         "y": [
          74.61139896373057,
          67.43295019157088,
          60.69364161849711,
          51.67785234899329,
          55.670103092783506,
          72.1311475409836,
          49.46236559139785,
          76.08695652173914,
          85.82089552238806,
          85.29411764705883,
          74.74747474747475,
          75.5813953488372,
          74.03314917127072,
          52.77777777777778,
          56.88073394495413,
          31.858407079646017,
          null,
          null
         ],
         "yaxis": "y"
        }
       ],
       "layout": {
        "legend": {
         "title": {
          "text": "variable"
         },
         "tracegroupgap": 0
        },
        "margin": {
         "t": 60
        },
        "template": {
         "data": {
          "bar": [
           {
            "error_x": {
             "color": "#2a3f5f"
            },
            "error_y": {
             "color": "#2a3f5f"
            },
            "marker": {
             "line": {
              "color": "white",
              "width": 0.5
             },
             "pattern": {
              "fillmode": "overlay",
              "size": 10,
              "solidity": 0.2
             }
            },
            "type": "bar"
           }
          ],
          "barpolar": [
           {
            "marker": {
             "line": {
              "color": "white",
              "width": 0.5
             },
             "pattern": {
              "fillmode": "overlay",
              "size": 10,
              "solidity": 0.2
             }
            },
            "type": "barpolar"
           }
          ],
          "carpet": [
           {
            "aaxis": {
             "endlinecolor": "#2a3f5f",
             "gridcolor": "#C8D4E3",
             "linecolor": "#C8D4E3",
             "minorgridcolor": "#C8D4E3",
             "startlinecolor": "#2a3f5f"
            },
            "baxis": {
             "endlinecolor": "#2a3f5f",
             "gridcolor": "#C8D4E3",
             "linecolor": "#C8D4E3",
             "minorgridcolor": "#C8D4E3",
             "startlinecolor": "#2a3f5f"
            },
            "type": "carpet"
           }
          ],
          "choropleth": [
           {
            "colorbar": {
             "outlinewidth": 0,
             "ticks": ""
            },
            "type": "choropleth"
           }
          ],
          "contour": [
           {
            "colorbar": {
             "outlinewidth": 0,
             "ticks": ""
            },
            "colorscale": [
             [
              0,
              "#0d0887"
             ],
             [
              0.1111111111111111,
              "#46039f"
             ],
             [
              0.2222222222222222,
              "#7201a8"
             ],
             [
              0.3333333333333333,
              "#9c179e"
             ],
             [
              0.4444444444444444,
              "#bd3786"
             ],
             [
              0.5555555555555556,
              "#d8576b"
             ],
             [
              0.6666666666666666,
              "#ed7953"
             ],
             [
              0.7777777777777778,
              "#fb9f3a"
             ],
             [
              0.8888888888888888,
              "#fdca26"
             ],
             [
              1,
              "#f0f921"
             ]
            ],
            "type": "contour"
           }
          ],
          "contourcarpet": [
           {
            "colorbar": {
             "outlinewidth": 0,
             "ticks": ""
            },
            "type": "contourcarpet"
           }
          ],
          "heatmap": [
           {
            "colorbar": {
             "outlinewidth": 0,
             "ticks": ""
            },
            "colorscale": [
             [
              0,
              "#0d0887"
             ],
             [
              0.1111111111111111,
              "#46039f"
             ],
             [
              0.2222222222222222,
              "#7201a8"
             ],
             [
              0.3333333333333333,
              "#9c179e"
             ],
             [
              0.4444444444444444,
              "#bd3786"
             ],
             [
              0.5555555555555556,
              "#d8576b"
             ],
             [
              0.6666666666666666,
              "#ed7953"
             ],
             [
              0.7777777777777778,
              "#fb9f3a"
             ],
             [
              0.8888888888888888,
              "#fdca26"
             ],
             [
              1,
              "#f0f921"
             ]
            ],
            "type": "heatmap"
           }
          ],
          "heatmapgl": [
           {
            "colorbar": {
             "outlinewidth": 0,
             "ticks": ""
            },
            "colorscale": [
             [
              0,
              "#0d0887"
             ],
             [
              0.1111111111111111,
              "#46039f"
             ],
             [
              0.2222222222222222,
              "#7201a8"
             ],
             [
              0.3333333333333333,
              "#9c179e"
             ],
             [
              0.4444444444444444,
              "#bd3786"
             ],
             [
              0.5555555555555556,
              "#d8576b"
             ],
             [
              0.6666666666666666,
              "#ed7953"
             ],
             [
              0.7777777777777778,
              "#fb9f3a"
             ],
             [
              0.8888888888888888,
              "#fdca26"
             ],
             [
              1,
              "#f0f921"
             ]
            ],
            "type": "heatmapgl"
           }
          ],
          "histogram": [
           {
            "marker": {
             "pattern": {
              "fillmode": "overlay",
              "size": 10,
              "solidity": 0.2
             }
            },
            "type": "histogram"
           }
          ],
          "histogram2d": [
           {
            "colorbar": {
             "outlinewidth": 0,
             "ticks": ""
            },
            "colorscale": [
             [
              0,
              "#0d0887"
             ],
             [
              0.1111111111111111,
              "#46039f"
             ],
             [
              0.2222222222222222,
              "#7201a8"
             ],
             [
              0.3333333333333333,
              "#9c179e"
             ],
             [
              0.4444444444444444,
              "#bd3786"
             ],
             [
              0.5555555555555556,
              "#d8576b"
             ],
             [
              0.6666666666666666,
              "#ed7953"
             ],
             [
              0.7777777777777778,
              "#fb9f3a"
             ],
             [
              0.8888888888888888,
              "#fdca26"
             ],
             [
              1,
              "#f0f921"
             ]
            ],
            "type": "histogram2d"
           }
          ],
          "histogram2dcontour": [
           {
            "colorbar": {
             "outlinewidth": 0,
             "ticks": ""
            },
            "colorscale": [
             [
              0,
              "#0d0887"
             ],
             [
              0.1111111111111111,
              "#46039f"
             ],
             [
              0.2222222222222222,
              "#7201a8"
             ],
             [
              0.3333333333333333,
              "#9c179e"
             ],
             [
              0.4444444444444444,
              "#bd3786"
             ],
             [
              0.5555555555555556,
              "#d8576b"
             ],
             [
              0.6666666666666666,
              "#ed7953"
             ],
             [
              0.7777777777777778,
              "#fb9f3a"
             ],
             [
              0.8888888888888888,
              "#fdca26"
             ],
             [
              1,
              "#f0f921"
             ]
            ],
            "type": "histogram2dcontour"
           }
          ],
          "mesh3d": [
           {
            "colorbar": {
             "outlinewidth": 0,
             "ticks": ""
            },
            "type": "mesh3d"
           }
          ],
          "parcoords": [
           {
            "line": {
             "colorbar": {
              "outlinewidth": 0,
              "ticks": ""
             }
            },
            "type": "parcoords"
           }
          ],
          "pie": [
           {
            "automargin": true,
            "type": "pie"
           }
          ],
          "scatter": [
           {
            "fillpattern": {
             "fillmode": "overlay",
             "size": 10,
             "solidity": 0.2
            },
            "type": "scatter"
           }
          ],
          "scatter3d": [
           {
            "line": {
             "colorbar": {
              "outlinewidth": 0,
              "ticks": ""
             }
            },
            "marker": {
             "colorbar": {
              "outlinewidth": 0,
              "ticks": ""
             }
            },
            "type": "scatter3d"
           }
          ],
          "scattercarpet": [
           {
            "marker": {
             "colorbar": {
              "outlinewidth": 0,
              "ticks": ""
             }
            },
            "type": "scattercarpet"
           }
          ],
          "scattergeo": [
           {
            "marker": {
             "colorbar": {
              "outlinewidth": 0,
              "ticks": ""
             }
            },
            "type": "scattergeo"
           }
          ],
          "scattergl": [
           {
            "marker": {
             "colorbar": {
              "outlinewidth": 0,
              "ticks": ""
             }
            },
            "type": "scattergl"
           }
          ],
          "scattermapbox": [
           {
            "marker": {
             "colorbar": {
              "outlinewidth": 0,
              "ticks": ""
             }
            },
            "type": "scattermapbox"
           }
          ],
          "scatterpolar": [
           {
            "marker": {
             "colorbar": {
              "outlinewidth": 0,
              "ticks": ""
             }
            },
            "type": "scatterpolar"
           }
          ],
          "scatterpolargl": [
           {
            "marker": {
             "colorbar": {
              "outlinewidth": 0,
              "ticks": ""
             }
            },
            "type": "scatterpolargl"
           }
          ],
          "scatterternary": [
           {
            "marker": {
             "colorbar": {
              "outlinewidth": 0,
              "ticks": ""
             }
            },
            "type": "scatterternary"
           }
          ],
          "surface": [
           {
            "colorbar": {
             "outlinewidth": 0,
             "ticks": ""
            },
            "colorscale": [
             [
              0,
              "#0d0887"
             ],
             [
              0.1111111111111111,
              "#46039f"
             ],
             [
              0.2222222222222222,
              "#7201a8"
             ],
             [
              0.3333333333333333,
              "#9c179e"
             ],
             [
              0.4444444444444444,
              "#bd3786"
             ],
             [
              0.5555555555555556,
              "#d8576b"
             ],
             [
              0.6666666666666666,
              "#ed7953"
             ],
             [
              0.7777777777777778,
              "#fb9f3a"
             ],
             [
              0.8888888888888888,
              "#fdca26"
             ],
             [
              1,
              "#f0f921"
             ]
            ],
            "type": "surface"
           }
          ],
          "table": [
           {
            "cells": {
             "fill": {
              "color": "#EBF0F8"
             },
             "line": {
              "color": "white"
             }
            },
            "header": {
             "fill": {
              "color": "#C8D4E3"
             },
             "line": {
              "color": "white"
             }
            },
            "type": "table"
           }
          ]
         },
         "layout": {
          "annotationdefaults": {
           "arrowcolor": "#2a3f5f",
           "arrowhead": 0,
           "arrowwidth": 1
          },
          "autotypenumbers": "strict",
          "coloraxis": {
           "colorbar": {
            "outlinewidth": 0,
            "ticks": ""
           }
          },
          "colorscale": {
           "diverging": [
            [
             0,
             "#8e0152"
            ],
            [
             0.1,
             "#c51b7d"
            ],
            [
             0.2,
             "#de77ae"
            ],
            [
             0.3,
             "#f1b6da"
            ],
            [
             0.4,
             "#fde0ef"
            ],
            [
             0.5,
             "#f7f7f7"
            ],
            [
             0.6,
             "#e6f5d0"
            ],
            [
             0.7,
             "#b8e186"
            ],
            [
             0.8,
             "#7fbc41"
            ],
            [
             0.9,
             "#4d9221"
            ],
            [
             1,
             "#276419"
            ]
           ],
           "sequential": [
            [
             0,
             "#0d0887"
            ],
            [
             0.1111111111111111,
             "#46039f"
            ],
            [
             0.2222222222222222,
             "#7201a8"
            ],
            [
             0.3333333333333333,
             "#9c179e"
            ],
            [
             0.4444444444444444,
             "#bd3786"
            ],
            [
             0.5555555555555556,
             "#d8576b"
            ],
            [
             0.6666666666666666,
             "#ed7953"
            ],
            [
             0.7777777777777778,
             "#fb9f3a"
            ],
            [
             0.8888888888888888,
             "#fdca26"
            ],
            [
             1,
             "#f0f921"
            ]
           ],
           "sequentialminus": [
            [
             0,
             "#0d0887"
            ],
            [
             0.1111111111111111,
             "#46039f"
            ],
            [
             0.2222222222222222,
             "#7201a8"
            ],
            [
             0.3333333333333333,
             "#9c179e"
            ],
            [
             0.4444444444444444,
             "#bd3786"
            ],
            [
             0.5555555555555556,
             "#d8576b"
            ],
            [
             0.6666666666666666,
             "#ed7953"
            ],
            [
             0.7777777777777778,
             "#fb9f3a"
            ],
            [
             0.8888888888888888,
             "#fdca26"
            ],
            [
             1,
             "#f0f921"
            ]
           ]
          },
          "colorway": [
           "#636efa",
           "#EF553B",
           "#00cc96",
           "#ab63fa",
           "#FFA15A",
           "#19d3f3",
           "#FF6692",
           "#B6E880",
           "#FF97FF",
           "#FECB52"
          ],
          "font": {
           "color": "#2a3f5f"
          },
          "geo": {
           "bgcolor": "white",
           "lakecolor": "white",
           "landcolor": "white",
           "showlakes": true,
           "showland": true,
           "subunitcolor": "#C8D4E3"
          },
          "hoverlabel": {
           "align": "left"
          },
          "hovermode": "closest",
          "mapbox": {
           "style": "light"
          },
          "paper_bgcolor": "white",
          "plot_bgcolor": "white",
          "polar": {
           "angularaxis": {
            "gridcolor": "#EBF0F8",
            "linecolor": "#EBF0F8",
            "ticks": ""
           },
           "bgcolor": "white",
           "radialaxis": {
            "gridcolor": "#EBF0F8",
            "linecolor": "#EBF0F8",
            "ticks": ""
           }
          },
          "scene": {
           "xaxis": {
            "backgroundcolor": "white",
            "gridcolor": "#DFE8F3",
            "gridwidth": 2,
            "linecolor": "#EBF0F8",
            "showbackground": true,
            "ticks": "",
            "zerolinecolor": "#EBF0F8"
           },
           "yaxis": {
            "backgroundcolor": "white",
            "gridcolor": "#DFE8F3",
            "gridwidth": 2,
            "linecolor": "#EBF0F8",
            "showbackground": true,
            "ticks": "",
            "zerolinecolor": "#EBF0F8"
           },
           "zaxis": {
            "backgroundcolor": "white",
            "gridcolor": "#DFE8F3",
            "gridwidth": 2,
            "linecolor": "#EBF0F8",
            "showbackground": true,
            "ticks": "",
            "zerolinecolor": "#EBF0F8"
           }
          },
          "shapedefaults": {
           "line": {
            "color": "#2a3f5f"
           }
          },
          "ternary": {
           "aaxis": {
            "gridcolor": "#DFE8F3",
            "linecolor": "#A2B1C6",
            "ticks": ""
           },
           "baxis": {
            "gridcolor": "#DFE8F3",
            "linecolor": "#A2B1C6",
            "ticks": ""
           },
           "bgcolor": "white",
           "caxis": {
            "gridcolor": "#DFE8F3",
            "linecolor": "#A2B1C6",
            "ticks": ""
           }
          },
          "title": {
           "x": 0.05
          },
          "xaxis": {
           "automargin": true,
           "gridcolor": "#EBF0F8",
           "linecolor": "#EBF0F8",
           "ticks": "",
           "title": {
            "standoff": 15
           },
           "zerolinecolor": "#EBF0F8",
           "zerolinewidth": 2
          },
          "yaxis": {
           "automargin": true,
           "gridcolor": "#EBF0F8",
           "linecolor": "#EBF0F8",
           "ticks": "",
           "title": {
            "standoff": 15
           },
           "zerolinecolor": "#EBF0F8",
           "zerolinewidth": 2
          }
         }
        },
        "width": 800,
        "xaxis": {
         "anchor": "y",
         "domain": [
          0,
          1
         ],
         "title": {
          "text": "Application Filing Year"
         }
        },
        "yaxis": {
         "anchor": "x",
         "domain": [
          0,
          1
         ],
         "title": {
          "text": "% of Applications Issued Permits"
         }
        }
       }
      },
      "text/html": [
       "<div>                            <div id=\"556d9a46-0c59-4f50-bf1e-88c0091c08d7\" class=\"plotly-graph-div\" style=\"height:525px; width:800px;\"></div>            <script type=\"text/javascript\">                require([\"plotly\"], function(Plotly) {                    window.PLOTLYENV=window.PLOTLYENV || {};                                    if (document.getElementById(\"556d9a46-0c59-4f50-bf1e-88c0091c08d7\")) {                    Plotly.newPlot(                        \"556d9a46-0c59-4f50-bf1e-88c0091c08d7\",                        [{\"hovertemplate\":\"variable=% Issued After 2 Years\\u003cbr\\u003eApplication Filing Year=%{x}\\u003cbr\\u003e% of Applications Issued Permits=%{y}\\u003cextra\\u003e\\u003c\\u002fextra\\u003e\",\"legendgroup\":\"% Issued After 2 Years\",\"line\":{\"color\":\"#636efa\",\"dash\":\"solid\"},\"marker\":{\"symbol\":\"circle\"},\"mode\":\"lines\",\"name\":\"% Issued After 2 Years\",\"orientation\":\"v\",\"showlegend\":true,\"x\":[2004,2005,2006,2007,2008,2009,2010,2011,2012,2013,2014,2015,2016,2017,2018,2019,2020,2021],\"xaxis\":\"x\",\"y\":[47.15025906735752,52.87356321839081,49.13294797687861,33.557046979865774,42.2680412371134,44.26229508196721,39.784946236559136,67.3913043478261,79.1044776119403,66.91176470588235,50.505050505050505,63.95348837209303,50.27624309392266,37.03703703703704,33.02752293577982,15.929203539823009,25.675675675675674,33.04347826086956],\"yaxis\":\"y\",\"type\":\"scatter\"},{\"hovertemplate\":\"variable=% Issued After 3 Years\\u003cbr\\u003eApplication Filing Year=%{x}\\u003cbr\\u003e% of Applications Issued Permits=%{y}\\u003cextra\\u003e\\u003c\\u002fextra\\u003e\",\"legendgroup\":\"% Issued After 3 Years\",\"line\":{\"color\":\"#EF553B\",\"dash\":\"solid\"},\"marker\":{\"symbol\":\"circle\"},\"mode\":\"lines\",\"name\":\"% Issued After 3 Years\",\"orientation\":\"v\",\"showlegend\":true,\"x\":[2004,2005,2006,2007,2008,2009,2010,2011,2012,2013,2014,2015,2016,2017,2018,2019,2020,2021],\"xaxis\":\"x\",\"y\":[69.43005181347151,64.75095785440614,57.22543352601156,38.25503355704698,52.57731958762887,55.73770491803278,48.38709677419355,71.73913043478261,81.34328358208955,79.41176470588235,70.70707070707071,72.09302325581395,61.87845303867403,48.148148148148145,53.21100917431193,27.876106194690266,39.189189189189186,null],\"yaxis\":\"y\",\"type\":\"scatter\"},{\"hovertemplate\":\"variable=% Issued After 4 Years\\u003cbr\\u003eApplication Filing Year=%{x}\\u003cbr\\u003e% of Applications Issued Permits=%{y}\\u003cextra\\u003e\\u003c\\u002fextra\\u003e\",\"legendgroup\":\"% Issued After 4 Years\",\"line\":{\"color\":\"#00cc96\",\"dash\":\"solid\"},\"marker\":{\"symbol\":\"circle\"},\"mode\":\"lines\",\"name\":\"% Issued After 4 Years\",\"orientation\":\"v\",\"showlegend\":true,\"x\":[2004,2005,2006,2007,2008,2009,2010,2011,2012,2013,2014,2015,2016,2017,2018,2019,2020,2021],\"xaxis\":\"x\",\"y\":[74.61139896373057,67.43295019157088,60.69364161849711,51.67785234899329,55.670103092783506,72.1311475409836,49.46236559139785,76.08695652173914,85.82089552238806,85.29411764705883,74.74747474747475,75.5813953488372,74.03314917127072,52.77777777777778,56.88073394495413,31.858407079646017,null,null],\"yaxis\":\"y\",\"type\":\"scatter\"}],                        {\"template\":{\"data\":{\"barpolar\":[{\"marker\":{\"line\":{\"color\":\"white\",\"width\":0.5},\"pattern\":{\"fillmode\":\"overlay\",\"size\":10,\"solidity\":0.2}},\"type\":\"barpolar\"}],\"bar\":[{\"error_x\":{\"color\":\"#2a3f5f\"},\"error_y\":{\"color\":\"#2a3f5f\"},\"marker\":{\"line\":{\"color\":\"white\",\"width\":0.5},\"pattern\":{\"fillmode\":\"overlay\",\"size\":10,\"solidity\":0.2}},\"type\":\"bar\"}],\"carpet\":[{\"aaxis\":{\"endlinecolor\":\"#2a3f5f\",\"gridcolor\":\"#C8D4E3\",\"linecolor\":\"#C8D4E3\",\"minorgridcolor\":\"#C8D4E3\",\"startlinecolor\":\"#2a3f5f\"},\"baxis\":{\"endlinecolor\":\"#2a3f5f\",\"gridcolor\":\"#C8D4E3\",\"linecolor\":\"#C8D4E3\",\"minorgridcolor\":\"#C8D4E3\",\"startlinecolor\":\"#2a3f5f\"},\"type\":\"carpet\"}],\"choropleth\":[{\"colorbar\":{\"outlinewidth\":0,\"ticks\":\"\"},\"type\":\"choropleth\"}],\"contourcarpet\":[{\"colorbar\":{\"outlinewidth\":0,\"ticks\":\"\"},\"type\":\"contourcarpet\"}],\"contour\":[{\"colorbar\":{\"outlinewidth\":0,\"ticks\":\"\"},\"colorscale\":[[0.0,\"#0d0887\"],[0.1111111111111111,\"#46039f\"],[0.2222222222222222,\"#7201a8\"],[0.3333333333333333,\"#9c179e\"],[0.4444444444444444,\"#bd3786\"],[0.5555555555555556,\"#d8576b\"],[0.6666666666666666,\"#ed7953\"],[0.7777777777777778,\"#fb9f3a\"],[0.8888888888888888,\"#fdca26\"],[1.0,\"#f0f921\"]],\"type\":\"contour\"}],\"heatmapgl\":[{\"colorbar\":{\"outlinewidth\":0,\"ticks\":\"\"},\"colorscale\":[[0.0,\"#0d0887\"],[0.1111111111111111,\"#46039f\"],[0.2222222222222222,\"#7201a8\"],[0.3333333333333333,\"#9c179e\"],[0.4444444444444444,\"#bd3786\"],[0.5555555555555556,\"#d8576b\"],[0.6666666666666666,\"#ed7953\"],[0.7777777777777778,\"#fb9f3a\"],[0.8888888888888888,\"#fdca26\"],[1.0,\"#f0f921\"]],\"type\":\"heatmapgl\"}],\"heatmap\":[{\"colorbar\":{\"outlinewidth\":0,\"ticks\":\"\"},\"colorscale\":[[0.0,\"#0d0887\"],[0.1111111111111111,\"#46039f\"],[0.2222222222222222,\"#7201a8\"],[0.3333333333333333,\"#9c179e\"],[0.4444444444444444,\"#bd3786\"],[0.5555555555555556,\"#d8576b\"],[0.6666666666666666,\"#ed7953\"],[0.7777777777777778,\"#fb9f3a\"],[0.8888888888888888,\"#fdca26\"],[1.0,\"#f0f921\"]],\"type\":\"heatmap\"}],\"histogram2dcontour\":[{\"colorbar\":{\"outlinewidth\":0,\"ticks\":\"\"},\"colorscale\":[[0.0,\"#0d0887\"],[0.1111111111111111,\"#46039f\"],[0.2222222222222222,\"#7201a8\"],[0.3333333333333333,\"#9c179e\"],[0.4444444444444444,\"#bd3786\"],[0.5555555555555556,\"#d8576b\"],[0.6666666666666666,\"#ed7953\"],[0.7777777777777778,\"#fb9f3a\"],[0.8888888888888888,\"#fdca26\"],[1.0,\"#f0f921\"]],\"type\":\"histogram2dcontour\"}],\"histogram2d\":[{\"colorbar\":{\"outlinewidth\":0,\"ticks\":\"\"},\"colorscale\":[[0.0,\"#0d0887\"],[0.1111111111111111,\"#46039f\"],[0.2222222222222222,\"#7201a8\"],[0.3333333333333333,\"#9c179e\"],[0.4444444444444444,\"#bd3786\"],[0.5555555555555556,\"#d8576b\"],[0.6666666666666666,\"#ed7953\"],[0.7777777777777778,\"#fb9f3a\"],[0.8888888888888888,\"#fdca26\"],[1.0,\"#f0f921\"]],\"type\":\"histogram2d\"}],\"histogram\":[{\"marker\":{\"pattern\":{\"fillmode\":\"overlay\",\"size\":10,\"solidity\":0.2}},\"type\":\"histogram\"}],\"mesh3d\":[{\"colorbar\":{\"outlinewidth\":0,\"ticks\":\"\"},\"type\":\"mesh3d\"}],\"parcoords\":[{\"line\":{\"colorbar\":{\"outlinewidth\":0,\"ticks\":\"\"}},\"type\":\"parcoords\"}],\"pie\":[{\"automargin\":true,\"type\":\"pie\"}],\"scatter3d\":[{\"line\":{\"colorbar\":{\"outlinewidth\":0,\"ticks\":\"\"}},\"marker\":{\"colorbar\":{\"outlinewidth\":0,\"ticks\":\"\"}},\"type\":\"scatter3d\"}],\"scattercarpet\":[{\"marker\":{\"colorbar\":{\"outlinewidth\":0,\"ticks\":\"\"}},\"type\":\"scattercarpet\"}],\"scattergeo\":[{\"marker\":{\"colorbar\":{\"outlinewidth\":0,\"ticks\":\"\"}},\"type\":\"scattergeo\"}],\"scattergl\":[{\"marker\":{\"colorbar\":{\"outlinewidth\":0,\"ticks\":\"\"}},\"type\":\"scattergl\"}],\"scattermapbox\":[{\"marker\":{\"colorbar\":{\"outlinewidth\":0,\"ticks\":\"\"}},\"type\":\"scattermapbox\"}],\"scatterpolargl\":[{\"marker\":{\"colorbar\":{\"outlinewidth\":0,\"ticks\":\"\"}},\"type\":\"scatterpolargl\"}],\"scatterpolar\":[{\"marker\":{\"colorbar\":{\"outlinewidth\":0,\"ticks\":\"\"}},\"type\":\"scatterpolar\"}],\"scatter\":[{\"fillpattern\":{\"fillmode\":\"overlay\",\"size\":10,\"solidity\":0.2},\"type\":\"scatter\"}],\"scatterternary\":[{\"marker\":{\"colorbar\":{\"outlinewidth\":0,\"ticks\":\"\"}},\"type\":\"scatterternary\"}],\"surface\":[{\"colorbar\":{\"outlinewidth\":0,\"ticks\":\"\"},\"colorscale\":[[0.0,\"#0d0887\"],[0.1111111111111111,\"#46039f\"],[0.2222222222222222,\"#7201a8\"],[0.3333333333333333,\"#9c179e\"],[0.4444444444444444,\"#bd3786\"],[0.5555555555555556,\"#d8576b\"],[0.6666666666666666,\"#ed7953\"],[0.7777777777777778,\"#fb9f3a\"],[0.8888888888888888,\"#fdca26\"],[1.0,\"#f0f921\"]],\"type\":\"surface\"}],\"table\":[{\"cells\":{\"fill\":{\"color\":\"#EBF0F8\"},\"line\":{\"color\":\"white\"}},\"header\":{\"fill\":{\"color\":\"#C8D4E3\"},\"line\":{\"color\":\"white\"}},\"type\":\"table\"}]},\"layout\":{\"annotationdefaults\":{\"arrowcolor\":\"#2a3f5f\",\"arrowhead\":0,\"arrowwidth\":1},\"autotypenumbers\":\"strict\",\"coloraxis\":{\"colorbar\":{\"outlinewidth\":0,\"ticks\":\"\"}},\"colorscale\":{\"diverging\":[[0,\"#8e0152\"],[0.1,\"#c51b7d\"],[0.2,\"#de77ae\"],[0.3,\"#f1b6da\"],[0.4,\"#fde0ef\"],[0.5,\"#f7f7f7\"],[0.6,\"#e6f5d0\"],[0.7,\"#b8e186\"],[0.8,\"#7fbc41\"],[0.9,\"#4d9221\"],[1,\"#276419\"]],\"sequential\":[[0.0,\"#0d0887\"],[0.1111111111111111,\"#46039f\"],[0.2222222222222222,\"#7201a8\"],[0.3333333333333333,\"#9c179e\"],[0.4444444444444444,\"#bd3786\"],[0.5555555555555556,\"#d8576b\"],[0.6666666666666666,\"#ed7953\"],[0.7777777777777778,\"#fb9f3a\"],[0.8888888888888888,\"#fdca26\"],[1.0,\"#f0f921\"]],\"sequentialminus\":[[0.0,\"#0d0887\"],[0.1111111111111111,\"#46039f\"],[0.2222222222222222,\"#7201a8\"],[0.3333333333333333,\"#9c179e\"],[0.4444444444444444,\"#bd3786\"],[0.5555555555555556,\"#d8576b\"],[0.6666666666666666,\"#ed7953\"],[0.7777777777777778,\"#fb9f3a\"],[0.8888888888888888,\"#fdca26\"],[1.0,\"#f0f921\"]]},\"colorway\":[\"#636efa\",\"#EF553B\",\"#00cc96\",\"#ab63fa\",\"#FFA15A\",\"#19d3f3\",\"#FF6692\",\"#B6E880\",\"#FF97FF\",\"#FECB52\"],\"font\":{\"color\":\"#2a3f5f\"},\"geo\":{\"bgcolor\":\"white\",\"lakecolor\":\"white\",\"landcolor\":\"white\",\"showlakes\":true,\"showland\":true,\"subunitcolor\":\"#C8D4E3\"},\"hoverlabel\":{\"align\":\"left\"},\"hovermode\":\"closest\",\"mapbox\":{\"style\":\"light\"},\"paper_bgcolor\":\"white\",\"plot_bgcolor\":\"white\",\"polar\":{\"angularaxis\":{\"gridcolor\":\"#EBF0F8\",\"linecolor\":\"#EBF0F8\",\"ticks\":\"\"},\"bgcolor\":\"white\",\"radialaxis\":{\"gridcolor\":\"#EBF0F8\",\"linecolor\":\"#EBF0F8\",\"ticks\":\"\"}},\"scene\":{\"xaxis\":{\"backgroundcolor\":\"white\",\"gridcolor\":\"#DFE8F3\",\"gridwidth\":2,\"linecolor\":\"#EBF0F8\",\"showbackground\":true,\"ticks\":\"\",\"zerolinecolor\":\"#EBF0F8\"},\"yaxis\":{\"backgroundcolor\":\"white\",\"gridcolor\":\"#DFE8F3\",\"gridwidth\":2,\"linecolor\":\"#EBF0F8\",\"showbackground\":true,\"ticks\":\"\",\"zerolinecolor\":\"#EBF0F8\"},\"zaxis\":{\"backgroundcolor\":\"white\",\"gridcolor\":\"#DFE8F3\",\"gridwidth\":2,\"linecolor\":\"#EBF0F8\",\"showbackground\":true,\"ticks\":\"\",\"zerolinecolor\":\"#EBF0F8\"}},\"shapedefaults\":{\"line\":{\"color\":\"#2a3f5f\"}},\"ternary\":{\"aaxis\":{\"gridcolor\":\"#DFE8F3\",\"linecolor\":\"#A2B1C6\",\"ticks\":\"\"},\"baxis\":{\"gridcolor\":\"#DFE8F3\",\"linecolor\":\"#A2B1C6\",\"ticks\":\"\"},\"bgcolor\":\"white\",\"caxis\":{\"gridcolor\":\"#DFE8F3\",\"linecolor\":\"#A2B1C6\",\"ticks\":\"\"}},\"title\":{\"x\":0.05},\"xaxis\":{\"automargin\":true,\"gridcolor\":\"#EBF0F8\",\"linecolor\":\"#EBF0F8\",\"ticks\":\"\",\"title\":{\"standoff\":15},\"zerolinecolor\":\"#EBF0F8\",\"zerolinewidth\":2},\"yaxis\":{\"automargin\":true,\"gridcolor\":\"#EBF0F8\",\"linecolor\":\"#EBF0F8\",\"ticks\":\"\",\"title\":{\"standoff\":15},\"zerolinecolor\":\"#EBF0F8\",\"zerolinewidth\":2}}},\"xaxis\":{\"anchor\":\"y\",\"domain\":[0.0,1.0],\"title\":{\"text\":\"Application Filing Year\"}},\"yaxis\":{\"anchor\":\"x\",\"domain\":[0.0,1.0],\"title\":{\"text\":\"% of Applications Issued Permits\"}},\"legend\":{\"title\":{\"text\":\"variable\"},\"tracegroupgap\":0},\"margin\":{\"t\":60},\"width\":800},                        {\"responsive\": true}                    ).then(function(){\n",
       "                            \n",
       "var gd = document.getElementById('556d9a46-0c59-4f50-bf1e-88c0091c08d7');\n",
       "var x = new MutationObserver(function (mutations, observer) {{\n",
       "        var display = window.getComputedStyle(gd).display;\n",
       "        if (!display || display === 'none') {{\n",
       "            console.log([gd, 'removed!']);\n",
       "            Plotly.purge(gd);\n",
       "            observer.disconnect();\n",
       "        }}\n",
       "}});\n",
       "\n",
       "// Listen for the removal of the full notebook cells\n",
       "var notebookContainer = gd.closest('#notebook-container');\n",
       "if (notebookContainer) {{\n",
       "    x.observe(notebookContainer, {childList: true});\n",
       "}}\n",
       "\n",
       "// Listen for the clearing of the current output cell\n",
       "var outputEl = gd.closest('.output');\n",
       "if (outputEl) {{\n",
       "    x.observe(outputEl, {childList: true});\n",
       "}}\n",
       "\n",
       "                        })                };                });            </script>        </div>"
      ]
     },
     "metadata": {},
     "output_type": "display_data"
    }
   ],
   "source": [
    "def _make_percentage_of_permits_issued_in_n_years(n):\n",
    "    def _fn(s):\n",
    "        # Unissued permits, where Issued Date is NaN , will have a NaT duration,\n",
    "        # whose days property is NaN, which is never <= C for any constant value C.\n",
    "        issuing_duration = s[\"Issued Date\"] - s[\"Filed Date\"]\n",
    "        issuing_duration_less_than_n_years = issuing_duration.apply(lambda x: x.days <= n * 365)\n",
    "        percentage_issued_in_less_than_n_years = 100 * issuing_duration_less_than_n_years.astype(int).mean()\n",
    "        return percentage_issued_in_less_than_n_years\n",
    "    return _fn\n",
    "\n",
    "\n",
    "def _get_approval_rates_over_waiting_periods(df_):\n",
    "    grouped_by_file_year = df_.groupby(\n",
    "        lambda idx: df_.loc[idx][\"Filed Date\"].year\n",
    "    )\n",
    "    percentage_of_permits_approved_in_two_years = grouped_by_file_year.apply(\n",
    "        _make_percentage_of_permits_issued_in_n_years(2)\n",
    "    ).drop([2022, 2023])\n",
    "    percentage_of_permits_approved_in_three_years = grouped_by_file_year.apply(\n",
    "        _make_percentage_of_permits_issued_in_n_years(3)\n",
    "    ).drop([2021, 2022, 2023])\n",
    "    percentage_of_permits_approved_in_four_years = grouped_by_file_year.apply(\n",
    "        _make_percentage_of_permits_issued_in_n_years(4)\n",
    "    ).drop([2020, 2021, 2022, 2023])\n",
    "\n",
    "    approval_rates = pd.concat([\n",
    "        percentage_of_permits_approved_in_two_years,\n",
    "        percentage_of_permits_approved_in_three_years,\n",
    "        percentage_of_permits_approved_in_four_years,\n",
    "    ], axis=1, keys=[\"% Issued After 2 Years\", \"% Issued After 3 Years\", \"% Issued After 4 Years\"])\n",
    "    return approval_rates    \n",
    "\n",
    "permits_filed_in_last_20_years = permits_df[permits_df[\"Filed Date\"].apply(lambda x: x.year >= 2004 and x.year <= 2023)]\n",
    "overall_approval_rates = _get_approval_rates_over_waiting_periods(permits_filed_in_last_20_years)\n",
    "fig = px.line(overall_approval_rates, labels={\"value\": \"% of Applications Issued Permits\", \"index\": \"Application Filing Year\"}, width=800, template=\"plotly_white\")\n",
    "\n",
    "plotly.offline.init_notebook_mode(connected=True)\n",
    "display(fig)"
   ]
  },
  {
   "cell_type": "markdown",
   "metadata": {},
   "source": [
    "The Deputy Director of Permit Services, Neville Pereira, attributed the long wait times to the growing backlog of permit applications caused by lay-offs after the 2008 recession and disruptions from by COVID-19<sup>[7](https://www.sfchronicle.com/sf/article/housing-permits-san-francisco-17652633.php)</sup>. We can see the growing backlog as evidence of a decade long problem, starting in the early 2010s and exacerbated by the pandemic in 2020. The departments responsible for processing these applications clearly did not have enough resources to meet the demand. With such an evident signal of the problem, I'm left to wonder why it went on unabated for so long."
   ]
  },
  {
   "cell_type": "code",
   "execution_count": 26,
   "metadata": {},
   "outputs": [
    {
     "data": {
      "text/html": [
       "        <script type=\"text/javascript\">\n",
       "        window.PlotlyConfig = {MathJaxConfig: 'local'};\n",
       "        if (window.MathJax && window.MathJax.Hub && window.MathJax.Hub.Config) {window.MathJax.Hub.Config({SVG: {font: \"STIX-Web\"}});}\n",
       "        if (typeof require !== 'undefined') {\n",
       "        require.undef(\"plotly\");\n",
       "        requirejs.config({\n",
       "            paths: {\n",
       "                'plotly': ['https://cdn.plot.ly/plotly-2.35.0.min']\n",
       "            }\n",
       "        });\n",
       "        require(['plotly'], function(Plotly) {\n",
       "            window._Plotly = Plotly;\n",
       "        });\n",
       "        }\n",
       "        </script>\n",
       "        "
      ]
     },
     "metadata": {},
     "output_type": "display_data"
    },
    {
     "data": {
      "application/vnd.plotly.v1+json": {
       "config": {
        "plotlyServerURL": "https://plot.ly"
       },
       "data": [
        {
         "hovertemplate": "variable=0<br>Time=%{x}<br>Number of In-Progress Permit Applications=%{y}<extra></extra>",
         "legendgroup": "0",
         "line": {
          "color": "#636efa",
          "dash": "solid"
         },
         "marker": {
          "symbol": "circle"
         },
         "mode": "lines",
         "name": "0",
         "orientation": "v",
         "showlegend": true,
         "type": "scatter",
         "x": [
          "2004-01-01T00:00:00",
          "2004-04-01T00:00:00",
          "2004-07-01T00:00:00",
          "2004-10-01T00:00:00",
          "2005-01-01T00:00:00",
          "2005-04-01T00:00:00",
          "2005-07-01T00:00:00",
          "2005-10-01T00:00:00",
          "2006-01-01T00:00:00",
          "2006-04-01T00:00:00",
          "2006-07-01T00:00:00",
          "2006-10-01T00:00:00",
          "2007-01-01T00:00:00",
          "2007-04-01T00:00:00",
          "2007-07-01T00:00:00",
          "2007-10-01T00:00:00",
          "2008-01-01T00:00:00",
          "2008-04-01T00:00:00",
          "2008-07-01T00:00:00",
          "2008-10-01T00:00:00",
          "2009-01-01T00:00:00",
          "2009-04-01T00:00:00",
          "2009-07-01T00:00:00",
          "2009-10-01T00:00:00",
          "2010-01-01T00:00:00",
          "2010-04-01T00:00:00",
          "2010-07-01T00:00:00",
          "2010-10-01T00:00:00",
          "2011-01-01T00:00:00",
          "2011-04-01T00:00:00",
          "2011-07-01T00:00:00",
          "2011-10-01T00:00:00",
          "2012-01-01T00:00:00",
          "2012-04-01T00:00:00",
          "2012-07-01T00:00:00",
          "2012-10-01T00:00:00",
          "2013-01-01T00:00:00",
          "2013-04-01T00:00:00",
          "2013-07-01T00:00:00",
          "2013-10-01T00:00:00",
          "2014-01-01T00:00:00",
          "2014-04-01T00:00:00",
          "2014-07-01T00:00:00",
          "2014-10-01T00:00:00",
          "2015-01-01T00:00:00",
          "2015-04-01T00:00:00",
          "2015-07-01T00:00:00",
          "2015-10-01T00:00:00",
          "2016-01-01T00:00:00",
          "2016-04-01T00:00:00",
          "2016-07-01T00:00:00",
          "2016-10-01T00:00:00",
          "2017-01-01T00:00:00",
          "2017-04-01T00:00:00",
          "2017-07-01T00:00:00",
          "2017-10-01T00:00:00",
          "2018-01-01T00:00:00",
          "2018-04-01T00:00:00",
          "2018-07-01T00:00:00",
          "2018-10-01T00:00:00",
          "2019-01-01T00:00:00",
          "2019-04-01T00:00:00",
          "2019-07-01T00:00:00",
          "2019-10-01T00:00:00",
          "2020-01-01T00:00:00",
          "2020-04-01T00:00:00",
          "2020-07-01T00:00:00",
          "2020-10-01T00:00:00",
          "2021-01-01T00:00:00",
          "2021-04-01T00:00:00",
          "2021-07-01T00:00:00",
          "2021-10-01T00:00:00",
          "2022-01-01T00:00:00",
          "2022-04-01T00:00:00",
          "2022-07-01T00:00:00",
          "2022-10-01T00:00:00",
          "2023-01-01T00:00:00",
          "2023-04-01T00:00:00",
          "2023-07-01T00:00:00",
          "2023-10-01T00:00:00",
          "2024-01-01T00:00:00"
         ],
         "xaxis": "x",
         "y": [
          436,
          442,
          439,
          429,
          453,
          456,
          504,
          547,
          569,
          534,
          517,
          549,
          544,
          560,
          543,
          512,
          514,
          490,
          484,
          492,
          478,
          478,
          478,
          469,
          478,
          473,
          470,
          471,
          515,
          501,
          493,
          482,
          477,
          488,
          485,
          498,
          524,
          526,
          521,
          525,
          515,
          527,
          590,
          584,
          587,
          606,
          610,
          606,
          681,
          695,
          711,
          701,
          654,
          646,
          638,
          646,
          644,
          648,
          646,
          655,
          602,
          605,
          616,
          618,
          737,
          734,
          719,
          727,
          749,
          767,
          765,
          767,
          764,
          813,
          825,
          821,
          848,
          841,
          837,
          834,
          836
         ],
         "yaxis": "y"
        }
       ],
       "layout": {
        "legend": {
         "title": {
          "text": "variable"
         },
         "tracegroupgap": 0
        },
        "showlegend": false,
        "template": {
         "data": {
          "bar": [
           {
            "error_x": {
             "color": "#2a3f5f"
            },
            "error_y": {
             "color": "#2a3f5f"
            },
            "marker": {
             "line": {
              "color": "white",
              "width": 0.5
             },
             "pattern": {
              "fillmode": "overlay",
              "size": 10,
              "solidity": 0.2
             }
            },
            "type": "bar"
           }
          ],
          "barpolar": [
           {
            "marker": {
             "line": {
              "color": "white",
              "width": 0.5
             },
             "pattern": {
              "fillmode": "overlay",
              "size": 10,
              "solidity": 0.2
             }
            },
            "type": "barpolar"
           }
          ],
          "carpet": [
           {
            "aaxis": {
             "endlinecolor": "#2a3f5f",
             "gridcolor": "#C8D4E3",
             "linecolor": "#C8D4E3",
             "minorgridcolor": "#C8D4E3",
             "startlinecolor": "#2a3f5f"
            },
            "baxis": {
             "endlinecolor": "#2a3f5f",
             "gridcolor": "#C8D4E3",
             "linecolor": "#C8D4E3",
             "minorgridcolor": "#C8D4E3",
             "startlinecolor": "#2a3f5f"
            },
            "type": "carpet"
           }
          ],
          "choropleth": [
           {
            "colorbar": {
             "outlinewidth": 0,
             "ticks": ""
            },
            "type": "choropleth"
           }
          ],
          "contour": [
           {
            "colorbar": {
             "outlinewidth": 0,
             "ticks": ""
            },
            "colorscale": [
             [
              0,
              "#0d0887"
             ],
             [
              0.1111111111111111,
              "#46039f"
             ],
             [
              0.2222222222222222,
              "#7201a8"
             ],
             [
              0.3333333333333333,
              "#9c179e"
             ],
             [
              0.4444444444444444,
              "#bd3786"
             ],
             [
              0.5555555555555556,
              "#d8576b"
             ],
             [
              0.6666666666666666,
              "#ed7953"
             ],
             [
              0.7777777777777778,
              "#fb9f3a"
             ],
             [
              0.8888888888888888,
              "#fdca26"
             ],
             [
              1,
              "#f0f921"
             ]
            ],
            "type": "contour"
           }
          ],
          "contourcarpet": [
           {
            "colorbar": {
             "outlinewidth": 0,
             "ticks": ""
            },
            "type": "contourcarpet"
           }
          ],
          "heatmap": [
           {
            "colorbar": {
             "outlinewidth": 0,
             "ticks": ""
            },
            "colorscale": [
             [
              0,
              "#0d0887"
             ],
             [
              0.1111111111111111,
              "#46039f"
             ],
             [
              0.2222222222222222,
              "#7201a8"
             ],
             [
              0.3333333333333333,
              "#9c179e"
             ],
             [
              0.4444444444444444,
              "#bd3786"
             ],
             [
              0.5555555555555556,
              "#d8576b"
             ],
             [
              0.6666666666666666,
              "#ed7953"
             ],
             [
              0.7777777777777778,
              "#fb9f3a"
             ],
             [
              0.8888888888888888,
              "#fdca26"
             ],
             [
              1,
              "#f0f921"
             ]
            ],
            "type": "heatmap"
           }
          ],
          "heatmapgl": [
           {
            "colorbar": {
             "outlinewidth": 0,
             "ticks": ""
            },
            "colorscale": [
             [
              0,
              "#0d0887"
             ],
             [
              0.1111111111111111,
              "#46039f"
             ],
             [
              0.2222222222222222,
              "#7201a8"
             ],
             [
              0.3333333333333333,
              "#9c179e"
             ],
             [
              0.4444444444444444,
              "#bd3786"
             ],
             [
              0.5555555555555556,
              "#d8576b"
             ],
             [
              0.6666666666666666,
              "#ed7953"
             ],
             [
              0.7777777777777778,
              "#fb9f3a"
             ],
             [
              0.8888888888888888,
              "#fdca26"
             ],
             [
              1,
              "#f0f921"
             ]
            ],
            "type": "heatmapgl"
           }
          ],
          "histogram": [
           {
            "marker": {
             "pattern": {
              "fillmode": "overlay",
              "size": 10,
              "solidity": 0.2
             }
            },
            "type": "histogram"
           }
          ],
          "histogram2d": [
           {
            "colorbar": {
             "outlinewidth": 0,
             "ticks": ""
            },
            "colorscale": [
             [
              0,
              "#0d0887"
             ],
             [
              0.1111111111111111,
              "#46039f"
             ],
             [
              0.2222222222222222,
              "#7201a8"
             ],
             [
              0.3333333333333333,
              "#9c179e"
             ],
             [
              0.4444444444444444,
              "#bd3786"
             ],
             [
              0.5555555555555556,
              "#d8576b"
             ],
             [
              0.6666666666666666,
              "#ed7953"
             ],
             [
              0.7777777777777778,
              "#fb9f3a"
             ],
             [
              0.8888888888888888,
              "#fdca26"
             ],
             [
              1,
              "#f0f921"
             ]
            ],
            "type": "histogram2d"
           }
          ],
          "histogram2dcontour": [
           {
            "colorbar": {
             "outlinewidth": 0,
             "ticks": ""
            },
            "colorscale": [
             [
              0,
              "#0d0887"
             ],
             [
              0.1111111111111111,
              "#46039f"
             ],
             [
              0.2222222222222222,
              "#7201a8"
             ],
             [
              0.3333333333333333,
              "#9c179e"
             ],
             [
              0.4444444444444444,
              "#bd3786"
             ],
             [
              0.5555555555555556,
              "#d8576b"
             ],
             [
              0.6666666666666666,
              "#ed7953"
             ],
             [
              0.7777777777777778,
              "#fb9f3a"
             ],
             [
              0.8888888888888888,
              "#fdca26"
             ],
             [
              1,
              "#f0f921"
             ]
            ],
            "type": "histogram2dcontour"
           }
          ],
          "mesh3d": [
           {
            "colorbar": {
             "outlinewidth": 0,
             "ticks": ""
            },
            "type": "mesh3d"
           }
          ],
          "parcoords": [
           {
            "line": {
             "colorbar": {
              "outlinewidth": 0,
              "ticks": ""
             }
            },
            "type": "parcoords"
           }
          ],
          "pie": [
           {
            "automargin": true,
            "type": "pie"
           }
          ],
          "scatter": [
           {
            "fillpattern": {
             "fillmode": "overlay",
             "size": 10,
             "solidity": 0.2
            },
            "type": "scatter"
           }
          ],
          "scatter3d": [
           {
            "line": {
             "colorbar": {
              "outlinewidth": 0,
              "ticks": ""
             }
            },
            "marker": {
             "colorbar": {
              "outlinewidth": 0,
              "ticks": ""
             }
            },
            "type": "scatter3d"
           }
          ],
          "scattercarpet": [
           {
            "marker": {
             "colorbar": {
              "outlinewidth": 0,
              "ticks": ""
             }
            },
            "type": "scattercarpet"
           }
          ],
          "scattergeo": [
           {
            "marker": {
             "colorbar": {
              "outlinewidth": 0,
              "ticks": ""
             }
            },
            "type": "scattergeo"
           }
          ],
          "scattergl": [
           {
            "marker": {
             "colorbar": {
              "outlinewidth": 0,
              "ticks": ""
             }
            },
            "type": "scattergl"
           }
          ],
          "scattermapbox": [
           {
            "marker": {
             "colorbar": {
              "outlinewidth": 0,
              "ticks": ""
             }
            },
            "type": "scattermapbox"
           }
          ],
          "scatterpolar": [
           {
            "marker": {
             "colorbar": {
              "outlinewidth": 0,
              "ticks": ""
             }
            },
            "type": "scatterpolar"
           }
          ],
          "scatterpolargl": [
           {
            "marker": {
             "colorbar": {
              "outlinewidth": 0,
              "ticks": ""
             }
            },
            "type": "scatterpolargl"
           }
          ],
          "scatterternary": [
           {
            "marker": {
             "colorbar": {
              "outlinewidth": 0,
              "ticks": ""
             }
            },
            "type": "scatterternary"
           }
          ],
          "surface": [
           {
            "colorbar": {
             "outlinewidth": 0,
             "ticks": ""
            },
            "colorscale": [
             [
              0,
              "#0d0887"
             ],
             [
              0.1111111111111111,
              "#46039f"
             ],
             [
              0.2222222222222222,
              "#7201a8"
             ],
             [
              0.3333333333333333,
              "#9c179e"
             ],
             [
              0.4444444444444444,
              "#bd3786"
             ],
             [
              0.5555555555555556,
              "#d8576b"
             ],
             [
              0.6666666666666666,
              "#ed7953"
             ],
             [
              0.7777777777777778,
              "#fb9f3a"
             ],
             [
              0.8888888888888888,
              "#fdca26"
             ],
             [
              1,
              "#f0f921"
             ]
            ],
            "type": "surface"
           }
          ],
          "table": [
           {
            "cells": {
             "fill": {
              "color": "#EBF0F8"
             },
             "line": {
              "color": "white"
             }
            },
            "header": {
             "fill": {
              "color": "#C8D4E3"
             },
             "line": {
              "color": "white"
             }
            },
            "type": "table"
           }
          ]
         },
         "layout": {
          "annotationdefaults": {
           "arrowcolor": "#2a3f5f",
           "arrowhead": 0,
           "arrowwidth": 1
          },
          "autotypenumbers": "strict",
          "coloraxis": {
           "colorbar": {
            "outlinewidth": 0,
            "ticks": ""
           }
          },
          "colorscale": {
           "diverging": [
            [
             0,
             "#8e0152"
            ],
            [
             0.1,
             "#c51b7d"
            ],
            [
             0.2,
             "#de77ae"
            ],
            [
             0.3,
             "#f1b6da"
            ],
            [
             0.4,
             "#fde0ef"
            ],
            [
             0.5,
             "#f7f7f7"
            ],
            [
             0.6,
             "#e6f5d0"
            ],
            [
             0.7,
             "#b8e186"
            ],
            [
             0.8,
             "#7fbc41"
            ],
            [
             0.9,
             "#4d9221"
            ],
            [
             1,
             "#276419"
            ]
           ],
           "sequential": [
            [
             0,
             "#0d0887"
            ],
            [
             0.1111111111111111,
             "#46039f"
            ],
            [
             0.2222222222222222,
             "#7201a8"
            ],
            [
             0.3333333333333333,
             "#9c179e"
            ],
            [
             0.4444444444444444,
             "#bd3786"
            ],
            [
             0.5555555555555556,
             "#d8576b"
            ],
            [
             0.6666666666666666,
             "#ed7953"
            ],
            [
             0.7777777777777778,
             "#fb9f3a"
            ],
            [
             0.8888888888888888,
             "#fdca26"
            ],
            [
             1,
             "#f0f921"
            ]
           ],
           "sequentialminus": [
            [
             0,
             "#0d0887"
            ],
            [
             0.1111111111111111,
             "#46039f"
            ],
            [
             0.2222222222222222,
             "#7201a8"
            ],
            [
             0.3333333333333333,
             "#9c179e"
            ],
            [
             0.4444444444444444,
             "#bd3786"
            ],
            [
             0.5555555555555556,
             "#d8576b"
            ],
            [
             0.6666666666666666,
             "#ed7953"
            ],
            [
             0.7777777777777778,
             "#fb9f3a"
            ],
            [
             0.8888888888888888,
             "#fdca26"
            ],
            [
             1,
             "#f0f921"
            ]
           ]
          },
          "colorway": [
           "#636efa",
           "#EF553B",
           "#00cc96",
           "#ab63fa",
           "#FFA15A",
           "#19d3f3",
           "#FF6692",
           "#B6E880",
           "#FF97FF",
           "#FECB52"
          ],
          "font": {
           "color": "#2a3f5f"
          },
          "geo": {
           "bgcolor": "white",
           "lakecolor": "white",
           "landcolor": "white",
           "showlakes": true,
           "showland": true,
           "subunitcolor": "#C8D4E3"
          },
          "hoverlabel": {
           "align": "left"
          },
          "hovermode": "closest",
          "mapbox": {
           "style": "light"
          },
          "paper_bgcolor": "white",
          "plot_bgcolor": "white",
          "polar": {
           "angularaxis": {
            "gridcolor": "#EBF0F8",
            "linecolor": "#EBF0F8",
            "ticks": ""
           },
           "bgcolor": "white",
           "radialaxis": {
            "gridcolor": "#EBF0F8",
            "linecolor": "#EBF0F8",
            "ticks": ""
           }
          },
          "scene": {
           "xaxis": {
            "backgroundcolor": "white",
            "gridcolor": "#DFE8F3",
            "gridwidth": 2,
            "linecolor": "#EBF0F8",
            "showbackground": true,
            "ticks": "",
            "zerolinecolor": "#EBF0F8"
           },
           "yaxis": {
            "backgroundcolor": "white",
            "gridcolor": "#DFE8F3",
            "gridwidth": 2,
            "linecolor": "#EBF0F8",
            "showbackground": true,
            "ticks": "",
            "zerolinecolor": "#EBF0F8"
           },
           "zaxis": {
            "backgroundcolor": "white",
            "gridcolor": "#DFE8F3",
            "gridwidth": 2,
            "linecolor": "#EBF0F8",
            "showbackground": true,
            "ticks": "",
            "zerolinecolor": "#EBF0F8"
           }
          },
          "shapedefaults": {
           "line": {
            "color": "#2a3f5f"
           }
          },
          "ternary": {
           "aaxis": {
            "gridcolor": "#DFE8F3",
            "linecolor": "#A2B1C6",
            "ticks": ""
           },
           "baxis": {
            "gridcolor": "#DFE8F3",
            "linecolor": "#A2B1C6",
            "ticks": ""
           },
           "bgcolor": "white",
           "caxis": {
            "gridcolor": "#DFE8F3",
            "linecolor": "#A2B1C6",
            "ticks": ""
           }
          },
          "title": {
           "x": 0.05
          },
          "xaxis": {
           "automargin": true,
           "gridcolor": "#EBF0F8",
           "linecolor": "#EBF0F8",
           "ticks": "",
           "title": {
            "standoff": 15
           },
           "zerolinecolor": "#EBF0F8",
           "zerolinewidth": 2
          },
          "yaxis": {
           "automargin": true,
           "gridcolor": "#EBF0F8",
           "linecolor": "#EBF0F8",
           "ticks": "",
           "title": {
            "standoff": 15
           },
           "zerolinecolor": "#EBF0F8",
           "zerolinewidth": 2
          }
         }
        },
        "title": {
         "text": "Permit Backlog at the start of each quarter"
        },
        "width": 800,
        "xaxis": {
         "anchor": "y",
         "domain": [
          0,
          1
         ],
         "title": {
          "text": "Time"
         }
        },
        "yaxis": {
         "anchor": "x",
         "domain": [
          0,
          1
         ],
         "title": {
          "text": "Number of In-Progress Permit Applications"
         }
        }
       }
      },
      "text/html": [
       "<div>                            <div id=\"89309272-3bda-42d3-bfaa-8cb8cdf5900c\" class=\"plotly-graph-div\" style=\"height:525px; width:800px;\"></div>            <script type=\"text/javascript\">                require([\"plotly\"], function(Plotly) {                    window.PLOTLYENV=window.PLOTLYENV || {};                                    if (document.getElementById(\"89309272-3bda-42d3-bfaa-8cb8cdf5900c\")) {                    Plotly.newPlot(                        \"89309272-3bda-42d3-bfaa-8cb8cdf5900c\",                        [{\"hovertemplate\":\"variable=0\\u003cbr\\u003eTime=%{x}\\u003cbr\\u003eNumber of In-Progress Permit Applications=%{y}\\u003cextra\\u003e\\u003c\\u002fextra\\u003e\",\"legendgroup\":\"0\",\"line\":{\"color\":\"#636efa\",\"dash\":\"solid\"},\"marker\":{\"symbol\":\"circle\"},\"mode\":\"lines\",\"name\":\"0\",\"orientation\":\"v\",\"showlegend\":true,\"x\":[\"2004-01-01T00:00:00\",\"2004-04-01T00:00:00\",\"2004-07-01T00:00:00\",\"2004-10-01T00:00:00\",\"2005-01-01T00:00:00\",\"2005-04-01T00:00:00\",\"2005-07-01T00:00:00\",\"2005-10-01T00:00:00\",\"2006-01-01T00:00:00\",\"2006-04-01T00:00:00\",\"2006-07-01T00:00:00\",\"2006-10-01T00:00:00\",\"2007-01-01T00:00:00\",\"2007-04-01T00:00:00\",\"2007-07-01T00:00:00\",\"2007-10-01T00:00:00\",\"2008-01-01T00:00:00\",\"2008-04-01T00:00:00\",\"2008-07-01T00:00:00\",\"2008-10-01T00:00:00\",\"2009-01-01T00:00:00\",\"2009-04-01T00:00:00\",\"2009-07-01T00:00:00\",\"2009-10-01T00:00:00\",\"2010-01-01T00:00:00\",\"2010-04-01T00:00:00\",\"2010-07-01T00:00:00\",\"2010-10-01T00:00:00\",\"2011-01-01T00:00:00\",\"2011-04-01T00:00:00\",\"2011-07-01T00:00:00\",\"2011-10-01T00:00:00\",\"2012-01-01T00:00:00\",\"2012-04-01T00:00:00\",\"2012-07-01T00:00:00\",\"2012-10-01T00:00:00\",\"2013-01-01T00:00:00\",\"2013-04-01T00:00:00\",\"2013-07-01T00:00:00\",\"2013-10-01T00:00:00\",\"2014-01-01T00:00:00\",\"2014-04-01T00:00:00\",\"2014-07-01T00:00:00\",\"2014-10-01T00:00:00\",\"2015-01-01T00:00:00\",\"2015-04-01T00:00:00\",\"2015-07-01T00:00:00\",\"2015-10-01T00:00:00\",\"2016-01-01T00:00:00\",\"2016-04-01T00:00:00\",\"2016-07-01T00:00:00\",\"2016-10-01T00:00:00\",\"2017-01-01T00:00:00\",\"2017-04-01T00:00:00\",\"2017-07-01T00:00:00\",\"2017-10-01T00:00:00\",\"2018-01-01T00:00:00\",\"2018-04-01T00:00:00\",\"2018-07-01T00:00:00\",\"2018-10-01T00:00:00\",\"2019-01-01T00:00:00\",\"2019-04-01T00:00:00\",\"2019-07-01T00:00:00\",\"2019-10-01T00:00:00\",\"2020-01-01T00:00:00\",\"2020-04-01T00:00:00\",\"2020-07-01T00:00:00\",\"2020-10-01T00:00:00\",\"2021-01-01T00:00:00\",\"2021-04-01T00:00:00\",\"2021-07-01T00:00:00\",\"2021-10-01T00:00:00\",\"2022-01-01T00:00:00\",\"2022-04-01T00:00:00\",\"2022-07-01T00:00:00\",\"2022-10-01T00:00:00\",\"2023-01-01T00:00:00\",\"2023-04-01T00:00:00\",\"2023-07-01T00:00:00\",\"2023-10-01T00:00:00\",\"2024-01-01T00:00:00\"],\"xaxis\":\"x\",\"y\":[436,442,439,429,453,456,504,547,569,534,517,549,544,560,543,512,514,490,484,492,478,478,478,469,478,473,470,471,515,501,493,482,477,488,485,498,524,526,521,525,515,527,590,584,587,606,610,606,681,695,711,701,654,646,638,646,644,648,646,655,602,605,616,618,737,734,719,727,749,767,765,767,764,813,825,821,848,841,837,834,836],\"yaxis\":\"y\",\"type\":\"scatter\"}],                        {\"template\":{\"data\":{\"barpolar\":[{\"marker\":{\"line\":{\"color\":\"white\",\"width\":0.5},\"pattern\":{\"fillmode\":\"overlay\",\"size\":10,\"solidity\":0.2}},\"type\":\"barpolar\"}],\"bar\":[{\"error_x\":{\"color\":\"#2a3f5f\"},\"error_y\":{\"color\":\"#2a3f5f\"},\"marker\":{\"line\":{\"color\":\"white\",\"width\":0.5},\"pattern\":{\"fillmode\":\"overlay\",\"size\":10,\"solidity\":0.2}},\"type\":\"bar\"}],\"carpet\":[{\"aaxis\":{\"endlinecolor\":\"#2a3f5f\",\"gridcolor\":\"#C8D4E3\",\"linecolor\":\"#C8D4E3\",\"minorgridcolor\":\"#C8D4E3\",\"startlinecolor\":\"#2a3f5f\"},\"baxis\":{\"endlinecolor\":\"#2a3f5f\",\"gridcolor\":\"#C8D4E3\",\"linecolor\":\"#C8D4E3\",\"minorgridcolor\":\"#C8D4E3\",\"startlinecolor\":\"#2a3f5f\"},\"type\":\"carpet\"}],\"choropleth\":[{\"colorbar\":{\"outlinewidth\":0,\"ticks\":\"\"},\"type\":\"choropleth\"}],\"contourcarpet\":[{\"colorbar\":{\"outlinewidth\":0,\"ticks\":\"\"},\"type\":\"contourcarpet\"}],\"contour\":[{\"colorbar\":{\"outlinewidth\":0,\"ticks\":\"\"},\"colorscale\":[[0.0,\"#0d0887\"],[0.1111111111111111,\"#46039f\"],[0.2222222222222222,\"#7201a8\"],[0.3333333333333333,\"#9c179e\"],[0.4444444444444444,\"#bd3786\"],[0.5555555555555556,\"#d8576b\"],[0.6666666666666666,\"#ed7953\"],[0.7777777777777778,\"#fb9f3a\"],[0.8888888888888888,\"#fdca26\"],[1.0,\"#f0f921\"]],\"type\":\"contour\"}],\"heatmapgl\":[{\"colorbar\":{\"outlinewidth\":0,\"ticks\":\"\"},\"colorscale\":[[0.0,\"#0d0887\"],[0.1111111111111111,\"#46039f\"],[0.2222222222222222,\"#7201a8\"],[0.3333333333333333,\"#9c179e\"],[0.4444444444444444,\"#bd3786\"],[0.5555555555555556,\"#d8576b\"],[0.6666666666666666,\"#ed7953\"],[0.7777777777777778,\"#fb9f3a\"],[0.8888888888888888,\"#fdca26\"],[1.0,\"#f0f921\"]],\"type\":\"heatmapgl\"}],\"heatmap\":[{\"colorbar\":{\"outlinewidth\":0,\"ticks\":\"\"},\"colorscale\":[[0.0,\"#0d0887\"],[0.1111111111111111,\"#46039f\"],[0.2222222222222222,\"#7201a8\"],[0.3333333333333333,\"#9c179e\"],[0.4444444444444444,\"#bd3786\"],[0.5555555555555556,\"#d8576b\"],[0.6666666666666666,\"#ed7953\"],[0.7777777777777778,\"#fb9f3a\"],[0.8888888888888888,\"#fdca26\"],[1.0,\"#f0f921\"]],\"type\":\"heatmap\"}],\"histogram2dcontour\":[{\"colorbar\":{\"outlinewidth\":0,\"ticks\":\"\"},\"colorscale\":[[0.0,\"#0d0887\"],[0.1111111111111111,\"#46039f\"],[0.2222222222222222,\"#7201a8\"],[0.3333333333333333,\"#9c179e\"],[0.4444444444444444,\"#bd3786\"],[0.5555555555555556,\"#d8576b\"],[0.6666666666666666,\"#ed7953\"],[0.7777777777777778,\"#fb9f3a\"],[0.8888888888888888,\"#fdca26\"],[1.0,\"#f0f921\"]],\"type\":\"histogram2dcontour\"}],\"histogram2d\":[{\"colorbar\":{\"outlinewidth\":0,\"ticks\":\"\"},\"colorscale\":[[0.0,\"#0d0887\"],[0.1111111111111111,\"#46039f\"],[0.2222222222222222,\"#7201a8\"],[0.3333333333333333,\"#9c179e\"],[0.4444444444444444,\"#bd3786\"],[0.5555555555555556,\"#d8576b\"],[0.6666666666666666,\"#ed7953\"],[0.7777777777777778,\"#fb9f3a\"],[0.8888888888888888,\"#fdca26\"],[1.0,\"#f0f921\"]],\"type\":\"histogram2d\"}],\"histogram\":[{\"marker\":{\"pattern\":{\"fillmode\":\"overlay\",\"size\":10,\"solidity\":0.2}},\"type\":\"histogram\"}],\"mesh3d\":[{\"colorbar\":{\"outlinewidth\":0,\"ticks\":\"\"},\"type\":\"mesh3d\"}],\"parcoords\":[{\"line\":{\"colorbar\":{\"outlinewidth\":0,\"ticks\":\"\"}},\"type\":\"parcoords\"}],\"pie\":[{\"automargin\":true,\"type\":\"pie\"}],\"scatter3d\":[{\"line\":{\"colorbar\":{\"outlinewidth\":0,\"ticks\":\"\"}},\"marker\":{\"colorbar\":{\"outlinewidth\":0,\"ticks\":\"\"}},\"type\":\"scatter3d\"}],\"scattercarpet\":[{\"marker\":{\"colorbar\":{\"outlinewidth\":0,\"ticks\":\"\"}},\"type\":\"scattercarpet\"}],\"scattergeo\":[{\"marker\":{\"colorbar\":{\"outlinewidth\":0,\"ticks\":\"\"}},\"type\":\"scattergeo\"}],\"scattergl\":[{\"marker\":{\"colorbar\":{\"outlinewidth\":0,\"ticks\":\"\"}},\"type\":\"scattergl\"}],\"scattermapbox\":[{\"marker\":{\"colorbar\":{\"outlinewidth\":0,\"ticks\":\"\"}},\"type\":\"scattermapbox\"}],\"scatterpolargl\":[{\"marker\":{\"colorbar\":{\"outlinewidth\":0,\"ticks\":\"\"}},\"type\":\"scatterpolargl\"}],\"scatterpolar\":[{\"marker\":{\"colorbar\":{\"outlinewidth\":0,\"ticks\":\"\"}},\"type\":\"scatterpolar\"}],\"scatter\":[{\"fillpattern\":{\"fillmode\":\"overlay\",\"size\":10,\"solidity\":0.2},\"type\":\"scatter\"}],\"scatterternary\":[{\"marker\":{\"colorbar\":{\"outlinewidth\":0,\"ticks\":\"\"}},\"type\":\"scatterternary\"}],\"surface\":[{\"colorbar\":{\"outlinewidth\":0,\"ticks\":\"\"},\"colorscale\":[[0.0,\"#0d0887\"],[0.1111111111111111,\"#46039f\"],[0.2222222222222222,\"#7201a8\"],[0.3333333333333333,\"#9c179e\"],[0.4444444444444444,\"#bd3786\"],[0.5555555555555556,\"#d8576b\"],[0.6666666666666666,\"#ed7953\"],[0.7777777777777778,\"#fb9f3a\"],[0.8888888888888888,\"#fdca26\"],[1.0,\"#f0f921\"]],\"type\":\"surface\"}],\"table\":[{\"cells\":{\"fill\":{\"color\":\"#EBF0F8\"},\"line\":{\"color\":\"white\"}},\"header\":{\"fill\":{\"color\":\"#C8D4E3\"},\"line\":{\"color\":\"white\"}},\"type\":\"table\"}]},\"layout\":{\"annotationdefaults\":{\"arrowcolor\":\"#2a3f5f\",\"arrowhead\":0,\"arrowwidth\":1},\"autotypenumbers\":\"strict\",\"coloraxis\":{\"colorbar\":{\"outlinewidth\":0,\"ticks\":\"\"}},\"colorscale\":{\"diverging\":[[0,\"#8e0152\"],[0.1,\"#c51b7d\"],[0.2,\"#de77ae\"],[0.3,\"#f1b6da\"],[0.4,\"#fde0ef\"],[0.5,\"#f7f7f7\"],[0.6,\"#e6f5d0\"],[0.7,\"#b8e186\"],[0.8,\"#7fbc41\"],[0.9,\"#4d9221\"],[1,\"#276419\"]],\"sequential\":[[0.0,\"#0d0887\"],[0.1111111111111111,\"#46039f\"],[0.2222222222222222,\"#7201a8\"],[0.3333333333333333,\"#9c179e\"],[0.4444444444444444,\"#bd3786\"],[0.5555555555555556,\"#d8576b\"],[0.6666666666666666,\"#ed7953\"],[0.7777777777777778,\"#fb9f3a\"],[0.8888888888888888,\"#fdca26\"],[1.0,\"#f0f921\"]],\"sequentialminus\":[[0.0,\"#0d0887\"],[0.1111111111111111,\"#46039f\"],[0.2222222222222222,\"#7201a8\"],[0.3333333333333333,\"#9c179e\"],[0.4444444444444444,\"#bd3786\"],[0.5555555555555556,\"#d8576b\"],[0.6666666666666666,\"#ed7953\"],[0.7777777777777778,\"#fb9f3a\"],[0.8888888888888888,\"#fdca26\"],[1.0,\"#f0f921\"]]},\"colorway\":[\"#636efa\",\"#EF553B\",\"#00cc96\",\"#ab63fa\",\"#FFA15A\",\"#19d3f3\",\"#FF6692\",\"#B6E880\",\"#FF97FF\",\"#FECB52\"],\"font\":{\"color\":\"#2a3f5f\"},\"geo\":{\"bgcolor\":\"white\",\"lakecolor\":\"white\",\"landcolor\":\"white\",\"showlakes\":true,\"showland\":true,\"subunitcolor\":\"#C8D4E3\"},\"hoverlabel\":{\"align\":\"left\"},\"hovermode\":\"closest\",\"mapbox\":{\"style\":\"light\"},\"paper_bgcolor\":\"white\",\"plot_bgcolor\":\"white\",\"polar\":{\"angularaxis\":{\"gridcolor\":\"#EBF0F8\",\"linecolor\":\"#EBF0F8\",\"ticks\":\"\"},\"bgcolor\":\"white\",\"radialaxis\":{\"gridcolor\":\"#EBF0F8\",\"linecolor\":\"#EBF0F8\",\"ticks\":\"\"}},\"scene\":{\"xaxis\":{\"backgroundcolor\":\"white\",\"gridcolor\":\"#DFE8F3\",\"gridwidth\":2,\"linecolor\":\"#EBF0F8\",\"showbackground\":true,\"ticks\":\"\",\"zerolinecolor\":\"#EBF0F8\"},\"yaxis\":{\"backgroundcolor\":\"white\",\"gridcolor\":\"#DFE8F3\",\"gridwidth\":2,\"linecolor\":\"#EBF0F8\",\"showbackground\":true,\"ticks\":\"\",\"zerolinecolor\":\"#EBF0F8\"},\"zaxis\":{\"backgroundcolor\":\"white\",\"gridcolor\":\"#DFE8F3\",\"gridwidth\":2,\"linecolor\":\"#EBF0F8\",\"showbackground\":true,\"ticks\":\"\",\"zerolinecolor\":\"#EBF0F8\"}},\"shapedefaults\":{\"line\":{\"color\":\"#2a3f5f\"}},\"ternary\":{\"aaxis\":{\"gridcolor\":\"#DFE8F3\",\"linecolor\":\"#A2B1C6\",\"ticks\":\"\"},\"baxis\":{\"gridcolor\":\"#DFE8F3\",\"linecolor\":\"#A2B1C6\",\"ticks\":\"\"},\"bgcolor\":\"white\",\"caxis\":{\"gridcolor\":\"#DFE8F3\",\"linecolor\":\"#A2B1C6\",\"ticks\":\"\"}},\"title\":{\"x\":0.05},\"xaxis\":{\"automargin\":true,\"gridcolor\":\"#EBF0F8\",\"linecolor\":\"#EBF0F8\",\"ticks\":\"\",\"title\":{\"standoff\":15},\"zerolinecolor\":\"#EBF0F8\",\"zerolinewidth\":2},\"yaxis\":{\"automargin\":true,\"gridcolor\":\"#EBF0F8\",\"linecolor\":\"#EBF0F8\",\"ticks\":\"\",\"title\":{\"standoff\":15},\"zerolinecolor\":\"#EBF0F8\",\"zerolinewidth\":2}}},\"xaxis\":{\"anchor\":\"y\",\"domain\":[0.0,1.0],\"title\":{\"text\":\"Time\"}},\"yaxis\":{\"anchor\":\"x\",\"domain\":[0.0,1.0],\"title\":{\"text\":\"Number of In-Progress Permit Applications\"}},\"legend\":{\"title\":{\"text\":\"variable\"},\"tracegroupgap\":0},\"title\":{\"text\":\"Permit Backlog at the start of each quarter\"},\"width\":800,\"showlegend\":false},                        {\"responsive\": true}                    ).then(function(){\n",
       "                            \n",
       "var gd = document.getElementById('89309272-3bda-42d3-bfaa-8cb8cdf5900c');\n",
       "var x = new MutationObserver(function (mutations, observer) {{\n",
       "        var display = window.getComputedStyle(gd).display;\n",
       "        if (!display || display === 'none') {{\n",
       "            console.log([gd, 'removed!']);\n",
       "            Plotly.purge(gd);\n",
       "            observer.disconnect();\n",
       "        }}\n",
       "}});\n",
       "\n",
       "// Listen for the removal of the full notebook cells\n",
       "var notebookContainer = gd.closest('#notebook-container');\n",
       "if (notebookContainer) {{\n",
       "    x.observe(notebookContainer, {childList: true});\n",
       "}}\n",
       "\n",
       "// Listen for the clearing of the current output cell\n",
       "var outputEl = gd.closest('.output');\n",
       "if (outputEl) {{\n",
       "    x.observe(outputEl, {childList: true});\n",
       "}}\n",
       "\n",
       "                        })                };                });            </script>        </div>"
      ]
     },
     "metadata": {},
     "output_type": "display_data"
    }
   ],
   "source": [
    "def _count_of_pending_permits_as_of_date(df, date):\n",
    "    pending_permits = df[\n",
    "        (df[\"Filed Date\"] <= date)\n",
    "        & ((df[\"Issued Date\"].isna()) | (df[\"Issued Date\"] > date))\n",
    "        & ~(\n",
    "            (df[\"Current Status\"].isin([\"withdrawn\", \"disapproved\"]) )& \n",
    "            (df[\"Current Status Date\"] <= date)\n",
    "        )\n",
    "    ]\n",
    "    return len(pending_permits)\n",
    "\n",
    "\n",
    "plotly.offline.init_notebook_mode(connected=True)\n",
    "quarter_index = pd.date_range(\"2004-01-01\", \"2024-01-01\", freq=\"QS\")\n",
    "backlog = quarter_index.to_series().apply(lambda x: _count_of_pending_permits_as_of_date(permits_df, x))\n",
    "fig = px.line(\n",
    "    backlog, \n",
    "    labels={\"value\": \"Number of In-Progress Permit Applications\", \"index\": \"Time\"}, \n",
    "    title=\"Permit Backlog at the start of each quarter\",\n",
    "    width=800,\n",
    "    template=\"plotly_white\"\n",
    ")\n",
    "fig.update_layout(showlegend=False)"
   ]
  },
  {
   "cell_type": "markdown",
   "metadata": {},
   "source": [
    "When we zoom in on the timelines<sup>[8](#Permit-Routing-Data)</sup> of various types of residential developements, it's easy to see how an influx of new applications could cause a backup. The permitting process visualization looks as intimidatingly bureacratic as it is often described, involving around 10 separate city offices, routing tasks between each other and the applicant over months and years. During this time, lots sit under-utilized -- homes for cars instead of people. Simplifying a process is often easier said than done, but I think the need is evident."
   ]
  },
  {
   "cell_type": "code",
   "execution_count": 27,
   "metadata": {},
   "outputs": [],
   "source": [
    "import warnings\n",
    "warnings.filterwarnings('ignore')\n",
    "\n",
    "permit_routing_df = pd.read_csv(\"data/building_permit_adenda_with_routing_since_2014.csv\")\n",
    "permit_routing_df.loc[1273333, \"start_date\"] = \"2024/04/22\"  # Typo (previously 0202/04/22). \n",
    "\n",
    "# Convert strings to dates.\n",
    "permit_routing_df.loc[:, \"arrive\"] = pd.to_datetime(permit_routing_df[\"arrive\"])\n",
    "permit_routing_df.loc[:, \"start_date\"] = pd.to_datetime(permit_routing_df[\"start_date\"])\n",
    "permit_routing_df.loc[:, \"finish_date\"] = pd.to_datetime(permit_routing_df[\"finish_date\"])\n",
    "permit_routing_df.loc[:, \"in_hold\"] = pd.to_datetime(permit_routing_df[\"in_hold\"])\n",
    "permit_routing_df.loc[:, \"out_hold\"] = pd.to_datetime(permit_routing_df[\"out_hold\"])"
   ]
  },
  {
   "cell_type": "code",
   "execution_count": 29,
   "metadata": {},
   "outputs": [],
   "source": [
    "permits_filed_after_2014_df = permits_df[permits_df[\"Filed Date\"].apply(lambda x: x.year) >= 2014]\n",
    "permits_filed_after_2014_routing_df = permits_filed_after_2014_df.merge(permit_routing_df, left_on=\"Permit Number\", right_on=\"application_number\")"
   ]
  },
  {
   "cell_type": "code",
   "execution_count": 40,
   "metadata": {},
   "outputs": [],
   "source": [
    "def _find_permits_with_proposed_units(df, min_units, max_units, min_filing_year, min_issuing_days, max_issuing_days):\n",
    "    return df[\n",
    "        (df[\"Proposed Units\"] >= min_units) &\n",
    "        (df[\"Proposed Units\"] < max_units) &\n",
    "        (df[\"Filed Date\"].apply(lambda x: x.year) >= min_filing_year) &\n",
    "        ~(df[\"Issued Date\"].isna()) &\n",
    "        ((df[\"Issued Date\"] - df[\"Filed Date\"]).apply(lambda x: x.days) >= min_issuing_days) &\n",
    "        ((df[\"Issued Date\"] - df[\"Filed Date\"]).apply(lambda x: x.days) < max_issuing_days)\n",
    "    ]\n",
    "\n",
    "def _permit_gannt_chart(df):\n",
    "    station_code_to_name = {\n",
    "        \"CPB\": \"Central Permit Bureau\",\n",
    "        \"CP-ZOC\": \"City Planning - Zoning Plan Clerk\",\n",
    "        \"CP-NP\": \"City Planning - Residential Extension Notice\",\n",
    "        \"BLDG\": \"Building Plan Review Services\",\n",
    "        \"SFFD\": \"Fire Department\",\n",
    "        \"DPW-BSM\": \"Bureau of Street Use and Mapping\",\n",
    "        \"SFPUC\": \"Public Utilities Commission\",\n",
    "        \"HEALTH\": \"Bureau of Health\",\n",
    "        \"HEALTH - MH\": \"Bureau of Health - Mental Health Rehabilitation\",\n",
    "        \"HEALTH - HM\": \"\",\n",
    "        \"DPW-BUF\": \"Department of Public Works - Bureau of Urban Forestry\",\n",
    "        \"DFCU\": \"Development Fee Collection Unit\",\n",
    "        \"PPC\": \"Permit Processing Center\",\n",
    "    }\n",
    "    df_copy = df[[\"department\", \"station\", \"step\", \"arrive\", \"start_date\", \"in_hold\", \"out_hold\", \"finish_date\", \"hold_description\"]]\n",
    "    df_copy[\"full_station_name\"] = df_copy[\"station\"].apply(\n",
    "        lambda s: station_code_to_name[s] if s in station_code_to_name else s\n",
    "    )\n",
    "\n",
    "    pending = df_copy[[\"department\", \"full_station_name\", \"step\", \"arrive\", \"start_date\", \"in_hold\"]].rename(columns=dict(arrive=\"start\"))\n",
    "    pending[\"end\"] = pending[\"start_date\"].where(\n",
    "        (pending[\"in_hold\"].isna()) | (pending[\"start_date\"] <= pending[\"in_hold\"]),\n",
    "        pending[\"in_hold\"]\n",
    "    )\n",
    "    pending.loc[:, \"Phase\"] = \"Pending\"\n",
    "\n",
    "    pre_hold = df_copy[~df_copy[\"in_hold\"].isna()][[\"department\", \"full_station_name\", \"step\", \"start_date\", \"in_hold\"]].rename(columns=dict(start_date=\"start\", in_hold=\"end\"))\n",
    "    pre_hold.loc[:, \"Phase\"] = \"Started\"\n",
    "\n",
    "    # Consider end of \"hold\" to be either the \"out_hold\" date or \"finish date\", whichever is set.\n",
    "    hold = df_copy[[\"department\", \"full_station_name\", \"step\", \"in_hold\", \"out_hold\", \"finish_date\", \"hold_description\"]]\n",
    "    hold[\"out_hold\"] = hold[\"out_hold\"].where(~hold[\"out_hold\"].isna(), hold[\"finish_date\"])\n",
    "    hold = hold.rename(columns=dict(in_hold=\"start\", out_hold=\"end\"))\n",
    "    hold.loc[:, \"Phase\"] = \"In Hold\"\n",
    "\n",
    "    post_hold = df_copy[~df_copy[\"out_hold\"].isna()][[\"department\", \"full_station_name\", \"step\", \"out_hold\", \"finish_date\"]].rename(columns=dict(out_hold=\"start\", finish_date=\"end\"))\n",
    "    post_hold.loc[:, \"Phase\"] = \"Started\"\n",
    "    \n",
    "    no_hold = df_copy[df_copy[\"in_hold\"].isna()][[\"department\", \"full_station_name\", \"step\", \"start_date\", \"finish_date\", \"hold_description\"]].rename(\n",
    "        columns=dict(start_date=\"start\", finish_date=\"end\")\n",
    "    )\n",
    "\n",
    "    # Make sure the duration of this event is at least 1 day by adding a day if \"start_date\" and \"finish_date\" are the same.\n",
    "    # This ensures the period is dispalyed on the chart, and can be hovered over to read the description.\n",
    "    no_hold[\"end\"] = no_hold[\"end\"].where(no_hold[\"end\"] > no_hold[\"start\"], no_hold[\"end\"] + pd.Timedelta(days=1))\n",
    "    no_hold.loc[:, \"Phase\"] = \"Started\"\n",
    "\n",
    "    staged_df = pd.concat(\n",
    "        [pending, pre_hold, hold, post_hold, no_hold], axis=0\n",
    "    ).sort_values(by=[\"step\"])\n",
    "    staged_df[\"hold_description\"] = staged_df[\"hold_description\"].apply(lambda s: \"<br>\".join(textwrap.wrap(s)) if isinstance(s, str) else \"N/A\")\n",
    "\n",
    "    fig = px.timeline(\n",
    "        staged_df,\n",
    "        x_start=\"start\",\n",
    "        x_end=\"end\",\n",
    "        y=\"full_station_name\",\n",
    "        color=\"Phase\",\n",
    "        color_discrete_map={\n",
    "            \"Pending\": colors.qualitative.Alphabet[24],  # yellow\n",
    "            \"Started\": colors.qualitative.Alphabet[9],  # green\n",
    "            \"In Hold\": colors.qualitative.Alphabet[17],  # red\n",
    "        },\n",
    "        hover_data=\"hold_description\",\n",
    "        title=f\"{df[\"Street Number\"].iloc[0]} {df[\"Street Name\"].iloc[0]} {df[\"Street Suffix\"].iloc[0]} ({int(df[\"Proposed Units\"].iloc[0])} Units)\",\n",
    "        labels={\"full_station_name\": \"Station\"},\n",
    "        category_orders={\"Phase\": [\"Pending\", \"Started\", \"In Hold\"]},\n",
    "        template=\"plotly_white\",\n",
    "        width=1000\n",
    "    )\n",
    "    fig.update_yaxes(autorange=\"reversed\")\n",
    "    fig.show()"
   ]
  },
  {
   "cell_type": "code",
   "execution_count": 37,
   "metadata": {},
   "outputs": [
    {
     "data": {
      "text/html": [
       "        <script type=\"text/javascript\">\n",
       "        window.PlotlyConfig = {MathJaxConfig: 'local'};\n",
       "        if (window.MathJax && window.MathJax.Hub && window.MathJax.Hub.Config) {window.MathJax.Hub.Config({SVG: {font: \"STIX-Web\"}});}\n",
       "        if (typeof require !== 'undefined') {\n",
       "        require.undef(\"plotly\");\n",
       "        requirejs.config({\n",
       "            paths: {\n",
       "                'plotly': ['https://cdn.plot.ly/plotly-2.35.0.min']\n",
       "            }\n",
       "        });\n",
       "        require(['plotly'], function(Plotly) {\n",
       "            window._Plotly = Plotly;\n",
       "        });\n",
       "        }\n",
       "        </script>\n",
       "        "
      ]
     },
     "metadata": {},
     "output_type": "display_data"
    },
    {
     "data": {
      "application/vnd.plotly.v1+json": {
       "config": {
        "plotlyServerURL": "https://plot.ly"
       },
       "data": [
        {
         "alignmentgroup": "True",
         "base": [
          "2022-04-07T00:00:00",
          "2022-04-15T00:00:00",
          "2023-02-14T00:00:00",
          "2023-02-28T00:00:00",
          "2023-04-18T00:00:00",
          "2023-02-15T00:00:00",
          "2023-11-15T00:00:00",
          "2023-05-01T00:00:00",
          "2023-10-18T00:00:00",
          "2023-10-30T00:00:00",
          "2023-05-17T00:00:00",
          "2023-05-19T00:00:00",
          "2023-09-21T00:00:00",
          "2023-10-11T00:00:00",
          "2023-09-20T00:00:00",
          "2023-11-09T00:00:00",
          "2023-12-04T00:00:00",
          "2022-01-24T00:00:00",
          "2023-12-18T00:00:00",
          "2023-12-20T00:00:00",
          "2023-12-21T00:00:00",
          "2023-12-21T00:00:00"
         ],
         "customdata": [
          [
           "N/A"
          ],
          [
           "N/A"
          ],
          [
           "N/A"
          ],
          [
           "N/A"
          ],
          [
           "N/A"
          ],
          [
           "N/A"
          ],
          [
           "N/A"
          ],
          [
           "N/A"
          ],
          [
           "N/A"
          ],
          [
           "N/A"
          ],
          [
           "N/A"
          ],
          [
           "N/A"
          ],
          [
           "N/A"
          ],
          [
           "N/A"
          ],
          [
           "N/A"
          ],
          [
           "N/A"
          ],
          [
           "N/A"
          ],
          [
           "N/A"
          ],
          [
           "N/A"
          ],
          [
           "N/A"
          ],
          [
           "N/A"
          ],
          [
           "N/A"
          ]
         ],
         "hovertemplate": "Phase=Pending<br>start=%{base}<br>end=%{x}<br>Station=%{y}<br>hold_description=%{customdata[0]}<extra></extra>",
         "legendgroup": "Pending",
         "marker": {
          "color": "#FBE426",
          "pattern": {
           "shape": ""
          }
         },
         "name": "Pending",
         "offsetgroup": "Pending",
         "orientation": "h",
         "showlegend": true,
         "textposition": "auto",
         "type": "bar",
         "x": [
          0,
          17452800000,
          0,
          172800000,
          0,
          6048000000,
          0,
          1209600000,
          0,
          172800000,
          172800000,
          2851200000,
          1036800000,
          0,
          0,
          2160000000,
          864000000,
          33264000000,
          172800000,
          0,
          0,
          86400000
         ],
         "xaxis": "x",
         "y": [
          "Central Permit Bureau",
          "City Planning - Zoning Plan Clerk",
          "City Planning - Zoning Plan Clerk",
          "City Planning - Zoning Plan Clerk",
          "Central Permit Bureau",
          "Building Plan Review Services",
          "Building Plan Review Services",
          "Fire Department",
          "Fire Department",
          "Fire Department",
          "Bureau of Street Use and Mapping",
          "Department of Public Works - Bureau of Urban Forestry",
          "Public Utilities Commission",
          "Public Utilities Commission",
          "Department of Public Works - Bureau of Urban Forestry",
          "Fire Department",
          "City Planning - Zoning Plan Clerk",
          "Bureau of Health",
          "Bureau of Street Use and Mapping",
          "Public Utilities Commission",
          "Permit Processing Center",
          "Central Permit Bureau"
         ],
         "yaxis": "y"
        },
        {
         "alignmentgroup": "True",
         "base": [
          "2022-04-07T00:00:00",
          "2023-02-14T00:00:00",
          "2023-02-14T00:00:00",
          "2023-02-14T00:00:00",
          "2023-03-02T00:00:00",
          "2023-04-18T00:00:00",
          "2023-04-26T00:00:00",
          "2023-11-15T00:00:00",
          "2023-05-15T00:00:00",
          "2023-10-18T00:00:00",
          "2023-11-01T00:00:00",
          "2023-05-19T00:00:00",
          "2023-06-21T00:00:00",
          "2023-10-03T00:00:00",
          "2023-10-11T00:00:00",
          "2023-09-20T00:00:00",
          "2023-12-04T00:00:00",
          "2023-12-14T00:00:00",
          "2023-02-13T00:00:00",
          "2023-02-24T00:00:00",
          "2023-12-20T00:00:00",
          "2023-12-20T00:00:00",
          "2023-12-21T00:00:00",
          "2023-12-22T00:00:00"
         ],
         "customdata": [
          [
           "N/A"
          ],
          [
           "N/A"
          ],
          [
           "N/A"
          ],
          [
           "approved - demolition of a one-story, one-bedroom single-family house<br>(2022.0407.1826) and the construction of a four-story residential<br>building consisting of two three-bedroom units. the project will also<br>include an enclosed three-car garage and private open space for each<br>unit. the project also includes one detached adu in the rear. approved<br>per m-21216. child care fee applicable. tidf - n/a for residential.<br>routed to dbi on 2/14/23"
          ],
          [
           "approved - restamp. ground floor revised to eliminate car stacker and<br>include 2 car parking spaces. demolition of a one-story, one-bedroom<br>single-family house (2022.0407.1826) and the construction of a four-<br>story residential building consisting of two three-bedroom units. the<br>project will also include an enclosed two-car garage and private open<br>space for each unit. the project also includes one detached adu in the<br>rear. approved per m-21216. child care fee applicable. tidf - n/a for<br>residential.  routed to dbi on 3/2/23"
          ],
          [
           "new plans arrived with dcp approval via mw from project sponsor. dcp<br>approval varies from 2/15/2023 and 3/2/2023, to be hand delivered to<br>mw, bldg for site plan review, cv"
          ],
          [
           "N/A"
          ],
          [
           "11/21/23:approved s/r2."
          ],
          [
           "N/A"
          ],
          [
           "attached comments to the application. routed to ppc."
          ],
          [
           "approved, routed to ppc"
          ],
          [
           "approved site permit only. addendum requirement(s) for sign off:<br>street improvement (new curb cut). download application(s) at<br>http://www.sfpublicworks.org/services/permits/application-forms and<br>submit electronically to bsmpermitdivision@sfdpw.org. your<br>construction addendum will be on-hold until all necessary permit(s)<br>are approved or the assigned bsm plan checker(s) may recommend sign<br>off. please call the office at (628) 271-2000 or email at<br>bsmpermitdivision@sfdpw.org for more information.<br>(clinton.choy@sfdpw.org)"
          ],
          [
           "need to email checklist to urbanforestry@sfdpw.org"
          ],
          [
           "requested additional information and pdfs from architect/designer -<br>10/03/23."
          ],
          [
           "permit has been assessed a capacity charge. dbi will collect charges.<br>see invoice attached to application. route to ppc - 10/11/23."
          ],
          [
           "addendum plans must include utilities like gas, water, sewer in<br>relationship to new tree."
          ],
          [
           "routed plan to ppc 12/04/2023  routed to estrella bin 11/28/23. lp"
          ],
          [
           "approved - restamp, minor changes to site plan, easement, adu<br>setbacks. state adu under separate permit no. 202212309593  4/18/23:<br>prior to permit issuance, route back to planning for final review of<br>receipt of recorded notice of special restrictions for state program<br>adu. project sponsor has been notified. contact<br>kalyani.agnihotri@sfgov.org - ka.\""
          ],
          [
           "N/A"
          ],
          [
           "N/A"
          ],
          [
           "re-stamp. addendum requirement(s) for sign off:  street improvement<br>(new curb cut). download application(s) at<br>http://www.sfpublicworks.org/services/permits/application-forms and<br>submit electronically to bsmpermitdivision@sfdpw.org. your<br>construction addendum will be on-hold until all necessary permit(s)<br>are approved or the assigned bsm plan checker(s) may recommend sign<br>off. please call the office at (628) 271-2000 or email at<br>bsmpermitdivision@sfdpw.org for more information.<br>(miguel.guzman@sfdpw.org)"
          ],
          [
           "restamp - permit has been assessed a capacity charge. dbi will collect<br>charges. see invoice attached to application. route to ppc - 12/20/23."
          ],
          [
           "12/21/23: to cpb w/1826; kw 12/20/23: to sfpuc for restamp rev1<br>w/1826; kw 12/18/23: to dpw-bsm for restamp rev1 w/1826; kw 12/4/23:<br>to cp-zoc for final review w/1826; kw 11/22/23:to sffd per bldg<br>w/1826; mml 11/9/23: to sffd per bldg w/1826; kw 11/1/23: to hold bin<br>#26 pending for bldg approval w/1826; kw 10/30/23: self checkout by<br>jerry estrella of sffd w/1826; kw 10/19/23: to hold bin #26 pending<br>for bldg & sffd approval w/1826; kw 10/11/23: to sffd w/1826; kw<br>!!!route to jerry estrella of sffd when plans back from sfpuc!!!<br>9/29/23 kw 9/21/23: to sfpuc w/1826; kw 5/17/23: to dpw-bsm w/1826; kw<br>5/1/23: to sffd w/1826. tw  3/13/23: to bldg site bin #1 w/1826. tw<br>3/3/23: route back to pre-plan check team to screen for review<br>times/tiers and otc eligibility w/1826. tw 2/28/23: route plans to<br>agnihotri kalyani at planning per her request since customer wants to<br>submit revision w/1826. tw 2/15/23: route to pre-plan check team to<br>screen for review times/tiers and otc eligibility w/1826. tw"
          ],
          [
           "3/19/24: no response / payment since 01/19/24. pls contact<br><dbi.cpbrequest@sfgov.org> when ready to pick up. return to \"sfusd<br>approve bin\" 01/19/24: gh161-908-7860 attacched. pending for the<br>payment. amaris. 01/17/24: gh request & invoice sent. amaris.<br>01/08/24: plan share with pa# 202204071826 & pa# 202204071831-s. 34<br>pages. pending for gh & owner builder form with id copy. amaris.<br>12/22/23: sfusd & green halo require. 34 pages. approve. gh, docs &<br>payor's info request. amaris. 11/28/2023: sfusd fee included to<br>issuance fee.ay 11/22/2023: sfusd form sent for calculation, permit<br>not ready to be issued.ay 4/15/22: travel togher with pa#<br>202204071826. has to issued with pa# 202204071826 together. rz."
          ]
         ],
         "hovertemplate": "Phase=Started<br>start=%{base}<br>end=%{x}<br>Station=%{y}<br>hold_description=%{customdata[0]}<extra></extra>",
         "legendgroup": "Started",
         "marker": {
          "color": "#1CBE4F",
          "pattern": {
           "shape": ""
          }
         },
         "name": "Started",
         "offsetgroup": "Started",
         "orientation": "h",
         "showlegend": true,
         "textposition": "auto",
         "type": "bar",
         "x": [
          86400000,
          -8899200000,
          0,
          86400000,
          86400000,
          86400000,
          172800000,
          604800000,
          0,
          172800000,
          86400000,
          86400000,
          86400000,
          86400000,
          86400000,
          86400000,
          86400000,
          86400000,
          0,
          0,
          86400000,
          86400000,
          86400000,
          12614400000
         ],
         "xaxis": "x",
         "y": [
          "Central Permit Bureau",
          "City Planning - Zoning Plan Clerk",
          "City Planning - Zoning Plan Clerk",
          "City Planning - Zoning Plan Clerk",
          "City Planning - Zoning Plan Clerk",
          "Central Permit Bureau",
          "Building Plan Review Services",
          "Building Plan Review Services",
          "Fire Department",
          "Fire Department",
          "Fire Department",
          "Bureau of Street Use and Mapping",
          "Department of Public Works - Bureau of Urban Forestry",
          "Public Utilities Commission",
          "Public Utilities Commission",
          "Department of Public Works - Bureau of Urban Forestry",
          "Fire Department",
          "City Planning - Zoning Plan Clerk",
          "Bureau of Health",
          "Bureau of Health",
          "Bureau of Street Use and Mapping",
          "Public Utilities Commission",
          "Permit Processing Center",
          "Central Permit Bureau"
         ],
         "yaxis": "y"
        },
        {
         "alignmentgroup": "True",
         "base": [
          null,
          "2022-11-03T00:00:00",
          null,
          null,
          null,
          "2023-04-28T00:00:00",
          null,
          "2023-05-15T00:00:00",
          null,
          null,
          null,
          null,
          null,
          null,
          null,
          null,
          null,
          "2023-02-13T00:00:00",
          null,
          null,
          null,
          null
         ],
         "customdata": [
          [
           "N/A"
          ],
          [
           "hold - scheduled for hearing on 12/1/22  4.19.22: please submit a copy<br>of the digital project application (prj) and 11x17 size set plans for<br>current planning intake directly to victoria.lewis@sfgov.org.  project<br>application can be found here:<br>https://sfplanning.org/sites/default/files/forms/prj_application.pdf."
          ],
          [
           "approved - demolition of a one-story, one-bedroom single-family house<br>(2022.0407.1826) and the construction of a four-story residential<br>building consisting of two three-bedroom units. the project will also<br>include an enclosed three-car garage and private open space for each<br>unit. the project also includes one detached adu in the rear. approved<br>per m-21216. child care fee applicable. tidf - n/a for residential.<br>routed to dbi on 2/14/23"
          ],
          [
           "approved - restamp. ground floor revised to eliminate car stacker and<br>include 2 car parking spaces. demolition of a one-story, one-bedroom<br>single-family house (2022.0407.1826) and the construction of a four-<br>story residential building consisting of two three-bedroom units. the<br>project will also include an enclosed two-car garage and private open<br>space for each unit. the project also includes one detached adu in the<br>rear. approved per m-21216. child care fee applicable. tidf - n/a for<br>residential.  routed to dbi on 3/2/23"
          ],
          [
           "new plans arrived with dcp approval via mw from project sponsor. dcp<br>approval varies from 2/15/2023 and 3/2/2023, to be hand delivered to<br>mw, bldg for site plan review, cv"
          ],
          [
           "11/9/23:comments issued by email. route back to fire. 7/7/23:fire<br>access requirement 4/28/23:hold. comments issued on mybb. route to<br>ppc. project (new building) involves a proposed easement on subject<br>lot to benefit the existing r-2 building (5033 geary st) located on a<br>land lock to access to public way and fire access review ."
          ],
          [
           "11/21/23:approved s/r2."
          ],
          [
           "routed to estrella bin 5/3/23. pf  re-assigned to estrella.<br>5/15/2023-kbm  on hold, comments on bb. 05/15/2023 je"
          ],
          [
           "attached comments to the application. routed to ppc."
          ],
          [
           "approved, routed to ppc"
          ],
          [
           "approved site permit only. addendum requirement(s) for sign off:<br>street improvement (new curb cut). download application(s) at<br>http://www.sfpublicworks.org/services/permits/application-forms and<br>submit electronically to bsmpermitdivision@sfdpw.org. your<br>construction addendum will be on-hold until all necessary permit(s)<br>are approved or the assigned bsm plan checker(s) may recommend sign<br>off. please call the office at (628) 271-2000 or email at<br>bsmpermitdivision@sfdpw.org for more information.<br>(clinton.choy@sfdpw.org)"
          ],
          [
           "requested additional information and pdfs from architect/designer -<br>10/03/23."
          ],
          [
           "need to email checklist to urbanforestry@sfdpw.org"
          ],
          [
           "permit has been assessed a capacity charge. dbi will collect charges.<br>see invoice attached to application. route to ppc - 10/11/23."
          ],
          [
           "addendum plans must include utilities like gas, water, sewer in<br>relationship to new tree."
          ],
          [
           "routed plan to ppc 12/04/2023  routed to estrella bin 11/28/23. lp"
          ],
          [
           "approved - restamp, minor changes to site plan, easement, adu<br>setbacks. state adu under separate permit no. 202212309593  4/18/23:<br>prior to permit issuance, route back to planning for final review of<br>receipt of recorded notice of special restrictions for state program<br>adu. project sponsor has been notified. contact<br>kalyani.agnihotri@sfgov.org - ka.\""
          ],
          [
           "hold: contact maher program to release hold (dph-<br>sitemitgeneral@sfdph.org or michelle.delacruz@sfdph.org)  2/24/23:hold<br>removed. n/a. program qualification review letter issued 2/23/23 for<br>smed no 2098. project is not subject to sfhc article 22a. you may<br>contact michelle dela cruz at michelle.delacruz@sfdph.org  12/21/23:<br>review result \"administrative\" added to reflect n/a."
          ],
          [
           "re-stamp. addendum requirement(s) for sign off:  street improvement<br>(new curb cut). download application(s) at<br>http://www.sfpublicworks.org/services/permits/application-forms and<br>submit electronically to bsmpermitdivision@sfdpw.org. your<br>construction addendum will be on-hold until all necessary permit(s)<br>are approved or the assigned bsm plan checker(s) may recommend sign<br>off. please call the office at (628) 271-2000 or email at<br>bsmpermitdivision@sfdpw.org for more information.<br>(miguel.guzman@sfdpw.org)"
          ],
          [
           "restamp - permit has been assessed a capacity charge. dbi will collect<br>charges. see invoice attached to application. route to ppc - 12/20/23."
          ],
          [
           "12/21/23: to cpb w/1826; kw 12/20/23: to sfpuc for restamp rev1<br>w/1826; kw 12/18/23: to dpw-bsm for restamp rev1 w/1826; kw 12/4/23:<br>to cp-zoc for final review w/1826; kw 11/22/23:to sffd per bldg<br>w/1826; mml 11/9/23: to sffd per bldg w/1826; kw 11/1/23: to hold bin<br>#26 pending for bldg approval w/1826; kw 10/30/23: self checkout by<br>jerry estrella of sffd w/1826; kw 10/19/23: to hold bin #26 pending<br>for bldg & sffd approval w/1826; kw 10/11/23: to sffd w/1826; kw<br>!!!route to jerry estrella of sffd when plans back from sfpuc!!!<br>9/29/23 kw 9/21/23: to sfpuc w/1826; kw 5/17/23: to dpw-bsm w/1826; kw<br>5/1/23: to sffd w/1826. tw  3/13/23: to bldg site bin #1 w/1826. tw<br>3/3/23: route back to pre-plan check team to screen for review<br>times/tiers and otc eligibility w/1826. tw 2/28/23: route plans to<br>agnihotri kalyani at planning per her request since customer wants to<br>submit revision w/1826. tw 2/15/23: route to pre-plan check team to<br>screen for review times/tiers and otc eligibility w/1826. tw"
          ],
          [
           "3/19/24: no response / payment since 01/19/24. pls contact<br><dbi.cpbrequest@sfgov.org> when ready to pick up. return to \"sfusd<br>approve bin\" 01/19/24: gh161-908-7860 attacched. pending for the<br>payment. amaris. 01/17/24: gh request & invoice sent. amaris.<br>01/08/24: plan share with pa# 202204071826 & pa# 202204071831-s. 34<br>pages. pending for gh & owner builder form with id copy. amaris.<br>12/22/23: sfusd & green halo require. 34 pages. approve. gh, docs &<br>payor's info request. amaris. 11/28/2023: sfusd fee included to<br>issuance fee.ay 11/22/2023: sfusd form sent for calculation, permit<br>not ready to be issued.ay 4/15/22: travel togher with pa#<br>202204071826. has to issued with pa# 202204071826 together. rz."
          ]
         ],
         "hovertemplate": "Phase=In Hold<br>start=%{base}<br>end=%{x}<br>Station=%{y}<br>hold_description=%{customdata[0]}<extra></extra>",
         "legendgroup": "In Hold",
         "marker": {
          "color": "#F6222E",
          "pattern": {
           "shape": ""
          }
         },
         "name": "In Hold",
         "offsetgroup": "In Hold",
         "orientation": "h",
         "showlegend": true,
         "textposition": "auto",
         "type": "bar",
         "x": [
          null,
          8899200000,
          null,
          null,
          null,
          16848000000,
          null,
          13564800000,
          null,
          null,
          null,
          null,
          null,
          null,
          null,
          null,
          null,
          950400000,
          null,
          null,
          null,
          null
         ],
         "xaxis": "x",
         "y": [
          "Central Permit Bureau",
          "City Planning - Zoning Plan Clerk",
          "City Planning - Zoning Plan Clerk",
          "City Planning - Zoning Plan Clerk",
          "Central Permit Bureau",
          "Building Plan Review Services",
          "Building Plan Review Services",
          "Fire Department",
          "Fire Department",
          "Fire Department",
          "Bureau of Street Use and Mapping",
          "Public Utilities Commission",
          "Department of Public Works - Bureau of Urban Forestry",
          "Public Utilities Commission",
          "Department of Public Works - Bureau of Urban Forestry",
          "Fire Department",
          "City Planning - Zoning Plan Clerk",
          "Bureau of Health",
          "Bureau of Street Use and Mapping",
          "Public Utilities Commission",
          "Permit Processing Center",
          "Central Permit Bureau"
         ],
         "yaxis": "y"
        }
       ],
       "layout": {
        "barmode": "overlay",
        "legend": {
         "title": {
          "text": "Phase"
         },
         "tracegroupgap": 0
        },
        "template": {
         "data": {
          "bar": [
           {
            "error_x": {
             "color": "#2a3f5f"
            },
            "error_y": {
             "color": "#2a3f5f"
            },
            "marker": {
             "line": {
              "color": "white",
              "width": 0.5
             },
             "pattern": {
              "fillmode": "overlay",
              "size": 10,
              "solidity": 0.2
             }
            },
            "type": "bar"
           }
          ],
          "barpolar": [
           {
            "marker": {
             "line": {
              "color": "white",
              "width": 0.5
             },
             "pattern": {
              "fillmode": "overlay",
              "size": 10,
              "solidity": 0.2
             }
            },
            "type": "barpolar"
           }
          ],
          "carpet": [
           {
            "aaxis": {
             "endlinecolor": "#2a3f5f",
             "gridcolor": "#C8D4E3",
             "linecolor": "#C8D4E3",
             "minorgridcolor": "#C8D4E3",
             "startlinecolor": "#2a3f5f"
            },
            "baxis": {
             "endlinecolor": "#2a3f5f",
             "gridcolor": "#C8D4E3",
             "linecolor": "#C8D4E3",
             "minorgridcolor": "#C8D4E3",
             "startlinecolor": "#2a3f5f"
            },
            "type": "carpet"
           }
          ],
          "choropleth": [
           {
            "colorbar": {
             "outlinewidth": 0,
             "ticks": ""
            },
            "type": "choropleth"
           }
          ],
          "contour": [
           {
            "colorbar": {
             "outlinewidth": 0,
             "ticks": ""
            },
            "colorscale": [
             [
              0,
              "#0d0887"
             ],
             [
              0.1111111111111111,
              "#46039f"
             ],
             [
              0.2222222222222222,
              "#7201a8"
             ],
             [
              0.3333333333333333,
              "#9c179e"
             ],
             [
              0.4444444444444444,
              "#bd3786"
             ],
             [
              0.5555555555555556,
              "#d8576b"
             ],
             [
              0.6666666666666666,
              "#ed7953"
             ],
             [
              0.7777777777777778,
              "#fb9f3a"
             ],
             [
              0.8888888888888888,
              "#fdca26"
             ],
             [
              1,
              "#f0f921"
             ]
            ],
            "type": "contour"
           }
          ],
          "contourcarpet": [
           {
            "colorbar": {
             "outlinewidth": 0,
             "ticks": ""
            },
            "type": "contourcarpet"
           }
          ],
          "heatmap": [
           {
            "colorbar": {
             "outlinewidth": 0,
             "ticks": ""
            },
            "colorscale": [
             [
              0,
              "#0d0887"
             ],
             [
              0.1111111111111111,
              "#46039f"
             ],
             [
              0.2222222222222222,
              "#7201a8"
             ],
             [
              0.3333333333333333,
              "#9c179e"
             ],
             [
              0.4444444444444444,
              "#bd3786"
             ],
             [
              0.5555555555555556,
              "#d8576b"
             ],
             [
              0.6666666666666666,
              "#ed7953"
             ],
             [
              0.7777777777777778,
              "#fb9f3a"
             ],
             [
              0.8888888888888888,
              "#fdca26"
             ],
             [
              1,
              "#f0f921"
             ]
            ],
            "type": "heatmap"
           }
          ],
          "heatmapgl": [
           {
            "colorbar": {
             "outlinewidth": 0,
             "ticks": ""
            },
            "colorscale": [
             [
              0,
              "#0d0887"
             ],
             [
              0.1111111111111111,
              "#46039f"
             ],
             [
              0.2222222222222222,
              "#7201a8"
             ],
             [
              0.3333333333333333,
              "#9c179e"
             ],
             [
              0.4444444444444444,
              "#bd3786"
             ],
             [
              0.5555555555555556,
              "#d8576b"
             ],
             [
              0.6666666666666666,
              "#ed7953"
             ],
             [
              0.7777777777777778,
              "#fb9f3a"
             ],
             [
              0.8888888888888888,
              "#fdca26"
             ],
             [
              1,
              "#f0f921"
             ]
            ],
            "type": "heatmapgl"
           }
          ],
          "histogram": [
           {
            "marker": {
             "pattern": {
              "fillmode": "overlay",
              "size": 10,
              "solidity": 0.2
             }
            },
            "type": "histogram"
           }
          ],
          "histogram2d": [
           {
            "colorbar": {
             "outlinewidth": 0,
             "ticks": ""
            },
            "colorscale": [
             [
              0,
              "#0d0887"
             ],
             [
              0.1111111111111111,
              "#46039f"
             ],
             [
              0.2222222222222222,
              "#7201a8"
             ],
             [
              0.3333333333333333,
              "#9c179e"
             ],
             [
              0.4444444444444444,
              "#bd3786"
             ],
             [
              0.5555555555555556,
              "#d8576b"
             ],
             [
              0.6666666666666666,
              "#ed7953"
             ],
             [
              0.7777777777777778,
              "#fb9f3a"
             ],
             [
              0.8888888888888888,
              "#fdca26"
             ],
             [
              1,
              "#f0f921"
             ]
            ],
            "type": "histogram2d"
           }
          ],
          "histogram2dcontour": [
           {
            "colorbar": {
             "outlinewidth": 0,
             "ticks": ""
            },
            "colorscale": [
             [
              0,
              "#0d0887"
             ],
             [
              0.1111111111111111,
              "#46039f"
             ],
             [
              0.2222222222222222,
              "#7201a8"
             ],
             [
              0.3333333333333333,
              "#9c179e"
             ],
             [
              0.4444444444444444,
              "#bd3786"
             ],
             [
              0.5555555555555556,
              "#d8576b"
             ],
             [
              0.6666666666666666,
              "#ed7953"
             ],
             [
              0.7777777777777778,
              "#fb9f3a"
             ],
             [
              0.8888888888888888,
              "#fdca26"
             ],
             [
              1,
              "#f0f921"
             ]
            ],
            "type": "histogram2dcontour"
           }
          ],
          "mesh3d": [
           {
            "colorbar": {
             "outlinewidth": 0,
             "ticks": ""
            },
            "type": "mesh3d"
           }
          ],
          "parcoords": [
           {
            "line": {
             "colorbar": {
              "outlinewidth": 0,
              "ticks": ""
             }
            },
            "type": "parcoords"
           }
          ],
          "pie": [
           {
            "automargin": true,
            "type": "pie"
           }
          ],
          "scatter": [
           {
            "fillpattern": {
             "fillmode": "overlay",
             "size": 10,
             "solidity": 0.2
            },
            "type": "scatter"
           }
          ],
          "scatter3d": [
           {
            "line": {
             "colorbar": {
              "outlinewidth": 0,
              "ticks": ""
             }
            },
            "marker": {
             "colorbar": {
              "outlinewidth": 0,
              "ticks": ""
             }
            },
            "type": "scatter3d"
           }
          ],
          "scattercarpet": [
           {
            "marker": {
             "colorbar": {
              "outlinewidth": 0,
              "ticks": ""
             }
            },
            "type": "scattercarpet"
           }
          ],
          "scattergeo": [
           {
            "marker": {
             "colorbar": {
              "outlinewidth": 0,
              "ticks": ""
             }
            },
            "type": "scattergeo"
           }
          ],
          "scattergl": [
           {
            "marker": {
             "colorbar": {
              "outlinewidth": 0,
              "ticks": ""
             }
            },
            "type": "scattergl"
           }
          ],
          "scattermapbox": [
           {
            "marker": {
             "colorbar": {
              "outlinewidth": 0,
              "ticks": ""
             }
            },
            "type": "scattermapbox"
           }
          ],
          "scatterpolar": [
           {
            "marker": {
             "colorbar": {
              "outlinewidth": 0,
              "ticks": ""
             }
            },
            "type": "scatterpolar"
           }
          ],
          "scatterpolargl": [
           {
            "marker": {
             "colorbar": {
              "outlinewidth": 0,
              "ticks": ""
             }
            },
            "type": "scatterpolargl"
           }
          ],
          "scatterternary": [
           {
            "marker": {
             "colorbar": {
              "outlinewidth": 0,
              "ticks": ""
             }
            },
            "type": "scatterternary"
           }
          ],
          "surface": [
           {
            "colorbar": {
             "outlinewidth": 0,
             "ticks": ""
            },
            "colorscale": [
             [
              0,
              "#0d0887"
             ],
             [
              0.1111111111111111,
              "#46039f"
             ],
             [
              0.2222222222222222,
              "#7201a8"
             ],
             [
              0.3333333333333333,
              "#9c179e"
             ],
             [
              0.4444444444444444,
              "#bd3786"
             ],
             [
              0.5555555555555556,
              "#d8576b"
             ],
             [
              0.6666666666666666,
              "#ed7953"
             ],
             [
              0.7777777777777778,
              "#fb9f3a"
             ],
             [
              0.8888888888888888,
              "#fdca26"
             ],
             [
              1,
              "#f0f921"
             ]
            ],
            "type": "surface"
           }
          ],
          "table": [
           {
            "cells": {
             "fill": {
              "color": "#EBF0F8"
             },
             "line": {
              "color": "white"
             }
            },
            "header": {
             "fill": {
              "color": "#C8D4E3"
             },
             "line": {
              "color": "white"
             }
            },
            "type": "table"
           }
          ]
         },
         "layout": {
          "annotationdefaults": {
           "arrowcolor": "#2a3f5f",
           "arrowhead": 0,
           "arrowwidth": 1
          },
          "autotypenumbers": "strict",
          "coloraxis": {
           "colorbar": {
            "outlinewidth": 0,
            "ticks": ""
           }
          },
          "colorscale": {
           "diverging": [
            [
             0,
             "#8e0152"
            ],
            [
             0.1,
             "#c51b7d"
            ],
            [
             0.2,
             "#de77ae"
            ],
            [
             0.3,
             "#f1b6da"
            ],
            [
             0.4,
             "#fde0ef"
            ],
            [
             0.5,
             "#f7f7f7"
            ],
            [
             0.6,
             "#e6f5d0"
            ],
            [
             0.7,
             "#b8e186"
            ],
            [
             0.8,
             "#7fbc41"
            ],
            [
             0.9,
             "#4d9221"
            ],
            [
             1,
             "#276419"
            ]
           ],
           "sequential": [
            [
             0,
             "#0d0887"
            ],
            [
             0.1111111111111111,
             "#46039f"
            ],
            [
             0.2222222222222222,
             "#7201a8"
            ],
            [
             0.3333333333333333,
             "#9c179e"
            ],
            [
             0.4444444444444444,
             "#bd3786"
            ],
            [
             0.5555555555555556,
             "#d8576b"
            ],
            [
             0.6666666666666666,
             "#ed7953"
            ],
            [
             0.7777777777777778,
             "#fb9f3a"
            ],
            [
             0.8888888888888888,
             "#fdca26"
            ],
            [
             1,
             "#f0f921"
            ]
           ],
           "sequentialminus": [
            [
             0,
             "#0d0887"
            ],
            [
             0.1111111111111111,
             "#46039f"
            ],
            [
             0.2222222222222222,
             "#7201a8"
            ],
            [
             0.3333333333333333,
             "#9c179e"
            ],
            [
             0.4444444444444444,
             "#bd3786"
            ],
            [
             0.5555555555555556,
             "#d8576b"
            ],
            [
             0.6666666666666666,
             "#ed7953"
            ],
            [
             0.7777777777777778,
             "#fb9f3a"
            ],
            [
             0.8888888888888888,
             "#fdca26"
            ],
            [
             1,
             "#f0f921"
            ]
           ]
          },
          "colorway": [
           "#636efa",
           "#EF553B",
           "#00cc96",
           "#ab63fa",
           "#FFA15A",
           "#19d3f3",
           "#FF6692",
           "#B6E880",
           "#FF97FF",
           "#FECB52"
          ],
          "font": {
           "color": "#2a3f5f"
          },
          "geo": {
           "bgcolor": "white",
           "lakecolor": "white",
           "landcolor": "white",
           "showlakes": true,
           "showland": true,
           "subunitcolor": "#C8D4E3"
          },
          "hoverlabel": {
           "align": "left"
          },
          "hovermode": "closest",
          "mapbox": {
           "style": "light"
          },
          "paper_bgcolor": "white",
          "plot_bgcolor": "white",
          "polar": {
           "angularaxis": {
            "gridcolor": "#EBF0F8",
            "linecolor": "#EBF0F8",
            "ticks": ""
           },
           "bgcolor": "white",
           "radialaxis": {
            "gridcolor": "#EBF0F8",
            "linecolor": "#EBF0F8",
            "ticks": ""
           }
          },
          "scene": {
           "xaxis": {
            "backgroundcolor": "white",
            "gridcolor": "#DFE8F3",
            "gridwidth": 2,
            "linecolor": "#EBF0F8",
            "showbackground": true,
            "ticks": "",
            "zerolinecolor": "#EBF0F8"
           },
           "yaxis": {
            "backgroundcolor": "white",
            "gridcolor": "#DFE8F3",
            "gridwidth": 2,
            "linecolor": "#EBF0F8",
            "showbackground": true,
            "ticks": "",
            "zerolinecolor": "#EBF0F8"
           },
           "zaxis": {
            "backgroundcolor": "white",
            "gridcolor": "#DFE8F3",
            "gridwidth": 2,
            "linecolor": "#EBF0F8",
            "showbackground": true,
            "ticks": "",
            "zerolinecolor": "#EBF0F8"
           }
          },
          "shapedefaults": {
           "line": {
            "color": "#2a3f5f"
           }
          },
          "ternary": {
           "aaxis": {
            "gridcolor": "#DFE8F3",
            "linecolor": "#A2B1C6",
            "ticks": ""
           },
           "baxis": {
            "gridcolor": "#DFE8F3",
            "linecolor": "#A2B1C6",
            "ticks": ""
           },
           "bgcolor": "white",
           "caxis": {
            "gridcolor": "#DFE8F3",
            "linecolor": "#A2B1C6",
            "ticks": ""
           }
          },
          "title": {
           "x": 0.05
          },
          "xaxis": {
           "automargin": true,
           "gridcolor": "#EBF0F8",
           "linecolor": "#EBF0F8",
           "ticks": "",
           "title": {
            "standoff": 15
           },
           "zerolinecolor": "#EBF0F8",
           "zerolinewidth": 2
          },
          "yaxis": {
           "automargin": true,
           "gridcolor": "#EBF0F8",
           "linecolor": "#EBF0F8",
           "ticks": "",
           "title": {
            "standoff": 15
           },
           "zerolinecolor": "#EBF0F8",
           "zerolinewidth": 2
          }
         }
        },
        "title": {
         "text": "428 15th Av (2 Units)"
        },
        "width": 1000,
        "xaxis": {
         "anchor": "y",
         "domain": [
          0,
          1
         ],
         "type": "date"
        },
        "yaxis": {
         "anchor": "x",
         "autorange": "reversed",
         "domain": [
          0,
          1
         ],
         "title": {
          "text": "Station"
         }
        }
       }
      },
      "text/html": [
       "<div>                            <div id=\"d29ae61a-e1a7-4686-bfa0-bd984d14e091\" class=\"plotly-graph-div\" style=\"height:525px; width:1000px;\"></div>            <script type=\"text/javascript\">                require([\"plotly\"], function(Plotly) {                    window.PLOTLYENV=window.PLOTLYENV || {};                                    if (document.getElementById(\"d29ae61a-e1a7-4686-bfa0-bd984d14e091\")) {                    Plotly.newPlot(                        \"d29ae61a-e1a7-4686-bfa0-bd984d14e091\",                        [{\"alignmentgroup\":\"True\",\"base\":[\"2022-04-07T00:00:00\",\"2022-04-15T00:00:00\",\"2023-02-14T00:00:00\",\"2023-02-28T00:00:00\",\"2023-04-18T00:00:00\",\"2023-02-15T00:00:00\",\"2023-11-15T00:00:00\",\"2023-05-01T00:00:00\",\"2023-10-18T00:00:00\",\"2023-10-30T00:00:00\",\"2023-05-17T00:00:00\",\"2023-05-19T00:00:00\",\"2023-09-21T00:00:00\",\"2023-10-11T00:00:00\",\"2023-09-20T00:00:00\",\"2023-11-09T00:00:00\",\"2023-12-04T00:00:00\",\"2022-01-24T00:00:00\",\"2023-12-18T00:00:00\",\"2023-12-20T00:00:00\",\"2023-12-21T00:00:00\",\"2023-12-21T00:00:00\"],\"customdata\":[[\"N\\u002fA\"],[\"N\\u002fA\"],[\"N\\u002fA\"],[\"N\\u002fA\"],[\"N\\u002fA\"],[\"N\\u002fA\"],[\"N\\u002fA\"],[\"N\\u002fA\"],[\"N\\u002fA\"],[\"N\\u002fA\"],[\"N\\u002fA\"],[\"N\\u002fA\"],[\"N\\u002fA\"],[\"N\\u002fA\"],[\"N\\u002fA\"],[\"N\\u002fA\"],[\"N\\u002fA\"],[\"N\\u002fA\"],[\"N\\u002fA\"],[\"N\\u002fA\"],[\"N\\u002fA\"],[\"N\\u002fA\"]],\"hovertemplate\":\"Phase=Pending\\u003cbr\\u003estart=%{base}\\u003cbr\\u003eend=%{x}\\u003cbr\\u003eStation=%{y}\\u003cbr\\u003ehold_description=%{customdata[0]}\\u003cextra\\u003e\\u003c\\u002fextra\\u003e\",\"legendgroup\":\"Pending\",\"marker\":{\"color\":\"#FBE426\",\"pattern\":{\"shape\":\"\"}},\"name\":\"Pending\",\"offsetgroup\":\"Pending\",\"orientation\":\"h\",\"showlegend\":true,\"textposition\":\"auto\",\"x\":[0.0,17452800000.0,0.0,172800000.0,0.0,6048000000.0,0.0,1209600000.0,0.0,172800000.0,172800000.0,2851200000.0,1036800000.0,0.0,0.0,2160000000.0,864000000.0,33264000000.0,172800000.0,0.0,0.0,86400000.0],\"xaxis\":\"x\",\"y\":[\"Central Permit Bureau\",\"City Planning - Zoning Plan Clerk\",\"City Planning - Zoning Plan Clerk\",\"City Planning - Zoning Plan Clerk\",\"Central Permit Bureau\",\"Building Plan Review Services\",\"Building Plan Review Services\",\"Fire Department\",\"Fire Department\",\"Fire Department\",\"Bureau of Street Use and Mapping\",\"Department of Public Works - Bureau of Urban Forestry\",\"Public Utilities Commission\",\"Public Utilities Commission\",\"Department of Public Works - Bureau of Urban Forestry\",\"Fire Department\",\"City Planning - Zoning Plan Clerk\",\"Bureau of Health\",\"Bureau of Street Use and Mapping\",\"Public Utilities Commission\",\"Permit Processing Center\",\"Central Permit Bureau\"],\"yaxis\":\"y\",\"type\":\"bar\"},{\"alignmentgroup\":\"True\",\"base\":[\"2022-04-07T00:00:00\",\"2023-02-14T00:00:00\",\"2023-02-14T00:00:00\",\"2023-02-14T00:00:00\",\"2023-03-02T00:00:00\",\"2023-04-18T00:00:00\",\"2023-04-26T00:00:00\",\"2023-11-15T00:00:00\",\"2023-05-15T00:00:00\",\"2023-10-18T00:00:00\",\"2023-11-01T00:00:00\",\"2023-05-19T00:00:00\",\"2023-06-21T00:00:00\",\"2023-10-03T00:00:00\",\"2023-10-11T00:00:00\",\"2023-09-20T00:00:00\",\"2023-12-04T00:00:00\",\"2023-12-14T00:00:00\",\"2023-02-13T00:00:00\",\"2023-02-24T00:00:00\",\"2023-12-20T00:00:00\",\"2023-12-20T00:00:00\",\"2023-12-21T00:00:00\",\"2023-12-22T00:00:00\"],\"customdata\":[[\"N\\u002fA\"],[\"N\\u002fA\"],[\"N\\u002fA\"],[\"approved - demolition of a one-story, one-bedroom single-family house\\u003cbr\\u003e(2022.0407.1826) and the construction of a four-story residential\\u003cbr\\u003ebuilding consisting of two three-bedroom units. the project will also\\u003cbr\\u003einclude an enclosed three-car garage and private open space for each\\u003cbr\\u003eunit. the project also includes one detached adu in the rear. approved\\u003cbr\\u003eper m-21216. child care fee applicable. tidf - n\\u002fa for residential.\\u003cbr\\u003erouted to dbi on 2\\u002f14\\u002f23\"],[\"approved - restamp. ground floor revised to eliminate car stacker and\\u003cbr\\u003einclude 2 car parking spaces. demolition of a one-story, one-bedroom\\u003cbr\\u003esingle-family house (2022.0407.1826) and the construction of a four-\\u003cbr\\u003estory residential building consisting of two three-bedroom units. the\\u003cbr\\u003eproject will also include an enclosed two-car garage and private open\\u003cbr\\u003espace for each unit. the project also includes one detached adu in the\\u003cbr\\u003erear. approved per m-21216. child care fee applicable. tidf - n\\u002fa for\\u003cbr\\u003eresidential.  routed to dbi on 3\\u002f2\\u002f23\"],[\"new plans arrived with dcp approval via mw from project sponsor. dcp\\u003cbr\\u003eapproval varies from 2\\u002f15\\u002f2023 and 3\\u002f2\\u002f2023, to be hand delivered to\\u003cbr\\u003emw, bldg for site plan review, cv\"],[\"N\\u002fA\"],[\"11\\u002f21\\u002f23:approved s\\u002fr2.\"],[\"N\\u002fA\"],[\"attached comments to the application. routed to ppc.\"],[\"approved, routed to ppc\"],[\"approved site permit only. addendum requirement(s) for sign off:\\u003cbr\\u003estreet improvement (new curb cut). download application(s) at\\u003cbr\\u003ehttp:\\u002f\\u002fwww.sfpublicworks.org\\u002fservices\\u002fpermits\\u002fapplication-forms and\\u003cbr\\u003esubmit electronically to bsmpermitdivision@sfdpw.org. your\\u003cbr\\u003econstruction addendum will be on-hold until all necessary permit(s)\\u003cbr\\u003eare approved or the assigned bsm plan checker(s) may recommend sign\\u003cbr\\u003eoff. please call the office at (628) 271-2000 or email at\\u003cbr\\u003ebsmpermitdivision@sfdpw.org for more information.\\u003cbr\\u003e(clinton.choy@sfdpw.org)\"],[\"need to email checklist to urbanforestry@sfdpw.org\"],[\"requested additional information and pdfs from architect\\u002fdesigner -\\u003cbr\\u003e10\\u002f03\\u002f23.\"],[\"permit has been assessed a capacity charge. dbi will collect charges.\\u003cbr\\u003esee invoice attached to application. route to ppc - 10\\u002f11\\u002f23.\"],[\"addendum plans must include utilities like gas, water, sewer in\\u003cbr\\u003erelationship to new tree.\"],[\"routed plan to ppc 12\\u002f04\\u002f2023  routed to estrella bin 11\\u002f28\\u002f23. lp\"],[\"approved - restamp, minor changes to site plan, easement, adu\\u003cbr\\u003esetbacks. state adu under separate permit no. 202212309593  4\\u002f18\\u002f23:\\u003cbr\\u003eprior to permit issuance, route back to planning for final review of\\u003cbr\\u003ereceipt of recorded notice of special restrictions for state program\\u003cbr\\u003eadu. project sponsor has been notified. contact\\u003cbr\\u003ekalyani.agnihotri@sfgov.org - ka.\\\"\"],[\"N\\u002fA\"],[\"N\\u002fA\"],[\"re-stamp. addendum requirement(s) for sign off:  street improvement\\u003cbr\\u003e(new curb cut). download application(s) at\\u003cbr\\u003ehttp:\\u002f\\u002fwww.sfpublicworks.org\\u002fservices\\u002fpermits\\u002fapplication-forms and\\u003cbr\\u003esubmit electronically to bsmpermitdivision@sfdpw.org. your\\u003cbr\\u003econstruction addendum will be on-hold until all necessary permit(s)\\u003cbr\\u003eare approved or the assigned bsm plan checker(s) may recommend sign\\u003cbr\\u003eoff. please call the office at (628) 271-2000 or email at\\u003cbr\\u003ebsmpermitdivision@sfdpw.org for more information.\\u003cbr\\u003e(miguel.guzman@sfdpw.org)\"],[\"restamp - permit has been assessed a capacity charge. dbi will collect\\u003cbr\\u003echarges. see invoice attached to application. route to ppc - 12\\u002f20\\u002f23.\"],[\"12\\u002f21\\u002f23: to cpb w\\u002f1826; kw 12\\u002f20\\u002f23: to sfpuc for restamp rev1\\u003cbr\\u003ew\\u002f1826; kw 12\\u002f18\\u002f23: to dpw-bsm for restamp rev1 w\\u002f1826; kw 12\\u002f4\\u002f23:\\u003cbr\\u003eto cp-zoc for final review w\\u002f1826; kw 11\\u002f22\\u002f23:to sffd per bldg\\u003cbr\\u003ew\\u002f1826; mml 11\\u002f9\\u002f23: to sffd per bldg w\\u002f1826; kw 11\\u002f1\\u002f23: to hold bin\\u003cbr\\u003e#26 pending for bldg approval w\\u002f1826; kw 10\\u002f30\\u002f23: self checkout by\\u003cbr\\u003ejerry estrella of sffd w\\u002f1826; kw 10\\u002f19\\u002f23: to hold bin #26 pending\\u003cbr\\u003efor bldg & sffd approval w\\u002f1826; kw 10\\u002f11\\u002f23: to sffd w\\u002f1826; kw\\u003cbr\\u003e!!!route to jerry estrella of sffd when plans back from sfpuc!!!\\u003cbr\\u003e9\\u002f29\\u002f23 kw 9\\u002f21\\u002f23: to sfpuc w\\u002f1826; kw 5\\u002f17\\u002f23: to dpw-bsm w\\u002f1826; kw\\u003cbr\\u003e5\\u002f1\\u002f23: to sffd w\\u002f1826. tw  3\\u002f13\\u002f23: to bldg site bin #1 w\\u002f1826. tw\\u003cbr\\u003e3\\u002f3\\u002f23: route back to pre-plan check team to screen for review\\u003cbr\\u003etimes\\u002ftiers and otc eligibility w\\u002f1826. tw 2\\u002f28\\u002f23: route plans to\\u003cbr\\u003eagnihotri kalyani at planning per her request since customer wants to\\u003cbr\\u003esubmit revision w\\u002f1826. tw 2\\u002f15\\u002f23: route to pre-plan check team to\\u003cbr\\u003escreen for review times\\u002ftiers and otc eligibility w\\u002f1826. tw\"],[\"3\\u002f19\\u002f24: no response \\u002f payment since 01\\u002f19\\u002f24. pls contact\\u003cbr\\u003e\\u003cdbi.cpbrequest@sfgov.org\\u003e when ready to pick up. return to \\\"sfusd\\u003cbr\\u003eapprove bin\\\" 01\\u002f19\\u002f24: gh161-908-7860 attacched. pending for the\\u003cbr\\u003epayment. amaris. 01\\u002f17\\u002f24: gh request & invoice sent. amaris.\\u003cbr\\u003e01\\u002f08\\u002f24: plan share with pa# 202204071826 & pa# 202204071831-s. 34\\u003cbr\\u003epages. pending for gh & owner builder form with id copy. amaris.\\u003cbr\\u003e12\\u002f22\\u002f23: sfusd & green halo require. 34 pages. approve. gh, docs &\\u003cbr\\u003epayor's info request. amaris. 11\\u002f28\\u002f2023: sfusd fee included to\\u003cbr\\u003eissuance fee.ay 11\\u002f22\\u002f2023: sfusd form sent for calculation, permit\\u003cbr\\u003enot ready to be issued.ay 4\\u002f15\\u002f22: travel togher with pa#\\u003cbr\\u003e202204071826. has to issued with pa# 202204071826 together. rz.\"]],\"hovertemplate\":\"Phase=Started\\u003cbr\\u003estart=%{base}\\u003cbr\\u003eend=%{x}\\u003cbr\\u003eStation=%{y}\\u003cbr\\u003ehold_description=%{customdata[0]}\\u003cextra\\u003e\\u003c\\u002fextra\\u003e\",\"legendgroup\":\"Started\",\"marker\":{\"color\":\"#1CBE4F\",\"pattern\":{\"shape\":\"\"}},\"name\":\"Started\",\"offsetgroup\":\"Started\",\"orientation\":\"h\",\"showlegend\":true,\"textposition\":\"auto\",\"x\":[86400000.0,-8899200000.0,0.0,86400000.0,86400000.0,86400000.0,172800000.0,604800000.0,0.0,172800000.0,86400000.0,86400000.0,86400000.0,86400000.0,86400000.0,86400000.0,86400000.0,86400000.0,0.0,0.0,86400000.0,86400000.0,86400000.0,12614400000.0],\"xaxis\":\"x\",\"y\":[\"Central Permit Bureau\",\"City Planning - Zoning Plan Clerk\",\"City Planning - Zoning Plan Clerk\",\"City Planning - Zoning Plan Clerk\",\"City Planning - Zoning Plan Clerk\",\"Central Permit Bureau\",\"Building Plan Review Services\",\"Building Plan Review Services\",\"Fire Department\",\"Fire Department\",\"Fire Department\",\"Bureau of Street Use and Mapping\",\"Department of Public Works - Bureau of Urban Forestry\",\"Public Utilities Commission\",\"Public Utilities Commission\",\"Department of Public Works - Bureau of Urban Forestry\",\"Fire Department\",\"City Planning - Zoning Plan Clerk\",\"Bureau of Health\",\"Bureau of Health\",\"Bureau of Street Use and Mapping\",\"Public Utilities Commission\",\"Permit Processing Center\",\"Central Permit Bureau\"],\"yaxis\":\"y\",\"type\":\"bar\"},{\"alignmentgroup\":\"True\",\"base\":[null,\"2022-11-03T00:00:00\",null,null,null,\"2023-04-28T00:00:00\",null,\"2023-05-15T00:00:00\",null,null,null,null,null,null,null,null,null,\"2023-02-13T00:00:00\",null,null,null,null],\"customdata\":[[\"N\\u002fA\"],[\"hold - scheduled for hearing on 12\\u002f1\\u002f22  4.19.22: please submit a copy\\u003cbr\\u003eof the digital project application (prj) and 11x17 size set plans for\\u003cbr\\u003ecurrent planning intake directly to victoria.lewis@sfgov.org.  project\\u003cbr\\u003eapplication can be found here:\\u003cbr\\u003ehttps:\\u002f\\u002fsfplanning.org\\u002fsites\\u002fdefault\\u002ffiles\\u002fforms\\u002fprj_application.pdf.\"],[\"approved - demolition of a one-story, one-bedroom single-family house\\u003cbr\\u003e(2022.0407.1826) and the construction of a four-story residential\\u003cbr\\u003ebuilding consisting of two three-bedroom units. the project will also\\u003cbr\\u003einclude an enclosed three-car garage and private open space for each\\u003cbr\\u003eunit. the project also includes one detached adu in the rear. approved\\u003cbr\\u003eper m-21216. child care fee applicable. tidf - n\\u002fa for residential.\\u003cbr\\u003erouted to dbi on 2\\u002f14\\u002f23\"],[\"approved - restamp. ground floor revised to eliminate car stacker and\\u003cbr\\u003einclude 2 car parking spaces. demolition of a one-story, one-bedroom\\u003cbr\\u003esingle-family house (2022.0407.1826) and the construction of a four-\\u003cbr\\u003estory residential building consisting of two three-bedroom units. the\\u003cbr\\u003eproject will also include an enclosed two-car garage and private open\\u003cbr\\u003espace for each unit. the project also includes one detached adu in the\\u003cbr\\u003erear. approved per m-21216. child care fee applicable. tidf - n\\u002fa for\\u003cbr\\u003eresidential.  routed to dbi on 3\\u002f2\\u002f23\"],[\"new plans arrived with dcp approval via mw from project sponsor. dcp\\u003cbr\\u003eapproval varies from 2\\u002f15\\u002f2023 and 3\\u002f2\\u002f2023, to be hand delivered to\\u003cbr\\u003emw, bldg for site plan review, cv\"],[\"11\\u002f9\\u002f23:comments issued by email. route back to fire. 7\\u002f7\\u002f23:fire\\u003cbr\\u003eaccess requirement 4\\u002f28\\u002f23:hold. comments issued on mybb. route to\\u003cbr\\u003eppc. project (new building) involves a proposed easement on subject\\u003cbr\\u003elot to benefit the existing r-2 building (5033 geary st) located on a\\u003cbr\\u003eland lock to access to public way and fire access review .\"],[\"11\\u002f21\\u002f23:approved s\\u002fr2.\"],[\"routed to estrella bin 5\\u002f3\\u002f23. pf  re-assigned to estrella.\\u003cbr\\u003e5\\u002f15\\u002f2023-kbm  on hold, comments on bb. 05\\u002f15\\u002f2023 je\"],[\"attached comments to the application. routed to ppc.\"],[\"approved, routed to ppc\"],[\"approved site permit only. addendum requirement(s) for sign off:\\u003cbr\\u003estreet improvement (new curb cut). download application(s) at\\u003cbr\\u003ehttp:\\u002f\\u002fwww.sfpublicworks.org\\u002fservices\\u002fpermits\\u002fapplication-forms and\\u003cbr\\u003esubmit electronically to bsmpermitdivision@sfdpw.org. your\\u003cbr\\u003econstruction addendum will be on-hold until all necessary permit(s)\\u003cbr\\u003eare approved or the assigned bsm plan checker(s) may recommend sign\\u003cbr\\u003eoff. please call the office at (628) 271-2000 or email at\\u003cbr\\u003ebsmpermitdivision@sfdpw.org for more information.\\u003cbr\\u003e(clinton.choy@sfdpw.org)\"],[\"requested additional information and pdfs from architect\\u002fdesigner -\\u003cbr\\u003e10\\u002f03\\u002f23.\"],[\"need to email checklist to urbanforestry@sfdpw.org\"],[\"permit has been assessed a capacity charge. dbi will collect charges.\\u003cbr\\u003esee invoice attached to application. route to ppc - 10\\u002f11\\u002f23.\"],[\"addendum plans must include utilities like gas, water, sewer in\\u003cbr\\u003erelationship to new tree.\"],[\"routed plan to ppc 12\\u002f04\\u002f2023  routed to estrella bin 11\\u002f28\\u002f23. lp\"],[\"approved - restamp, minor changes to site plan, easement, adu\\u003cbr\\u003esetbacks. state adu under separate permit no. 202212309593  4\\u002f18\\u002f23:\\u003cbr\\u003eprior to permit issuance, route back to planning for final review of\\u003cbr\\u003ereceipt of recorded notice of special restrictions for state program\\u003cbr\\u003eadu. project sponsor has been notified. contact\\u003cbr\\u003ekalyani.agnihotri@sfgov.org - ka.\\\"\"],[\"hold: contact maher program to release hold (dph-\\u003cbr\\u003esitemitgeneral@sfdph.org or michelle.delacruz@sfdph.org)  2\\u002f24\\u002f23:hold\\u003cbr\\u003eremoved. n\\u002fa. program qualification review letter issued 2\\u002f23\\u002f23 for\\u003cbr\\u003esmed no 2098. project is not subject to sfhc article 22a. you may\\u003cbr\\u003econtact michelle dela cruz at michelle.delacruz@sfdph.org  12\\u002f21\\u002f23:\\u003cbr\\u003ereview result \\\"administrative\\\" added to reflect n\\u002fa.\"],[\"re-stamp. addendum requirement(s) for sign off:  street improvement\\u003cbr\\u003e(new curb cut). download application(s) at\\u003cbr\\u003ehttp:\\u002f\\u002fwww.sfpublicworks.org\\u002fservices\\u002fpermits\\u002fapplication-forms and\\u003cbr\\u003esubmit electronically to bsmpermitdivision@sfdpw.org. your\\u003cbr\\u003econstruction addendum will be on-hold until all necessary permit(s)\\u003cbr\\u003eare approved or the assigned bsm plan checker(s) may recommend sign\\u003cbr\\u003eoff. please call the office at (628) 271-2000 or email at\\u003cbr\\u003ebsmpermitdivision@sfdpw.org for more information.\\u003cbr\\u003e(miguel.guzman@sfdpw.org)\"],[\"restamp - permit has been assessed a capacity charge. dbi will collect\\u003cbr\\u003echarges. see invoice attached to application. route to ppc - 12\\u002f20\\u002f23.\"],[\"12\\u002f21\\u002f23: to cpb w\\u002f1826; kw 12\\u002f20\\u002f23: to sfpuc for restamp rev1\\u003cbr\\u003ew\\u002f1826; kw 12\\u002f18\\u002f23: to dpw-bsm for restamp rev1 w\\u002f1826; kw 12\\u002f4\\u002f23:\\u003cbr\\u003eto cp-zoc for final review w\\u002f1826; kw 11\\u002f22\\u002f23:to sffd per bldg\\u003cbr\\u003ew\\u002f1826; mml 11\\u002f9\\u002f23: to sffd per bldg w\\u002f1826; kw 11\\u002f1\\u002f23: to hold bin\\u003cbr\\u003e#26 pending for bldg approval w\\u002f1826; kw 10\\u002f30\\u002f23: self checkout by\\u003cbr\\u003ejerry estrella of sffd w\\u002f1826; kw 10\\u002f19\\u002f23: to hold bin #26 pending\\u003cbr\\u003efor bldg & sffd approval w\\u002f1826; kw 10\\u002f11\\u002f23: to sffd w\\u002f1826; kw\\u003cbr\\u003e!!!route to jerry estrella of sffd when plans back from sfpuc!!!\\u003cbr\\u003e9\\u002f29\\u002f23 kw 9\\u002f21\\u002f23: to sfpuc w\\u002f1826; kw 5\\u002f17\\u002f23: to dpw-bsm w\\u002f1826; kw\\u003cbr\\u003e5\\u002f1\\u002f23: to sffd w\\u002f1826. tw  3\\u002f13\\u002f23: to bldg site bin #1 w\\u002f1826. tw\\u003cbr\\u003e3\\u002f3\\u002f23: route back to pre-plan check team to screen for review\\u003cbr\\u003etimes\\u002ftiers and otc eligibility w\\u002f1826. tw 2\\u002f28\\u002f23: route plans to\\u003cbr\\u003eagnihotri kalyani at planning per her request since customer wants to\\u003cbr\\u003esubmit revision w\\u002f1826. tw 2\\u002f15\\u002f23: route to pre-plan check team to\\u003cbr\\u003escreen for review times\\u002ftiers and otc eligibility w\\u002f1826. tw\"],[\"3\\u002f19\\u002f24: no response \\u002f payment since 01\\u002f19\\u002f24. pls contact\\u003cbr\\u003e\\u003cdbi.cpbrequest@sfgov.org\\u003e when ready to pick up. return to \\\"sfusd\\u003cbr\\u003eapprove bin\\\" 01\\u002f19\\u002f24: gh161-908-7860 attacched. pending for the\\u003cbr\\u003epayment. amaris. 01\\u002f17\\u002f24: gh request & invoice sent. amaris.\\u003cbr\\u003e01\\u002f08\\u002f24: plan share with pa# 202204071826 & pa# 202204071831-s. 34\\u003cbr\\u003epages. pending for gh & owner builder form with id copy. amaris.\\u003cbr\\u003e12\\u002f22\\u002f23: sfusd & green halo require. 34 pages. approve. gh, docs &\\u003cbr\\u003epayor's info request. amaris. 11\\u002f28\\u002f2023: sfusd fee included to\\u003cbr\\u003eissuance fee.ay 11\\u002f22\\u002f2023: sfusd form sent for calculation, permit\\u003cbr\\u003enot ready to be issued.ay 4\\u002f15\\u002f22: travel togher with pa#\\u003cbr\\u003e202204071826. has to issued with pa# 202204071826 together. rz.\"]],\"hovertemplate\":\"Phase=In Hold\\u003cbr\\u003estart=%{base}\\u003cbr\\u003eend=%{x}\\u003cbr\\u003eStation=%{y}\\u003cbr\\u003ehold_description=%{customdata[0]}\\u003cextra\\u003e\\u003c\\u002fextra\\u003e\",\"legendgroup\":\"In Hold\",\"marker\":{\"color\":\"#F6222E\",\"pattern\":{\"shape\":\"\"}},\"name\":\"In Hold\",\"offsetgroup\":\"In Hold\",\"orientation\":\"h\",\"showlegend\":true,\"textposition\":\"auto\",\"x\":[null,8899200000.0,null,null,null,16848000000.0,null,13564800000.0,null,null,null,null,null,null,null,null,null,950400000.0,null,null,null,null],\"xaxis\":\"x\",\"y\":[\"Central Permit Bureau\",\"City Planning - Zoning Plan Clerk\",\"City Planning - Zoning Plan Clerk\",\"City Planning - Zoning Plan Clerk\",\"Central Permit Bureau\",\"Building Plan Review Services\",\"Building Plan Review Services\",\"Fire Department\",\"Fire Department\",\"Fire Department\",\"Bureau of Street Use and Mapping\",\"Public Utilities Commission\",\"Department of Public Works - Bureau of Urban Forestry\",\"Public Utilities Commission\",\"Department of Public Works - Bureau of Urban Forestry\",\"Fire Department\",\"City Planning - Zoning Plan Clerk\",\"Bureau of Health\",\"Bureau of Street Use and Mapping\",\"Public Utilities Commission\",\"Permit Processing Center\",\"Central Permit Bureau\"],\"yaxis\":\"y\",\"type\":\"bar\"}],                        {\"template\":{\"data\":{\"barpolar\":[{\"marker\":{\"line\":{\"color\":\"white\",\"width\":0.5},\"pattern\":{\"fillmode\":\"overlay\",\"size\":10,\"solidity\":0.2}},\"type\":\"barpolar\"}],\"bar\":[{\"error_x\":{\"color\":\"#2a3f5f\"},\"error_y\":{\"color\":\"#2a3f5f\"},\"marker\":{\"line\":{\"color\":\"white\",\"width\":0.5},\"pattern\":{\"fillmode\":\"overlay\",\"size\":10,\"solidity\":0.2}},\"type\":\"bar\"}],\"carpet\":[{\"aaxis\":{\"endlinecolor\":\"#2a3f5f\",\"gridcolor\":\"#C8D4E3\",\"linecolor\":\"#C8D4E3\",\"minorgridcolor\":\"#C8D4E3\",\"startlinecolor\":\"#2a3f5f\"},\"baxis\":{\"endlinecolor\":\"#2a3f5f\",\"gridcolor\":\"#C8D4E3\",\"linecolor\":\"#C8D4E3\",\"minorgridcolor\":\"#C8D4E3\",\"startlinecolor\":\"#2a3f5f\"},\"type\":\"carpet\"}],\"choropleth\":[{\"colorbar\":{\"outlinewidth\":0,\"ticks\":\"\"},\"type\":\"choropleth\"}],\"contourcarpet\":[{\"colorbar\":{\"outlinewidth\":0,\"ticks\":\"\"},\"type\":\"contourcarpet\"}],\"contour\":[{\"colorbar\":{\"outlinewidth\":0,\"ticks\":\"\"},\"colorscale\":[[0.0,\"#0d0887\"],[0.1111111111111111,\"#46039f\"],[0.2222222222222222,\"#7201a8\"],[0.3333333333333333,\"#9c179e\"],[0.4444444444444444,\"#bd3786\"],[0.5555555555555556,\"#d8576b\"],[0.6666666666666666,\"#ed7953\"],[0.7777777777777778,\"#fb9f3a\"],[0.8888888888888888,\"#fdca26\"],[1.0,\"#f0f921\"]],\"type\":\"contour\"}],\"heatmapgl\":[{\"colorbar\":{\"outlinewidth\":0,\"ticks\":\"\"},\"colorscale\":[[0.0,\"#0d0887\"],[0.1111111111111111,\"#46039f\"],[0.2222222222222222,\"#7201a8\"],[0.3333333333333333,\"#9c179e\"],[0.4444444444444444,\"#bd3786\"],[0.5555555555555556,\"#d8576b\"],[0.6666666666666666,\"#ed7953\"],[0.7777777777777778,\"#fb9f3a\"],[0.8888888888888888,\"#fdca26\"],[1.0,\"#f0f921\"]],\"type\":\"heatmapgl\"}],\"heatmap\":[{\"colorbar\":{\"outlinewidth\":0,\"ticks\":\"\"},\"colorscale\":[[0.0,\"#0d0887\"],[0.1111111111111111,\"#46039f\"],[0.2222222222222222,\"#7201a8\"],[0.3333333333333333,\"#9c179e\"],[0.4444444444444444,\"#bd3786\"],[0.5555555555555556,\"#d8576b\"],[0.6666666666666666,\"#ed7953\"],[0.7777777777777778,\"#fb9f3a\"],[0.8888888888888888,\"#fdca26\"],[1.0,\"#f0f921\"]],\"type\":\"heatmap\"}],\"histogram2dcontour\":[{\"colorbar\":{\"outlinewidth\":0,\"ticks\":\"\"},\"colorscale\":[[0.0,\"#0d0887\"],[0.1111111111111111,\"#46039f\"],[0.2222222222222222,\"#7201a8\"],[0.3333333333333333,\"#9c179e\"],[0.4444444444444444,\"#bd3786\"],[0.5555555555555556,\"#d8576b\"],[0.6666666666666666,\"#ed7953\"],[0.7777777777777778,\"#fb9f3a\"],[0.8888888888888888,\"#fdca26\"],[1.0,\"#f0f921\"]],\"type\":\"histogram2dcontour\"}],\"histogram2d\":[{\"colorbar\":{\"outlinewidth\":0,\"ticks\":\"\"},\"colorscale\":[[0.0,\"#0d0887\"],[0.1111111111111111,\"#46039f\"],[0.2222222222222222,\"#7201a8\"],[0.3333333333333333,\"#9c179e\"],[0.4444444444444444,\"#bd3786\"],[0.5555555555555556,\"#d8576b\"],[0.6666666666666666,\"#ed7953\"],[0.7777777777777778,\"#fb9f3a\"],[0.8888888888888888,\"#fdca26\"],[1.0,\"#f0f921\"]],\"type\":\"histogram2d\"}],\"histogram\":[{\"marker\":{\"pattern\":{\"fillmode\":\"overlay\",\"size\":10,\"solidity\":0.2}},\"type\":\"histogram\"}],\"mesh3d\":[{\"colorbar\":{\"outlinewidth\":0,\"ticks\":\"\"},\"type\":\"mesh3d\"}],\"parcoords\":[{\"line\":{\"colorbar\":{\"outlinewidth\":0,\"ticks\":\"\"}},\"type\":\"parcoords\"}],\"pie\":[{\"automargin\":true,\"type\":\"pie\"}],\"scatter3d\":[{\"line\":{\"colorbar\":{\"outlinewidth\":0,\"ticks\":\"\"}},\"marker\":{\"colorbar\":{\"outlinewidth\":0,\"ticks\":\"\"}},\"type\":\"scatter3d\"}],\"scattercarpet\":[{\"marker\":{\"colorbar\":{\"outlinewidth\":0,\"ticks\":\"\"}},\"type\":\"scattercarpet\"}],\"scattergeo\":[{\"marker\":{\"colorbar\":{\"outlinewidth\":0,\"ticks\":\"\"}},\"type\":\"scattergeo\"}],\"scattergl\":[{\"marker\":{\"colorbar\":{\"outlinewidth\":0,\"ticks\":\"\"}},\"type\":\"scattergl\"}],\"scattermapbox\":[{\"marker\":{\"colorbar\":{\"outlinewidth\":0,\"ticks\":\"\"}},\"type\":\"scattermapbox\"}],\"scatterpolargl\":[{\"marker\":{\"colorbar\":{\"outlinewidth\":0,\"ticks\":\"\"}},\"type\":\"scatterpolargl\"}],\"scatterpolar\":[{\"marker\":{\"colorbar\":{\"outlinewidth\":0,\"ticks\":\"\"}},\"type\":\"scatterpolar\"}],\"scatter\":[{\"fillpattern\":{\"fillmode\":\"overlay\",\"size\":10,\"solidity\":0.2},\"type\":\"scatter\"}],\"scatterternary\":[{\"marker\":{\"colorbar\":{\"outlinewidth\":0,\"ticks\":\"\"}},\"type\":\"scatterternary\"}],\"surface\":[{\"colorbar\":{\"outlinewidth\":0,\"ticks\":\"\"},\"colorscale\":[[0.0,\"#0d0887\"],[0.1111111111111111,\"#46039f\"],[0.2222222222222222,\"#7201a8\"],[0.3333333333333333,\"#9c179e\"],[0.4444444444444444,\"#bd3786\"],[0.5555555555555556,\"#d8576b\"],[0.6666666666666666,\"#ed7953\"],[0.7777777777777778,\"#fb9f3a\"],[0.8888888888888888,\"#fdca26\"],[1.0,\"#f0f921\"]],\"type\":\"surface\"}],\"table\":[{\"cells\":{\"fill\":{\"color\":\"#EBF0F8\"},\"line\":{\"color\":\"white\"}},\"header\":{\"fill\":{\"color\":\"#C8D4E3\"},\"line\":{\"color\":\"white\"}},\"type\":\"table\"}]},\"layout\":{\"annotationdefaults\":{\"arrowcolor\":\"#2a3f5f\",\"arrowhead\":0,\"arrowwidth\":1},\"autotypenumbers\":\"strict\",\"coloraxis\":{\"colorbar\":{\"outlinewidth\":0,\"ticks\":\"\"}},\"colorscale\":{\"diverging\":[[0,\"#8e0152\"],[0.1,\"#c51b7d\"],[0.2,\"#de77ae\"],[0.3,\"#f1b6da\"],[0.4,\"#fde0ef\"],[0.5,\"#f7f7f7\"],[0.6,\"#e6f5d0\"],[0.7,\"#b8e186\"],[0.8,\"#7fbc41\"],[0.9,\"#4d9221\"],[1,\"#276419\"]],\"sequential\":[[0.0,\"#0d0887\"],[0.1111111111111111,\"#46039f\"],[0.2222222222222222,\"#7201a8\"],[0.3333333333333333,\"#9c179e\"],[0.4444444444444444,\"#bd3786\"],[0.5555555555555556,\"#d8576b\"],[0.6666666666666666,\"#ed7953\"],[0.7777777777777778,\"#fb9f3a\"],[0.8888888888888888,\"#fdca26\"],[1.0,\"#f0f921\"]],\"sequentialminus\":[[0.0,\"#0d0887\"],[0.1111111111111111,\"#46039f\"],[0.2222222222222222,\"#7201a8\"],[0.3333333333333333,\"#9c179e\"],[0.4444444444444444,\"#bd3786\"],[0.5555555555555556,\"#d8576b\"],[0.6666666666666666,\"#ed7953\"],[0.7777777777777778,\"#fb9f3a\"],[0.8888888888888888,\"#fdca26\"],[1.0,\"#f0f921\"]]},\"colorway\":[\"#636efa\",\"#EF553B\",\"#00cc96\",\"#ab63fa\",\"#FFA15A\",\"#19d3f3\",\"#FF6692\",\"#B6E880\",\"#FF97FF\",\"#FECB52\"],\"font\":{\"color\":\"#2a3f5f\"},\"geo\":{\"bgcolor\":\"white\",\"lakecolor\":\"white\",\"landcolor\":\"white\",\"showlakes\":true,\"showland\":true,\"subunitcolor\":\"#C8D4E3\"},\"hoverlabel\":{\"align\":\"left\"},\"hovermode\":\"closest\",\"mapbox\":{\"style\":\"light\"},\"paper_bgcolor\":\"white\",\"plot_bgcolor\":\"white\",\"polar\":{\"angularaxis\":{\"gridcolor\":\"#EBF0F8\",\"linecolor\":\"#EBF0F8\",\"ticks\":\"\"},\"bgcolor\":\"white\",\"radialaxis\":{\"gridcolor\":\"#EBF0F8\",\"linecolor\":\"#EBF0F8\",\"ticks\":\"\"}},\"scene\":{\"xaxis\":{\"backgroundcolor\":\"white\",\"gridcolor\":\"#DFE8F3\",\"gridwidth\":2,\"linecolor\":\"#EBF0F8\",\"showbackground\":true,\"ticks\":\"\",\"zerolinecolor\":\"#EBF0F8\"},\"yaxis\":{\"backgroundcolor\":\"white\",\"gridcolor\":\"#DFE8F3\",\"gridwidth\":2,\"linecolor\":\"#EBF0F8\",\"showbackground\":true,\"ticks\":\"\",\"zerolinecolor\":\"#EBF0F8\"},\"zaxis\":{\"backgroundcolor\":\"white\",\"gridcolor\":\"#DFE8F3\",\"gridwidth\":2,\"linecolor\":\"#EBF0F8\",\"showbackground\":true,\"ticks\":\"\",\"zerolinecolor\":\"#EBF0F8\"}},\"shapedefaults\":{\"line\":{\"color\":\"#2a3f5f\"}},\"ternary\":{\"aaxis\":{\"gridcolor\":\"#DFE8F3\",\"linecolor\":\"#A2B1C6\",\"ticks\":\"\"},\"baxis\":{\"gridcolor\":\"#DFE8F3\",\"linecolor\":\"#A2B1C6\",\"ticks\":\"\"},\"bgcolor\":\"white\",\"caxis\":{\"gridcolor\":\"#DFE8F3\",\"linecolor\":\"#A2B1C6\",\"ticks\":\"\"}},\"title\":{\"x\":0.05},\"xaxis\":{\"automargin\":true,\"gridcolor\":\"#EBF0F8\",\"linecolor\":\"#EBF0F8\",\"ticks\":\"\",\"title\":{\"standoff\":15},\"zerolinecolor\":\"#EBF0F8\",\"zerolinewidth\":2},\"yaxis\":{\"automargin\":true,\"gridcolor\":\"#EBF0F8\",\"linecolor\":\"#EBF0F8\",\"ticks\":\"\",\"title\":{\"standoff\":15},\"zerolinecolor\":\"#EBF0F8\",\"zerolinewidth\":2}}},\"xaxis\":{\"anchor\":\"y\",\"domain\":[0.0,1.0],\"type\":\"date\"},\"yaxis\":{\"anchor\":\"x\",\"domain\":[0.0,1.0],\"title\":{\"text\":\"Station\"},\"autorange\":\"reversed\"},\"legend\":{\"title\":{\"text\":\"Phase\"},\"tracegroupgap\":0},\"title\":{\"text\":\"428 15th Av (2 Units)\"},\"barmode\":\"overlay\",\"width\":1000},                        {\"responsive\": true}                    ).then(function(){\n",
       "                            \n",
       "var gd = document.getElementById('d29ae61a-e1a7-4686-bfa0-bd984d14e091');\n",
       "var x = new MutationObserver(function (mutations, observer) {{\n",
       "        var display = window.getComputedStyle(gd).display;\n",
       "        if (!display || display === 'none') {{\n",
       "            console.log([gd, 'removed!']);\n",
       "            Plotly.purge(gd);\n",
       "            observer.disconnect();\n",
       "        }}\n",
       "}});\n",
       "\n",
       "// Listen for the removal of the full notebook cells\n",
       "var notebookContainer = gd.closest('#notebook-container');\n",
       "if (notebookContainer) {{\n",
       "    x.observe(notebookContainer, {childList: true});\n",
       "}}\n",
       "\n",
       "// Listen for the clearing of the current output cell\n",
       "var outputEl = gd.closest('.output');\n",
       "if (outputEl) {{\n",
       "    x.observe(outputEl, {childList: true});\n",
       "}}\n",
       "\n",
       "                        })                };                });            </script>        </div>"
      ]
     },
     "metadata": {},
     "output_type": "display_data"
    }
   ],
   "source": [
    "plotly.offline.init_notebook_mode(connected=True)\n",
    "\n",
    "#_find_permits_with_proposed_units(permits_df, 2, 5, 2019, 365 * 2, 365 * 3)\n",
    "_permit_gannt_chart(permits_filed_after_2014_routing_df[permits_filed_after_2014_routing_df[\"Permit Number\"] == \"202204071831\"])"
   ]
  },
  {
   "cell_type": "markdown",
   "metadata": {},
   "source": [
    "![428 15th Av](data/42815thave.png)"
   ]
  },
  {
   "cell_type": "code",
   "execution_count": 38,
   "metadata": {},
   "outputs": [
    {
     "data": {
      "text/html": [
       "        <script type=\"text/javascript\">\n",
       "        window.PlotlyConfig = {MathJaxConfig: 'local'};\n",
       "        if (window.MathJax && window.MathJax.Hub && window.MathJax.Hub.Config) {window.MathJax.Hub.Config({SVG: {font: \"STIX-Web\"}});}\n",
       "        if (typeof require !== 'undefined') {\n",
       "        require.undef(\"plotly\");\n",
       "        requirejs.config({\n",
       "            paths: {\n",
       "                'plotly': ['https://cdn.plot.ly/plotly-2.35.0.min']\n",
       "            }\n",
       "        });\n",
       "        require(['plotly'], function(Plotly) {\n",
       "            window._Plotly = Plotly;\n",
       "        });\n",
       "        }\n",
       "        </script>\n",
       "        "
      ]
     },
     "metadata": {},
     "output_type": "display_data"
    },
    {
     "data": {
      "application/vnd.plotly.v1+json": {
       "config": {
        "plotlyServerURL": "https://plot.ly"
       },
       "data": [
        {
         "alignmentgroup": "True",
         "base": [
          "2019-05-02T00:00:00",
          "2019-05-02T00:00:00",
          "2020-06-04T00:00:00",
          "2021-01-25T00:00:00",
          "2021-01-25T00:00:00",
          "2021-07-19T00:00:00",
          "2021-08-06T00:00:00",
          "2021-09-02T00:00:00",
          "2021-08-12T00:00:00",
          "2022-02-07T00:00:00",
          "2022-03-30T00:00:00",
          "2022-04-04T00:00:00",
          "2022-04-07T00:00:00",
          "2022-04-07T00:00:00"
         ],
         "customdata": [
          [
           "N/A"
          ],
          [
           "N/A"
          ],
          [
           "N/A"
          ],
          [
           "N/A"
          ],
          [
           "N/A"
          ],
          [
           "N/A"
          ],
          [
           "N/A"
          ],
          [
           "N/A"
          ],
          [
           "N/A"
          ],
          [
           "N/A"
          ],
          [
           "N/A"
          ],
          [
           "N/A"
          ],
          [
           "N/A"
          ],
          [
           "N/A"
          ]
         ],
         "hovertemplate": "Phase=Pending<br>start=%{base}<br>end=%{x}<br>Station=%{y}<br>hold_description=%{customdata[0]}<extra></extra>",
         "legendgroup": "Pending",
         "marker": {
          "color": "#FBE426",
          "pattern": {
           "shape": ""
          }
         },
         "name": "Pending",
         "offsetgroup": "Pending",
         "orientation": "h",
         "showlegend": true,
         "textposition": "auto",
         "type": "bar",
         "x": [
          0,
          5356800000,
          0,
          6048000000,
          7689600000,
          1468800000,
          432000000,
          0,
          3024000000,
          2592000000,
          172800000,
          0,
          0,
          86400000
         ],
         "xaxis": "x",
         "y": [
          "Central Permit Bureau",
          "City Planning - Zoning Plan Clerk",
          "City Planning - Residential Extension Notice",
          "Building Plan Review Services",
          "Building Plan Review Services",
          "Fire Department",
          "Bureau of Street Use and Mapping",
          "Department of Public Works - Bureau of Urban Forestry",
          "Public Utilities Commission",
          "City Planning - Zoning Plan Clerk",
          "Public Utilities Commission",
          "Development Fee Collection Unit",
          "Permit Processing Center",
          "Central Permit Bureau"
         ],
         "yaxis": "y"
        },
        {
         "alignmentgroup": "True",
         "base": [
          "2019-05-02T00:00:00",
          "2019-07-03T00:00:00",
          "2020-06-10T00:00:00",
          "2020-06-04T00:00:00",
          "2021-04-05T00:00:00",
          "2021-04-24T00:00:00",
          "2021-08-05T00:00:00",
          "2021-08-11T00:00:00",
          "2022-03-22T00:00:00",
          "2021-09-16T00:00:00",
          "2021-09-02T00:00:00",
          "2022-03-09T00:00:00",
          "2022-04-01T00:00:00",
          "2022-04-04T00:00:00",
          "2022-04-07T00:00:00",
          "2022-04-08T00:00:00"
         ],
         "customdata": [
          [
           "8 pgs"
          ],
          [
           "approved - the proposal is to construct a five-story, 55-foot-tall<br>mixed-use building on an existing surface parking lot with ground<br>floor retail/restaurant use along valencia street and 18 residential<br>units above. the proposal requires a rear yard modification pursuant<br>to planning code section 134."
          ],
          [
           "N/A"
          ],
          [
           "N/A"
          ],
          [
           "N/A"
          ],
          [
           "N/A"
          ],
          [
           "N/A"
          ],
          [
           "N/A"
          ],
          [
           "N/A"
          ],
          [
           "approved - reviewed and assessed for capacity charges. route to ppc<br>9/16/21.  9/13/21 - requested info from architect"
          ],
          [
           "approved, protect 2 trees, plant 2 trees"
          ],
          [
           "restamp the plans. route it back to dbi on 3/9/2022"
          ],
          [
           "restamp: permit has been assessed a capacity charge.  dbi to collect<br>charges. see invoice attached to application for additional<br>information.  returned to ppc  04/01/22"
          ],
          [
           "N/A"
          ],
          [
           "04/07/22: to cpb;me 04/04/22: to dfcu for review;me 3/30/22: to<br>puc;ec.  03/17/22: to dpw-buf (then to puc for re stamp of plans<br>received 02/03/22;me 3/10/22: to sffd for restamp on plas received<br>2/3/22, then to bsm & sfpuc; st 2/7/2022: to planning for re stamp of<br>plans received 2/3/2022, then sffd, bsm, sfpuc;nl 2/7/22: route to<br>bldg plan examiner, irene wong, to review;ec.  02/03/22: to hold bin<br>pending bldg , sffd, & bsm  approval;me 11/02/21: erik ziegler self<br>checkout;me 9/17/21: to hold bin pending approval from bldg, sffd and<br>bsm;nl 08/12/21: to puc;me 08/06/21: to bsm;me 7/19/21: to sffd; nl<br>01/25/21: to bldg; nl 5/2/19: to dcp; am"
          ],
          [
           "4/25/2022: issued; -akw 4/22/2022: paid; pending appointment for<br>issuance; -akw 4/8/2022: approved; -akw 02/09/2022: school fees<br>posted.ay 02/07/2022: school fees sent.ay"
          ]
         ],
         "hovertemplate": "Phase=Started<br>start=%{base}<br>end=%{x}<br>Station=%{y}<br>hold_description=%{customdata[0]}<extra></extra>",
         "legendgroup": "Started",
         "marker": {
          "color": "#1CBE4F",
          "pattern": {
           "shape": ""
          }
         },
         "name": "Started",
         "offsetgroup": "Started",
         "orientation": "h",
         "showlegend": true,
         "textposition": "auto",
         "type": "bar",
         "x": [
          86400000,
          49248000000,
          19526400000,
          0,
          86400000,
          18921600000,
          86400000,
          0,
          0,
          86400000,
          18144000000,
          86400000,
          86400000,
          0,
          86400000,
          1555200000
         ],
         "xaxis": "x",
         "y": [
          "Central Permit Bureau",
          "City Planning - Zoning Plan Clerk",
          "City Planning - Residential Extension Notice",
          "City Planning - Residential Extension Notice",
          "Building Plan Review Services",
          "Building Plan Review Services",
          "Fire Department",
          "Bureau of Street Use and Mapping",
          "Bureau of Street Use and Mapping",
          "Public Utilities Commission",
          "Department of Public Works - Bureau of Urban Forestry",
          "City Planning - Zoning Plan Clerk",
          "Public Utilities Commission",
          "Development Fee Collection Unit",
          "Permit Processing Center",
          "Central Permit Bureau"
         ],
         "yaxis": "y"
        },
        {
         "alignmentgroup": "True",
         "base": [
          null,
          null,
          "2020-06-04T00:00:00",
          null,
          "2021-11-29T00:00:00",
          "2021-08-06T00:00:00",
          "2021-08-11T00:00:00",
          null,
          null,
          null,
          null,
          "2022-04-04T00:00:00",
          null,
          null
         ],
         "customdata": [
          [
           "8 pgs"
          ],
          [
           "approved - the proposal is to construct a five-story, 55-foot-tall<br>mixed-use building on an existing surface parking lot with ground<br>floor retail/restaurant use along valencia street and 18 residential<br>units above. the proposal requires a rear yard modification pursuant<br>to planning code section 134."
          ],
          [
           "emailed the 311 cover letter on 06/04/2020 (jennifer) mailed 311<br>notice on 06/22/2020; expires on 07/22/2020 (jennifer)"
          ],
          [
           "N/A"
          ],
          [
           "2/7/22: approved. route to ppc."
          ],
          [
           "3/16/22 approved by ziegler of sffd. previous sffd comments addressed.<br>ab-005 signed by sffd lt. laeace. plans routed to ppc.<br>erik.ziegler@sfgov.org  not approved. comments emailed to architect.<br>plans to ppc hold (8/6/21, erik.ziegler@sfgov.org) assigned to<br>erik.ziegler@sfgov.org 7-21-2021 kh"
          ],
          [
           "approved 3/22/22. public works/bsm sign off on job card required prior<br>to dbi final. subject to all conditions of public works/bsm:#<br>(ref:21ie-00447). no warping, ramping or encroachments on city's right<br>of way under this permit. routed to buf.-kl  on hold (site) - waiting<br>for buf and tree apps. (ref: 21ie-00447 and no encroachments in the<br>right-of-way) -cc  on hold. 8/11/2021: requirement(s) for sign off:<br>street improvement (demo of curb cut on valencia/san jose) and bureau<br>of urban forestry (2 new trees on san jose). download sidewalk<br>application(s) at<br>http://www.sfpublicworks.org/services/permits/application-forms and<br>submit electronically to bsmpermitdivision@sfdpw.org. your project<br>will be on-hold until all necessary permit(s) are approved, or the<br>assigned bsm plan checker(s) may recommend sign off to the satellite<br>office via email. please call the office at (628) 271-2000 or email at<br>bsmpermitdivision@sfdpw.org for more information. -sd"
          ],
          [
           "approved, protect 2 trees, plant 2 trees"
          ],
          [
           "approved - reviewed and assessed for capacity charges. route to ppc<br>9/16/21.  9/13/21 - requested info from architect"
          ],
          [
           "restamp the plans. route it back to dbi on 3/9/2022"
          ],
          [
           "restamp: permit has been assessed a capacity charge.  dbi to collect<br>charges. see invoice attached to application for additional<br>information.  returned to ppc  04/01/22"
          ],
          [
           "4/4/22: planning entered a eastern neighborhood, child care, and tsf<br>impact fee on this permit. the dpw-bureau of urban forestry entered an<br>in lieu fee and will require this project to plant (2) new trees and<br>protect (2) existing trees. the project sponsor must contact dpw-buf<br>at urbanforestry@sfdpw.org or 628-652-8733 to have the planting<br>inspected and signed off. this requirement must be completed before a<br>final inspection can be scheduled with dbi.  this pa is in hold<br>becuase it is subject to a first source hiring agreement. the project<br>sponsor or agent shall contact joyce wong at joyce.s.wong@sfgov.org or<br>415-701-4891 to execute this mou. the dfcu will sign off this stage<br>once that is complete.  the project may request an impact fee report<br>to john.blackshear@sfgov.org"
          ],
          [
           "04/07/22: to cpb;me 04/04/22: to dfcu for review;me 3/30/22: to<br>puc;ec.  03/17/22: to dpw-buf (then to puc for re stamp of plans<br>received 02/03/22;me 3/10/22: to sffd for restamp on plas received<br>2/3/22, then to bsm & sfpuc; st 2/7/2022: to planning for re stamp of<br>plans received 2/3/2022, then sffd, bsm, sfpuc;nl 2/7/22: route to<br>bldg plan examiner, irene wong, to review;ec.  02/03/22: to hold bin<br>pending bldg , sffd, & bsm  approval;me 11/02/21: erik ziegler self<br>checkout;me 9/17/21: to hold bin pending approval from bldg, sffd and<br>bsm;nl 08/12/21: to puc;me 08/06/21: to bsm;me 7/19/21: to sffd; nl<br>01/25/21: to bldg; nl 5/2/19: to dcp; am"
          ],
          [
           "4/25/2022: issued; -akw 4/22/2022: paid; pending appointment for<br>issuance; -akw 4/8/2022: approved; -akw 02/09/2022: school fees<br>posted.ay 02/07/2022: school fees sent.ay"
          ]
         ],
         "hovertemplate": "Phase=In Hold<br>start=%{base}<br>end=%{x}<br>Station=%{y}<br>hold_description=%{customdata[0]}<extra></extra>",
         "legendgroup": "In Hold",
         "marker": {
          "color": "#F6222E",
          "pattern": {
           "shape": ""
          }
         },
         "name": "In Hold",
         "offsetgroup": "In Hold",
         "orientation": "h",
         "showlegend": true,
         "textposition": "auto",
         "type": "bar",
         "x": [
          null,
          null,
          518400000,
          null,
          6048000000,
          19180800000,
          19267200000,
          null,
          null,
          null,
          null,
          172800000,
          null,
          null
         ],
         "xaxis": "x",
         "y": [
          "Central Permit Bureau",
          "City Planning - Zoning Plan Clerk",
          "City Planning - Residential Extension Notice",
          "Building Plan Review Services",
          "Building Plan Review Services",
          "Fire Department",
          "Bureau of Street Use and Mapping",
          "Department of Public Works - Bureau of Urban Forestry",
          "Public Utilities Commission",
          "City Planning - Zoning Plan Clerk",
          "Public Utilities Commission",
          "Development Fee Collection Unit",
          "Permit Processing Center",
          "Central Permit Bureau"
         ],
         "yaxis": "y"
        }
       ],
       "layout": {
        "barmode": "overlay",
        "legend": {
         "title": {
          "text": "Phase"
         },
         "tracegroupgap": 0
        },
        "template": {
         "data": {
          "bar": [
           {
            "error_x": {
             "color": "#2a3f5f"
            },
            "error_y": {
             "color": "#2a3f5f"
            },
            "marker": {
             "line": {
              "color": "white",
              "width": 0.5
             },
             "pattern": {
              "fillmode": "overlay",
              "size": 10,
              "solidity": 0.2
             }
            },
            "type": "bar"
           }
          ],
          "barpolar": [
           {
            "marker": {
             "line": {
              "color": "white",
              "width": 0.5
             },
             "pattern": {
              "fillmode": "overlay",
              "size": 10,
              "solidity": 0.2
             }
            },
            "type": "barpolar"
           }
          ],
          "carpet": [
           {
            "aaxis": {
             "endlinecolor": "#2a3f5f",
             "gridcolor": "#C8D4E3",
             "linecolor": "#C8D4E3",
             "minorgridcolor": "#C8D4E3",
             "startlinecolor": "#2a3f5f"
            },
            "baxis": {
             "endlinecolor": "#2a3f5f",
             "gridcolor": "#C8D4E3",
             "linecolor": "#C8D4E3",
             "minorgridcolor": "#C8D4E3",
             "startlinecolor": "#2a3f5f"
            },
            "type": "carpet"
           }
          ],
          "choropleth": [
           {
            "colorbar": {
             "outlinewidth": 0,
             "ticks": ""
            },
            "type": "choropleth"
           }
          ],
          "contour": [
           {
            "colorbar": {
             "outlinewidth": 0,
             "ticks": ""
            },
            "colorscale": [
             [
              0,
              "#0d0887"
             ],
             [
              0.1111111111111111,
              "#46039f"
             ],
             [
              0.2222222222222222,
              "#7201a8"
             ],
             [
              0.3333333333333333,
              "#9c179e"
             ],
             [
              0.4444444444444444,
              "#bd3786"
             ],
             [
              0.5555555555555556,
              "#d8576b"
             ],
             [
              0.6666666666666666,
              "#ed7953"
             ],
             [
              0.7777777777777778,
              "#fb9f3a"
             ],
             [
              0.8888888888888888,
              "#fdca26"
             ],
             [
              1,
              "#f0f921"
             ]
            ],
            "type": "contour"
           }
          ],
          "contourcarpet": [
           {
            "colorbar": {
             "outlinewidth": 0,
             "ticks": ""
            },
            "type": "contourcarpet"
           }
          ],
          "heatmap": [
           {
            "colorbar": {
             "outlinewidth": 0,
             "ticks": ""
            },
            "colorscale": [
             [
              0,
              "#0d0887"
             ],
             [
              0.1111111111111111,
              "#46039f"
             ],
             [
              0.2222222222222222,
              "#7201a8"
             ],
             [
              0.3333333333333333,
              "#9c179e"
             ],
             [
              0.4444444444444444,
              "#bd3786"
             ],
             [
              0.5555555555555556,
              "#d8576b"
             ],
             [
              0.6666666666666666,
              "#ed7953"
             ],
             [
              0.7777777777777778,
              "#fb9f3a"
             ],
             [
              0.8888888888888888,
              "#fdca26"
             ],
             [
              1,
              "#f0f921"
             ]
            ],
            "type": "heatmap"
           }
          ],
          "heatmapgl": [
           {
            "colorbar": {
             "outlinewidth": 0,
             "ticks": ""
            },
            "colorscale": [
             [
              0,
              "#0d0887"
             ],
             [
              0.1111111111111111,
              "#46039f"
             ],
             [
              0.2222222222222222,
              "#7201a8"
             ],
             [
              0.3333333333333333,
              "#9c179e"
             ],
             [
              0.4444444444444444,
              "#bd3786"
             ],
             [
              0.5555555555555556,
              "#d8576b"
             ],
             [
              0.6666666666666666,
              "#ed7953"
             ],
             [
              0.7777777777777778,
              "#fb9f3a"
             ],
             [
              0.8888888888888888,
              "#fdca26"
             ],
             [
              1,
              "#f0f921"
             ]
            ],
            "type": "heatmapgl"
           }
          ],
          "histogram": [
           {
            "marker": {
             "pattern": {
              "fillmode": "overlay",
              "size": 10,
              "solidity": 0.2
             }
            },
            "type": "histogram"
           }
          ],
          "histogram2d": [
           {
            "colorbar": {
             "outlinewidth": 0,
             "ticks": ""
            },
            "colorscale": [
             [
              0,
              "#0d0887"
             ],
             [
              0.1111111111111111,
              "#46039f"
             ],
             [
              0.2222222222222222,
              "#7201a8"
             ],
             [
              0.3333333333333333,
              "#9c179e"
             ],
             [
              0.4444444444444444,
              "#bd3786"
             ],
             [
              0.5555555555555556,
              "#d8576b"
             ],
             [
              0.6666666666666666,
              "#ed7953"
             ],
             [
              0.7777777777777778,
              "#fb9f3a"
             ],
             [
              0.8888888888888888,
              "#fdca26"
             ],
             [
              1,
              "#f0f921"
             ]
            ],
            "type": "histogram2d"
           }
          ],
          "histogram2dcontour": [
           {
            "colorbar": {
             "outlinewidth": 0,
             "ticks": ""
            },
            "colorscale": [
             [
              0,
              "#0d0887"
             ],
             [
              0.1111111111111111,
              "#46039f"
             ],
             [
              0.2222222222222222,
              "#7201a8"
             ],
             [
              0.3333333333333333,
              "#9c179e"
             ],
             [
              0.4444444444444444,
              "#bd3786"
             ],
             [
              0.5555555555555556,
              "#d8576b"
             ],
             [
              0.6666666666666666,
              "#ed7953"
             ],
             [
              0.7777777777777778,
              "#fb9f3a"
             ],
             [
              0.8888888888888888,
              "#fdca26"
             ],
             [
              1,
              "#f0f921"
             ]
            ],
            "type": "histogram2dcontour"
           }
          ],
          "mesh3d": [
           {
            "colorbar": {
             "outlinewidth": 0,
             "ticks": ""
            },
            "type": "mesh3d"
           }
          ],
          "parcoords": [
           {
            "line": {
             "colorbar": {
              "outlinewidth": 0,
              "ticks": ""
             }
            },
            "type": "parcoords"
           }
          ],
          "pie": [
           {
            "automargin": true,
            "type": "pie"
           }
          ],
          "scatter": [
           {
            "fillpattern": {
             "fillmode": "overlay",
             "size": 10,
             "solidity": 0.2
            },
            "type": "scatter"
           }
          ],
          "scatter3d": [
           {
            "line": {
             "colorbar": {
              "outlinewidth": 0,
              "ticks": ""
             }
            },
            "marker": {
             "colorbar": {
              "outlinewidth": 0,
              "ticks": ""
             }
            },
            "type": "scatter3d"
           }
          ],
          "scattercarpet": [
           {
            "marker": {
             "colorbar": {
              "outlinewidth": 0,
              "ticks": ""
             }
            },
            "type": "scattercarpet"
           }
          ],
          "scattergeo": [
           {
            "marker": {
             "colorbar": {
              "outlinewidth": 0,
              "ticks": ""
             }
            },
            "type": "scattergeo"
           }
          ],
          "scattergl": [
           {
            "marker": {
             "colorbar": {
              "outlinewidth": 0,
              "ticks": ""
             }
            },
            "type": "scattergl"
           }
          ],
          "scattermapbox": [
           {
            "marker": {
             "colorbar": {
              "outlinewidth": 0,
              "ticks": ""
             }
            },
            "type": "scattermapbox"
           }
          ],
          "scatterpolar": [
           {
            "marker": {
             "colorbar": {
              "outlinewidth": 0,
              "ticks": ""
             }
            },
            "type": "scatterpolar"
           }
          ],
          "scatterpolargl": [
           {
            "marker": {
             "colorbar": {
              "outlinewidth": 0,
              "ticks": ""
             }
            },
            "type": "scatterpolargl"
           }
          ],
          "scatterternary": [
           {
            "marker": {
             "colorbar": {
              "outlinewidth": 0,
              "ticks": ""
             }
            },
            "type": "scatterternary"
           }
          ],
          "surface": [
           {
            "colorbar": {
             "outlinewidth": 0,
             "ticks": ""
            },
            "colorscale": [
             [
              0,
              "#0d0887"
             ],
             [
              0.1111111111111111,
              "#46039f"
             ],
             [
              0.2222222222222222,
              "#7201a8"
             ],
             [
              0.3333333333333333,
              "#9c179e"
             ],
             [
              0.4444444444444444,
              "#bd3786"
             ],
             [
              0.5555555555555556,
              "#d8576b"
             ],
             [
              0.6666666666666666,
              "#ed7953"
             ],
             [
              0.7777777777777778,
              "#fb9f3a"
             ],
             [
              0.8888888888888888,
              "#fdca26"
             ],
             [
              1,
              "#f0f921"
             ]
            ],
            "type": "surface"
           }
          ],
          "table": [
           {
            "cells": {
             "fill": {
              "color": "#EBF0F8"
             },
             "line": {
              "color": "white"
             }
            },
            "header": {
             "fill": {
              "color": "#C8D4E3"
             },
             "line": {
              "color": "white"
             }
            },
            "type": "table"
           }
          ]
         },
         "layout": {
          "annotationdefaults": {
           "arrowcolor": "#2a3f5f",
           "arrowhead": 0,
           "arrowwidth": 1
          },
          "autotypenumbers": "strict",
          "coloraxis": {
           "colorbar": {
            "outlinewidth": 0,
            "ticks": ""
           }
          },
          "colorscale": {
           "diverging": [
            [
             0,
             "#8e0152"
            ],
            [
             0.1,
             "#c51b7d"
            ],
            [
             0.2,
             "#de77ae"
            ],
            [
             0.3,
             "#f1b6da"
            ],
            [
             0.4,
             "#fde0ef"
            ],
            [
             0.5,
             "#f7f7f7"
            ],
            [
             0.6,
             "#e6f5d0"
            ],
            [
             0.7,
             "#b8e186"
            ],
            [
             0.8,
             "#7fbc41"
            ],
            [
             0.9,
             "#4d9221"
            ],
            [
             1,
             "#276419"
            ]
           ],
           "sequential": [
            [
             0,
             "#0d0887"
            ],
            [
             0.1111111111111111,
             "#46039f"
            ],
            [
             0.2222222222222222,
             "#7201a8"
            ],
            [
             0.3333333333333333,
             "#9c179e"
            ],
            [
             0.4444444444444444,
             "#bd3786"
            ],
            [
             0.5555555555555556,
             "#d8576b"
            ],
            [
             0.6666666666666666,
             "#ed7953"
            ],
            [
             0.7777777777777778,
             "#fb9f3a"
            ],
            [
             0.8888888888888888,
             "#fdca26"
            ],
            [
             1,
             "#f0f921"
            ]
           ],
           "sequentialminus": [
            [
             0,
             "#0d0887"
            ],
            [
             0.1111111111111111,
             "#46039f"
            ],
            [
             0.2222222222222222,
             "#7201a8"
            ],
            [
             0.3333333333333333,
             "#9c179e"
            ],
            [
             0.4444444444444444,
             "#bd3786"
            ],
            [
             0.5555555555555556,
             "#d8576b"
            ],
            [
             0.6666666666666666,
             "#ed7953"
            ],
            [
             0.7777777777777778,
             "#fb9f3a"
            ],
            [
             0.8888888888888888,
             "#fdca26"
            ],
            [
             1,
             "#f0f921"
            ]
           ]
          },
          "colorway": [
           "#636efa",
           "#EF553B",
           "#00cc96",
           "#ab63fa",
           "#FFA15A",
           "#19d3f3",
           "#FF6692",
           "#B6E880",
           "#FF97FF",
           "#FECB52"
          ],
          "font": {
           "color": "#2a3f5f"
          },
          "geo": {
           "bgcolor": "white",
           "lakecolor": "white",
           "landcolor": "white",
           "showlakes": true,
           "showland": true,
           "subunitcolor": "#C8D4E3"
          },
          "hoverlabel": {
           "align": "left"
          },
          "hovermode": "closest",
          "mapbox": {
           "style": "light"
          },
          "paper_bgcolor": "white",
          "plot_bgcolor": "white",
          "polar": {
           "angularaxis": {
            "gridcolor": "#EBF0F8",
            "linecolor": "#EBF0F8",
            "ticks": ""
           },
           "bgcolor": "white",
           "radialaxis": {
            "gridcolor": "#EBF0F8",
            "linecolor": "#EBF0F8",
            "ticks": ""
           }
          },
          "scene": {
           "xaxis": {
            "backgroundcolor": "white",
            "gridcolor": "#DFE8F3",
            "gridwidth": 2,
            "linecolor": "#EBF0F8",
            "showbackground": true,
            "ticks": "",
            "zerolinecolor": "#EBF0F8"
           },
           "yaxis": {
            "backgroundcolor": "white",
            "gridcolor": "#DFE8F3",
            "gridwidth": 2,
            "linecolor": "#EBF0F8",
            "showbackground": true,
            "ticks": "",
            "zerolinecolor": "#EBF0F8"
           },
           "zaxis": {
            "backgroundcolor": "white",
            "gridcolor": "#DFE8F3",
            "gridwidth": 2,
            "linecolor": "#EBF0F8",
            "showbackground": true,
            "ticks": "",
            "zerolinecolor": "#EBF0F8"
           }
          },
          "shapedefaults": {
           "line": {
            "color": "#2a3f5f"
           }
          },
          "ternary": {
           "aaxis": {
            "gridcolor": "#DFE8F3",
            "linecolor": "#A2B1C6",
            "ticks": ""
           },
           "baxis": {
            "gridcolor": "#DFE8F3",
            "linecolor": "#A2B1C6",
            "ticks": ""
           },
           "bgcolor": "white",
           "caxis": {
            "gridcolor": "#DFE8F3",
            "linecolor": "#A2B1C6",
            "ticks": ""
           }
          },
          "title": {
           "x": 0.05
          },
          "xaxis": {
           "automargin": true,
           "gridcolor": "#EBF0F8",
           "linecolor": "#EBF0F8",
           "ticks": "",
           "title": {
            "standoff": 15
           },
           "zerolinecolor": "#EBF0F8",
           "zerolinewidth": 2
          },
          "yaxis": {
           "automargin": true,
           "gridcolor": "#EBF0F8",
           "linecolor": "#EBF0F8",
           "ticks": "",
           "title": {
            "standoff": 15
           },
           "zerolinecolor": "#EBF0F8",
           "zerolinewidth": 2
          }
         }
        },
        "title": {
         "text": "1120 Valencia St (18 Units)"
        },
        "width": 1000,
        "xaxis": {
         "anchor": "y",
         "domain": [
          0,
          1
         ],
         "type": "date"
        },
        "yaxis": {
         "anchor": "x",
         "autorange": "reversed",
         "domain": [
          0,
          1
         ],
         "title": {
          "text": "Station"
         }
        }
       }
      },
      "text/html": [
       "<div>                            <div id=\"fd0cce88-3208-4257-9dab-95de52a315f5\" class=\"plotly-graph-div\" style=\"height:525px; width:1000px;\"></div>            <script type=\"text/javascript\">                require([\"plotly\"], function(Plotly) {                    window.PLOTLYENV=window.PLOTLYENV || {};                                    if (document.getElementById(\"fd0cce88-3208-4257-9dab-95de52a315f5\")) {                    Plotly.newPlot(                        \"fd0cce88-3208-4257-9dab-95de52a315f5\",                        [{\"alignmentgroup\":\"True\",\"base\":[\"2019-05-02T00:00:00\",\"2019-05-02T00:00:00\",\"2020-06-04T00:00:00\",\"2021-01-25T00:00:00\",\"2021-01-25T00:00:00\",\"2021-07-19T00:00:00\",\"2021-08-06T00:00:00\",\"2021-09-02T00:00:00\",\"2021-08-12T00:00:00\",\"2022-02-07T00:00:00\",\"2022-03-30T00:00:00\",\"2022-04-04T00:00:00\",\"2022-04-07T00:00:00\",\"2022-04-07T00:00:00\"],\"customdata\":[[\"N\\u002fA\"],[\"N\\u002fA\"],[\"N\\u002fA\"],[\"N\\u002fA\"],[\"N\\u002fA\"],[\"N\\u002fA\"],[\"N\\u002fA\"],[\"N\\u002fA\"],[\"N\\u002fA\"],[\"N\\u002fA\"],[\"N\\u002fA\"],[\"N\\u002fA\"],[\"N\\u002fA\"],[\"N\\u002fA\"]],\"hovertemplate\":\"Phase=Pending\\u003cbr\\u003estart=%{base}\\u003cbr\\u003eend=%{x}\\u003cbr\\u003eStation=%{y}\\u003cbr\\u003ehold_description=%{customdata[0]}\\u003cextra\\u003e\\u003c\\u002fextra\\u003e\",\"legendgroup\":\"Pending\",\"marker\":{\"color\":\"#FBE426\",\"pattern\":{\"shape\":\"\"}},\"name\":\"Pending\",\"offsetgroup\":\"Pending\",\"orientation\":\"h\",\"showlegend\":true,\"textposition\":\"auto\",\"x\":[0.0,5356800000.0,0.0,6048000000.0,7689600000.0,1468800000.0,432000000.0,0.0,3024000000.0,2592000000.0,172800000.0,0.0,0.0,86400000.0],\"xaxis\":\"x\",\"y\":[\"Central Permit Bureau\",\"City Planning - Zoning Plan Clerk\",\"City Planning - Residential Extension Notice\",\"Building Plan Review Services\",\"Building Plan Review Services\",\"Fire Department\",\"Bureau of Street Use and Mapping\",\"Department of Public Works - Bureau of Urban Forestry\",\"Public Utilities Commission\",\"City Planning - Zoning Plan Clerk\",\"Public Utilities Commission\",\"Development Fee Collection Unit\",\"Permit Processing Center\",\"Central Permit Bureau\"],\"yaxis\":\"y\",\"type\":\"bar\"},{\"alignmentgroup\":\"True\",\"base\":[\"2019-05-02T00:00:00\",\"2019-07-03T00:00:00\",\"2020-06-10T00:00:00\",\"2020-06-04T00:00:00\",\"2021-04-05T00:00:00\",\"2021-04-24T00:00:00\",\"2021-08-05T00:00:00\",\"2021-08-11T00:00:00\",\"2022-03-22T00:00:00\",\"2021-09-16T00:00:00\",\"2021-09-02T00:00:00\",\"2022-03-09T00:00:00\",\"2022-04-01T00:00:00\",\"2022-04-04T00:00:00\",\"2022-04-07T00:00:00\",\"2022-04-08T00:00:00\"],\"customdata\":[[\"8 pgs\"],[\"approved - the proposal is to construct a five-story, 55-foot-tall\\u003cbr\\u003emixed-use building on an existing surface parking lot with ground\\u003cbr\\u003efloor retail\\u002frestaurant use along valencia street and 18 residential\\u003cbr\\u003eunits above. the proposal requires a rear yard modification pursuant\\u003cbr\\u003eto planning code section 134.\"],[\"N\\u002fA\"],[\"N\\u002fA\"],[\"N\\u002fA\"],[\"N\\u002fA\"],[\"N\\u002fA\"],[\"N\\u002fA\"],[\"N\\u002fA\"],[\"approved - reviewed and assessed for capacity charges. route to ppc\\u003cbr\\u003e9\\u002f16\\u002f21.  9\\u002f13\\u002f21 - requested info from architect\"],[\"approved, protect 2 trees, plant 2 trees\"],[\"restamp the plans. route it back to dbi on 3\\u002f9\\u002f2022\"],[\"restamp: permit has been assessed a capacity charge.  dbi to collect\\u003cbr\\u003echarges. see invoice attached to application for additional\\u003cbr\\u003einformation.  returned to ppc  04\\u002f01\\u002f22\"],[\"N\\u002fA\"],[\"04\\u002f07\\u002f22: to cpb;me 04\\u002f04\\u002f22: to dfcu for review;me 3\\u002f30\\u002f22: to\\u003cbr\\u003epuc;ec.  03\\u002f17\\u002f22: to dpw-buf (then to puc for re stamp of plans\\u003cbr\\u003ereceived 02\\u002f03\\u002f22;me 3\\u002f10\\u002f22: to sffd for restamp on plas received\\u003cbr\\u003e2\\u002f3\\u002f22, then to bsm & sfpuc; st 2\\u002f7\\u002f2022: to planning for re stamp of\\u003cbr\\u003eplans received 2\\u002f3\\u002f2022, then sffd, bsm, sfpuc;nl 2\\u002f7\\u002f22: route to\\u003cbr\\u003ebldg plan examiner, irene wong, to review;ec.  02\\u002f03\\u002f22: to hold bin\\u003cbr\\u003epending bldg , sffd, & bsm  approval;me 11\\u002f02\\u002f21: erik ziegler self\\u003cbr\\u003echeckout;me 9\\u002f17\\u002f21: to hold bin pending approval from bldg, sffd and\\u003cbr\\u003ebsm;nl 08\\u002f12\\u002f21: to puc;me 08\\u002f06\\u002f21: to bsm;me 7\\u002f19\\u002f21: to sffd; nl\\u003cbr\\u003e01\\u002f25\\u002f21: to bldg; nl 5\\u002f2\\u002f19: to dcp; am\"],[\"4\\u002f25\\u002f2022: issued; -akw 4\\u002f22\\u002f2022: paid; pending appointment for\\u003cbr\\u003eissuance; -akw 4\\u002f8\\u002f2022: approved; -akw 02\\u002f09\\u002f2022: school fees\\u003cbr\\u003eposted.ay 02\\u002f07\\u002f2022: school fees sent.ay\"]],\"hovertemplate\":\"Phase=Started\\u003cbr\\u003estart=%{base}\\u003cbr\\u003eend=%{x}\\u003cbr\\u003eStation=%{y}\\u003cbr\\u003ehold_description=%{customdata[0]}\\u003cextra\\u003e\\u003c\\u002fextra\\u003e\",\"legendgroup\":\"Started\",\"marker\":{\"color\":\"#1CBE4F\",\"pattern\":{\"shape\":\"\"}},\"name\":\"Started\",\"offsetgroup\":\"Started\",\"orientation\":\"h\",\"showlegend\":true,\"textposition\":\"auto\",\"x\":[86400000.0,49248000000.0,19526400000.0,0.0,86400000.0,18921600000.0,86400000.0,0.0,0.0,86400000.0,18144000000.0,86400000.0,86400000.0,0.0,86400000.0,1555200000.0],\"xaxis\":\"x\",\"y\":[\"Central Permit Bureau\",\"City Planning - Zoning Plan Clerk\",\"City Planning - Residential Extension Notice\",\"City Planning - Residential Extension Notice\",\"Building Plan Review Services\",\"Building Plan Review Services\",\"Fire Department\",\"Bureau of Street Use and Mapping\",\"Bureau of Street Use and Mapping\",\"Public Utilities Commission\",\"Department of Public Works - Bureau of Urban Forestry\",\"City Planning - Zoning Plan Clerk\",\"Public Utilities Commission\",\"Development Fee Collection Unit\",\"Permit Processing Center\",\"Central Permit Bureau\"],\"yaxis\":\"y\",\"type\":\"bar\"},{\"alignmentgroup\":\"True\",\"base\":[null,null,\"2020-06-04T00:00:00\",null,\"2021-11-29T00:00:00\",\"2021-08-06T00:00:00\",\"2021-08-11T00:00:00\",null,null,null,null,\"2022-04-04T00:00:00\",null,null],\"customdata\":[[\"8 pgs\"],[\"approved - the proposal is to construct a five-story, 55-foot-tall\\u003cbr\\u003emixed-use building on an existing surface parking lot with ground\\u003cbr\\u003efloor retail\\u002frestaurant use along valencia street and 18 residential\\u003cbr\\u003eunits above. the proposal requires a rear yard modification pursuant\\u003cbr\\u003eto planning code section 134.\"],[\"emailed the 311 cover letter on 06\\u002f04\\u002f2020 (jennifer) mailed 311\\u003cbr\\u003enotice on 06\\u002f22\\u002f2020; expires on 07\\u002f22\\u002f2020 (jennifer)\"],[\"N\\u002fA\"],[\"2\\u002f7\\u002f22: approved. route to ppc.\"],[\"3\\u002f16\\u002f22 approved by ziegler of sffd. previous sffd comments addressed.\\u003cbr\\u003eab-005 signed by sffd lt. laeace. plans routed to ppc.\\u003cbr\\u003eerik.ziegler@sfgov.org  not approved. comments emailed to architect.\\u003cbr\\u003eplans to ppc hold (8\\u002f6\\u002f21, erik.ziegler@sfgov.org) assigned to\\u003cbr\\u003eerik.ziegler@sfgov.org 7-21-2021 kh\"],[\"approved 3\\u002f22\\u002f22. public works\\u002fbsm sign off on job card required prior\\u003cbr\\u003eto dbi final. subject to all conditions of public works\\u002fbsm:#\\u003cbr\\u003e(ref:21ie-00447). no warping, ramping or encroachments on city's right\\u003cbr\\u003eof way under this permit. routed to buf.-kl  on hold (site) - waiting\\u003cbr\\u003efor buf and tree apps. (ref: 21ie-00447 and no encroachments in the\\u003cbr\\u003eright-of-way) -cc  on hold. 8\\u002f11\\u002f2021: requirement(s) for sign off:\\u003cbr\\u003estreet improvement (demo of curb cut on valencia\\u002fsan jose) and bureau\\u003cbr\\u003eof urban forestry (2 new trees on san jose). download sidewalk\\u003cbr\\u003eapplication(s) at\\u003cbr\\u003ehttp:\\u002f\\u002fwww.sfpublicworks.org\\u002fservices\\u002fpermits\\u002fapplication-forms and\\u003cbr\\u003esubmit electronically to bsmpermitdivision@sfdpw.org. your project\\u003cbr\\u003ewill be on-hold until all necessary permit(s) are approved, or the\\u003cbr\\u003eassigned bsm plan checker(s) may recommend sign off to the satellite\\u003cbr\\u003eoffice via email. please call the office at (628) 271-2000 or email at\\u003cbr\\u003ebsmpermitdivision@sfdpw.org for more information. -sd\"],[\"approved, protect 2 trees, plant 2 trees\"],[\"approved - reviewed and assessed for capacity charges. route to ppc\\u003cbr\\u003e9\\u002f16\\u002f21.  9\\u002f13\\u002f21 - requested info from architect\"],[\"restamp the plans. route it back to dbi on 3\\u002f9\\u002f2022\"],[\"restamp: permit has been assessed a capacity charge.  dbi to collect\\u003cbr\\u003echarges. see invoice attached to application for additional\\u003cbr\\u003einformation.  returned to ppc  04\\u002f01\\u002f22\"],[\"4\\u002f4\\u002f22: planning entered a eastern neighborhood, child care, and tsf\\u003cbr\\u003eimpact fee on this permit. the dpw-bureau of urban forestry entered an\\u003cbr\\u003ein lieu fee and will require this project to plant (2) new trees and\\u003cbr\\u003eprotect (2) existing trees. the project sponsor must contact dpw-buf\\u003cbr\\u003eat urbanforestry@sfdpw.org or 628-652-8733 to have the planting\\u003cbr\\u003einspected and signed off. this requirement must be completed before a\\u003cbr\\u003efinal inspection can be scheduled with dbi.  this pa is in hold\\u003cbr\\u003ebecuase it is subject to a first source hiring agreement. the project\\u003cbr\\u003esponsor or agent shall contact joyce wong at joyce.s.wong@sfgov.org or\\u003cbr\\u003e415-701-4891 to execute this mou. the dfcu will sign off this stage\\u003cbr\\u003eonce that is complete.  the project may request an impact fee report\\u003cbr\\u003eto john.blackshear@sfgov.org\"],[\"04\\u002f07\\u002f22: to cpb;me 04\\u002f04\\u002f22: to dfcu for review;me 3\\u002f30\\u002f22: to\\u003cbr\\u003epuc;ec.  03\\u002f17\\u002f22: to dpw-buf (then to puc for re stamp of plans\\u003cbr\\u003ereceived 02\\u002f03\\u002f22;me 3\\u002f10\\u002f22: to sffd for restamp on plas received\\u003cbr\\u003e2\\u002f3\\u002f22, then to bsm & sfpuc; st 2\\u002f7\\u002f2022: to planning for re stamp of\\u003cbr\\u003eplans received 2\\u002f3\\u002f2022, then sffd, bsm, sfpuc;nl 2\\u002f7\\u002f22: route to\\u003cbr\\u003ebldg plan examiner, irene wong, to review;ec.  02\\u002f03\\u002f22: to hold bin\\u003cbr\\u003epending bldg , sffd, & bsm  approval;me 11\\u002f02\\u002f21: erik ziegler self\\u003cbr\\u003echeckout;me 9\\u002f17\\u002f21: to hold bin pending approval from bldg, sffd and\\u003cbr\\u003ebsm;nl 08\\u002f12\\u002f21: to puc;me 08\\u002f06\\u002f21: to bsm;me 7\\u002f19\\u002f21: to sffd; nl\\u003cbr\\u003e01\\u002f25\\u002f21: to bldg; nl 5\\u002f2\\u002f19: to dcp; am\"],[\"4\\u002f25\\u002f2022: issued; -akw 4\\u002f22\\u002f2022: paid; pending appointment for\\u003cbr\\u003eissuance; -akw 4\\u002f8\\u002f2022: approved; -akw 02\\u002f09\\u002f2022: school fees\\u003cbr\\u003eposted.ay 02\\u002f07\\u002f2022: school fees sent.ay\"]],\"hovertemplate\":\"Phase=In Hold\\u003cbr\\u003estart=%{base}\\u003cbr\\u003eend=%{x}\\u003cbr\\u003eStation=%{y}\\u003cbr\\u003ehold_description=%{customdata[0]}\\u003cextra\\u003e\\u003c\\u002fextra\\u003e\",\"legendgroup\":\"In Hold\",\"marker\":{\"color\":\"#F6222E\",\"pattern\":{\"shape\":\"\"}},\"name\":\"In Hold\",\"offsetgroup\":\"In Hold\",\"orientation\":\"h\",\"showlegend\":true,\"textposition\":\"auto\",\"x\":[null,null,518400000.0,null,6048000000.0,19180800000.0,19267200000.0,null,null,null,null,172800000.0,null,null],\"xaxis\":\"x\",\"y\":[\"Central Permit Bureau\",\"City Planning - Zoning Plan Clerk\",\"City Planning - Residential Extension Notice\",\"Building Plan Review Services\",\"Building Plan Review Services\",\"Fire Department\",\"Bureau of Street Use and Mapping\",\"Department of Public Works - Bureau of Urban Forestry\",\"Public Utilities Commission\",\"City Planning - Zoning Plan Clerk\",\"Public Utilities Commission\",\"Development Fee Collection Unit\",\"Permit Processing Center\",\"Central Permit Bureau\"],\"yaxis\":\"y\",\"type\":\"bar\"}],                        {\"template\":{\"data\":{\"barpolar\":[{\"marker\":{\"line\":{\"color\":\"white\",\"width\":0.5},\"pattern\":{\"fillmode\":\"overlay\",\"size\":10,\"solidity\":0.2}},\"type\":\"barpolar\"}],\"bar\":[{\"error_x\":{\"color\":\"#2a3f5f\"},\"error_y\":{\"color\":\"#2a3f5f\"},\"marker\":{\"line\":{\"color\":\"white\",\"width\":0.5},\"pattern\":{\"fillmode\":\"overlay\",\"size\":10,\"solidity\":0.2}},\"type\":\"bar\"}],\"carpet\":[{\"aaxis\":{\"endlinecolor\":\"#2a3f5f\",\"gridcolor\":\"#C8D4E3\",\"linecolor\":\"#C8D4E3\",\"minorgridcolor\":\"#C8D4E3\",\"startlinecolor\":\"#2a3f5f\"},\"baxis\":{\"endlinecolor\":\"#2a3f5f\",\"gridcolor\":\"#C8D4E3\",\"linecolor\":\"#C8D4E3\",\"minorgridcolor\":\"#C8D4E3\",\"startlinecolor\":\"#2a3f5f\"},\"type\":\"carpet\"}],\"choropleth\":[{\"colorbar\":{\"outlinewidth\":0,\"ticks\":\"\"},\"type\":\"choropleth\"}],\"contourcarpet\":[{\"colorbar\":{\"outlinewidth\":0,\"ticks\":\"\"},\"type\":\"contourcarpet\"}],\"contour\":[{\"colorbar\":{\"outlinewidth\":0,\"ticks\":\"\"},\"colorscale\":[[0.0,\"#0d0887\"],[0.1111111111111111,\"#46039f\"],[0.2222222222222222,\"#7201a8\"],[0.3333333333333333,\"#9c179e\"],[0.4444444444444444,\"#bd3786\"],[0.5555555555555556,\"#d8576b\"],[0.6666666666666666,\"#ed7953\"],[0.7777777777777778,\"#fb9f3a\"],[0.8888888888888888,\"#fdca26\"],[1.0,\"#f0f921\"]],\"type\":\"contour\"}],\"heatmapgl\":[{\"colorbar\":{\"outlinewidth\":0,\"ticks\":\"\"},\"colorscale\":[[0.0,\"#0d0887\"],[0.1111111111111111,\"#46039f\"],[0.2222222222222222,\"#7201a8\"],[0.3333333333333333,\"#9c179e\"],[0.4444444444444444,\"#bd3786\"],[0.5555555555555556,\"#d8576b\"],[0.6666666666666666,\"#ed7953\"],[0.7777777777777778,\"#fb9f3a\"],[0.8888888888888888,\"#fdca26\"],[1.0,\"#f0f921\"]],\"type\":\"heatmapgl\"}],\"heatmap\":[{\"colorbar\":{\"outlinewidth\":0,\"ticks\":\"\"},\"colorscale\":[[0.0,\"#0d0887\"],[0.1111111111111111,\"#46039f\"],[0.2222222222222222,\"#7201a8\"],[0.3333333333333333,\"#9c179e\"],[0.4444444444444444,\"#bd3786\"],[0.5555555555555556,\"#d8576b\"],[0.6666666666666666,\"#ed7953\"],[0.7777777777777778,\"#fb9f3a\"],[0.8888888888888888,\"#fdca26\"],[1.0,\"#f0f921\"]],\"type\":\"heatmap\"}],\"histogram2dcontour\":[{\"colorbar\":{\"outlinewidth\":0,\"ticks\":\"\"},\"colorscale\":[[0.0,\"#0d0887\"],[0.1111111111111111,\"#46039f\"],[0.2222222222222222,\"#7201a8\"],[0.3333333333333333,\"#9c179e\"],[0.4444444444444444,\"#bd3786\"],[0.5555555555555556,\"#d8576b\"],[0.6666666666666666,\"#ed7953\"],[0.7777777777777778,\"#fb9f3a\"],[0.8888888888888888,\"#fdca26\"],[1.0,\"#f0f921\"]],\"type\":\"histogram2dcontour\"}],\"histogram2d\":[{\"colorbar\":{\"outlinewidth\":0,\"ticks\":\"\"},\"colorscale\":[[0.0,\"#0d0887\"],[0.1111111111111111,\"#46039f\"],[0.2222222222222222,\"#7201a8\"],[0.3333333333333333,\"#9c179e\"],[0.4444444444444444,\"#bd3786\"],[0.5555555555555556,\"#d8576b\"],[0.6666666666666666,\"#ed7953\"],[0.7777777777777778,\"#fb9f3a\"],[0.8888888888888888,\"#fdca26\"],[1.0,\"#f0f921\"]],\"type\":\"histogram2d\"}],\"histogram\":[{\"marker\":{\"pattern\":{\"fillmode\":\"overlay\",\"size\":10,\"solidity\":0.2}},\"type\":\"histogram\"}],\"mesh3d\":[{\"colorbar\":{\"outlinewidth\":0,\"ticks\":\"\"},\"type\":\"mesh3d\"}],\"parcoords\":[{\"line\":{\"colorbar\":{\"outlinewidth\":0,\"ticks\":\"\"}},\"type\":\"parcoords\"}],\"pie\":[{\"automargin\":true,\"type\":\"pie\"}],\"scatter3d\":[{\"line\":{\"colorbar\":{\"outlinewidth\":0,\"ticks\":\"\"}},\"marker\":{\"colorbar\":{\"outlinewidth\":0,\"ticks\":\"\"}},\"type\":\"scatter3d\"}],\"scattercarpet\":[{\"marker\":{\"colorbar\":{\"outlinewidth\":0,\"ticks\":\"\"}},\"type\":\"scattercarpet\"}],\"scattergeo\":[{\"marker\":{\"colorbar\":{\"outlinewidth\":0,\"ticks\":\"\"}},\"type\":\"scattergeo\"}],\"scattergl\":[{\"marker\":{\"colorbar\":{\"outlinewidth\":0,\"ticks\":\"\"}},\"type\":\"scattergl\"}],\"scattermapbox\":[{\"marker\":{\"colorbar\":{\"outlinewidth\":0,\"ticks\":\"\"}},\"type\":\"scattermapbox\"}],\"scatterpolargl\":[{\"marker\":{\"colorbar\":{\"outlinewidth\":0,\"ticks\":\"\"}},\"type\":\"scatterpolargl\"}],\"scatterpolar\":[{\"marker\":{\"colorbar\":{\"outlinewidth\":0,\"ticks\":\"\"}},\"type\":\"scatterpolar\"}],\"scatter\":[{\"fillpattern\":{\"fillmode\":\"overlay\",\"size\":10,\"solidity\":0.2},\"type\":\"scatter\"}],\"scatterternary\":[{\"marker\":{\"colorbar\":{\"outlinewidth\":0,\"ticks\":\"\"}},\"type\":\"scatterternary\"}],\"surface\":[{\"colorbar\":{\"outlinewidth\":0,\"ticks\":\"\"},\"colorscale\":[[0.0,\"#0d0887\"],[0.1111111111111111,\"#46039f\"],[0.2222222222222222,\"#7201a8\"],[0.3333333333333333,\"#9c179e\"],[0.4444444444444444,\"#bd3786\"],[0.5555555555555556,\"#d8576b\"],[0.6666666666666666,\"#ed7953\"],[0.7777777777777778,\"#fb9f3a\"],[0.8888888888888888,\"#fdca26\"],[1.0,\"#f0f921\"]],\"type\":\"surface\"}],\"table\":[{\"cells\":{\"fill\":{\"color\":\"#EBF0F8\"},\"line\":{\"color\":\"white\"}},\"header\":{\"fill\":{\"color\":\"#C8D4E3\"},\"line\":{\"color\":\"white\"}},\"type\":\"table\"}]},\"layout\":{\"annotationdefaults\":{\"arrowcolor\":\"#2a3f5f\",\"arrowhead\":0,\"arrowwidth\":1},\"autotypenumbers\":\"strict\",\"coloraxis\":{\"colorbar\":{\"outlinewidth\":0,\"ticks\":\"\"}},\"colorscale\":{\"diverging\":[[0,\"#8e0152\"],[0.1,\"#c51b7d\"],[0.2,\"#de77ae\"],[0.3,\"#f1b6da\"],[0.4,\"#fde0ef\"],[0.5,\"#f7f7f7\"],[0.6,\"#e6f5d0\"],[0.7,\"#b8e186\"],[0.8,\"#7fbc41\"],[0.9,\"#4d9221\"],[1,\"#276419\"]],\"sequential\":[[0.0,\"#0d0887\"],[0.1111111111111111,\"#46039f\"],[0.2222222222222222,\"#7201a8\"],[0.3333333333333333,\"#9c179e\"],[0.4444444444444444,\"#bd3786\"],[0.5555555555555556,\"#d8576b\"],[0.6666666666666666,\"#ed7953\"],[0.7777777777777778,\"#fb9f3a\"],[0.8888888888888888,\"#fdca26\"],[1.0,\"#f0f921\"]],\"sequentialminus\":[[0.0,\"#0d0887\"],[0.1111111111111111,\"#46039f\"],[0.2222222222222222,\"#7201a8\"],[0.3333333333333333,\"#9c179e\"],[0.4444444444444444,\"#bd3786\"],[0.5555555555555556,\"#d8576b\"],[0.6666666666666666,\"#ed7953\"],[0.7777777777777778,\"#fb9f3a\"],[0.8888888888888888,\"#fdca26\"],[1.0,\"#f0f921\"]]},\"colorway\":[\"#636efa\",\"#EF553B\",\"#00cc96\",\"#ab63fa\",\"#FFA15A\",\"#19d3f3\",\"#FF6692\",\"#B6E880\",\"#FF97FF\",\"#FECB52\"],\"font\":{\"color\":\"#2a3f5f\"},\"geo\":{\"bgcolor\":\"white\",\"lakecolor\":\"white\",\"landcolor\":\"white\",\"showlakes\":true,\"showland\":true,\"subunitcolor\":\"#C8D4E3\"},\"hoverlabel\":{\"align\":\"left\"},\"hovermode\":\"closest\",\"mapbox\":{\"style\":\"light\"},\"paper_bgcolor\":\"white\",\"plot_bgcolor\":\"white\",\"polar\":{\"angularaxis\":{\"gridcolor\":\"#EBF0F8\",\"linecolor\":\"#EBF0F8\",\"ticks\":\"\"},\"bgcolor\":\"white\",\"radialaxis\":{\"gridcolor\":\"#EBF0F8\",\"linecolor\":\"#EBF0F8\",\"ticks\":\"\"}},\"scene\":{\"xaxis\":{\"backgroundcolor\":\"white\",\"gridcolor\":\"#DFE8F3\",\"gridwidth\":2,\"linecolor\":\"#EBF0F8\",\"showbackground\":true,\"ticks\":\"\",\"zerolinecolor\":\"#EBF0F8\"},\"yaxis\":{\"backgroundcolor\":\"white\",\"gridcolor\":\"#DFE8F3\",\"gridwidth\":2,\"linecolor\":\"#EBF0F8\",\"showbackground\":true,\"ticks\":\"\",\"zerolinecolor\":\"#EBF0F8\"},\"zaxis\":{\"backgroundcolor\":\"white\",\"gridcolor\":\"#DFE8F3\",\"gridwidth\":2,\"linecolor\":\"#EBF0F8\",\"showbackground\":true,\"ticks\":\"\",\"zerolinecolor\":\"#EBF0F8\"}},\"shapedefaults\":{\"line\":{\"color\":\"#2a3f5f\"}},\"ternary\":{\"aaxis\":{\"gridcolor\":\"#DFE8F3\",\"linecolor\":\"#A2B1C6\",\"ticks\":\"\"},\"baxis\":{\"gridcolor\":\"#DFE8F3\",\"linecolor\":\"#A2B1C6\",\"ticks\":\"\"},\"bgcolor\":\"white\",\"caxis\":{\"gridcolor\":\"#DFE8F3\",\"linecolor\":\"#A2B1C6\",\"ticks\":\"\"}},\"title\":{\"x\":0.05},\"xaxis\":{\"automargin\":true,\"gridcolor\":\"#EBF0F8\",\"linecolor\":\"#EBF0F8\",\"ticks\":\"\",\"title\":{\"standoff\":15},\"zerolinecolor\":\"#EBF0F8\",\"zerolinewidth\":2},\"yaxis\":{\"automargin\":true,\"gridcolor\":\"#EBF0F8\",\"linecolor\":\"#EBF0F8\",\"ticks\":\"\",\"title\":{\"standoff\":15},\"zerolinecolor\":\"#EBF0F8\",\"zerolinewidth\":2}}},\"xaxis\":{\"anchor\":\"y\",\"domain\":[0.0,1.0],\"type\":\"date\"},\"yaxis\":{\"anchor\":\"x\",\"domain\":[0.0,1.0],\"title\":{\"text\":\"Station\"},\"autorange\":\"reversed\"},\"legend\":{\"title\":{\"text\":\"Phase\"},\"tracegroupgap\":0},\"title\":{\"text\":\"1120 Valencia St (18 Units)\"},\"barmode\":\"overlay\",\"width\":1000},                        {\"responsive\": true}                    ).then(function(){\n",
       "                            \n",
       "var gd = document.getElementById('fd0cce88-3208-4257-9dab-95de52a315f5');\n",
       "var x = new MutationObserver(function (mutations, observer) {{\n",
       "        var display = window.getComputedStyle(gd).display;\n",
       "        if (!display || display === 'none') {{\n",
       "            console.log([gd, 'removed!']);\n",
       "            Plotly.purge(gd);\n",
       "            observer.disconnect();\n",
       "        }}\n",
       "}});\n",
       "\n",
       "// Listen for the removal of the full notebook cells\n",
       "var notebookContainer = gd.closest('#notebook-container');\n",
       "if (notebookContainer) {{\n",
       "    x.observe(notebookContainer, {childList: true});\n",
       "}}\n",
       "\n",
       "// Listen for the clearing of the current output cell\n",
       "var outputEl = gd.closest('.output');\n",
       "if (outputEl) {{\n",
       "    x.observe(outputEl, {childList: true});\n",
       "}}\n",
       "\n",
       "                        })                };                });            </script>        </div>"
      ]
     },
     "metadata": {},
     "output_type": "display_data"
    }
   ],
   "source": [
    "plotly.offline.init_notebook_mode(connected=True)\n",
    "\n",
    "#_find_permits_with_proposed_units(permits_df, 10, 50, 2019, 365 * 2, 365 * 3)\n",
    "_permit_gannt_chart(permits_filed_after_2014_routing_df[permits_filed_after_2014_routing_df[\"Permit Number\"] == \"201904299198\"])"
   ]
  },
  {
   "cell_type": "markdown",
   "metadata": {},
   "source": [
    "![1220 Valencia St](data/1120valenciast.png)"
   ]
  },
  {
   "cell_type": "code",
   "execution_count": 41,
   "metadata": {},
   "outputs": [
    {
     "data": {
      "text/html": [
       "        <script type=\"text/javascript\">\n",
       "        window.PlotlyConfig = {MathJaxConfig: 'local'};\n",
       "        if (window.MathJax && window.MathJax.Hub && window.MathJax.Hub.Config) {window.MathJax.Hub.Config({SVG: {font: \"STIX-Web\"}});}\n",
       "        if (typeof require !== 'undefined') {\n",
       "        require.undef(\"plotly\");\n",
       "        requirejs.config({\n",
       "            paths: {\n",
       "                'plotly': ['https://cdn.plot.ly/plotly-2.35.0.min']\n",
       "            }\n",
       "        });\n",
       "        require(['plotly'], function(Plotly) {\n",
       "            window._Plotly = Plotly;\n",
       "        });\n",
       "        }\n",
       "        </script>\n",
       "        "
      ]
     },
     "metadata": {},
     "output_type": "display_data"
    },
    {
     "data": {
      "application/vnd.plotly.v1+json": {
       "config": {
        "plotlyServerURL": "https://plot.ly"
       },
       "data": [
        {
         "alignmentgroup": "True",
         "base": [
          "2020-05-14T00:00:00",
          "2019-12-10T00:00:00",
          "2019-12-11T00:00:00",
          "2020-08-26T00:00:00",
          "2021-02-16T00:00:00",
          "2021-04-02T00:00:00",
          "2021-03-11T00:00:00",
          "2021-04-21T00:00:00",
          "2021-07-15T00:00:00",
          "2021-07-19T00:00:00",
          "2021-07-20T00:00:00",
          "2021-07-29T00:00:00",
          "2021-08-05T00:00:00",
          "2021-08-06T00:00:00"
         ],
         "customdata": [
          [
           "N/A"
          ],
          [
           "N/A"
          ],
          [
           "N/A"
          ],
          [
           "N/A"
          ],
          [
           "N/A"
          ],
          [
           "N/A"
          ],
          [
           "N/A"
          ],
          [
           "N/A"
          ],
          [
           "N/A"
          ],
          [
           "N/A"
          ],
          [
           "N/A"
          ],
          [
           "N/A"
          ],
          [
           "N/A"
          ],
          [
           "N/A"
          ]
         ],
         "hovertemplate": "Phase=Pending<br>start=%{base}<br>end=%{x}<br>Station=%{y}<br>hold_description=%{customdata[0]}<extra></extra>",
         "legendgroup": "Pending",
         "marker": {
          "color": "#FBE426",
          "pattern": {
           "shape": ""
          }
         },
         "name": "Pending",
         "offsetgroup": "Pending",
         "orientation": "h",
         "showlegend": true,
         "textposition": "auto",
         "type": "bar",
         "x": [
          0,
          0,
          19267200000,
          8294400000,
          691200000,
          604800000,
          0,
          86400000,
          86400000,
          86400000,
          172800000,
          0,
          0,
          259200000
         ],
         "xaxis": "x",
         "y": [
          "Central Permit Bureau",
          "Central Permit Bureau",
          "City Planning - Zoning Plan Clerk",
          "Building Plan Review Services",
          "Fire Department",
          "Bureau of Street Use and Mapping",
          "Public Utilities Commission",
          "City Planning - Zoning Plan Clerk",
          "Public Utilities Commission",
          "Building Plan Review Services",
          "Fire Department",
          "Development Fee Collection Unit",
          "Permit Processing Center",
          "Central Permit Bureau"
         ],
         "yaxis": "y"
        },
        {
         "alignmentgroup": "True",
         "base": [
          "2020-09-08T00:00:00",
          "2020-05-14T00:00:00",
          "2019-12-10T00:00:00",
          "2020-07-21T00:00:00",
          "2020-11-30T00:00:00",
          "2021-04-20T00:00:00",
          "2021-02-24T00:00:00",
          "2021-04-09T00:00:00",
          "2021-03-11T00:00:00",
          "2021-04-22T00:00:00",
          "2021-07-08T00:00:00",
          "2021-07-16T00:00:00",
          "2021-07-20T00:00:00",
          "2021-07-22T00:00:00",
          "2021-07-29T00:00:00",
          "2021-08-05T00:00:00",
          "2021-08-09T00:00:00"
         ],
         "customdata": [
          [
           "N/A"
          ],
          [
           "N/A"
          ],
          [
           "N/A"
          ],
          [
           "hard copy revisions received on 07/20/2020; delivered to a. perry at<br>planning (jennifer) hard copy revision stamped and approved on 7/21/20<br>by a. perry. approved project in general conformity with project<br>approved by commission with minor changes: 97 total dwelling units<br>(97,129sf) and ground floor retail (8,639sf), no vehicle parking. unit<br>mix of 13 studios, 34 1-bedrooms, 39 two-bedrooms, and 11 three-<br>bedrooms. awaiting original permit document to be located for sign off<br>and routing. note - there is a routing freeze to dbi from 7/22 to 8/4.<br>impact fees entered for project. (awp 7/21/20)  original permit<br>located and approved on 8/24/20, attached to approved plan set and<br>placed to be routed to dbi. tdm nsr still needs to be recorded prior<br>to permit issuance. (awp 8/24/20)"
          ],
          [
           "N/A"
          ],
          [
           "N/A"
          ],
          [
           "N/A"
          ],
          [
           "approved site permit only. 4/9/21: addendum requirements for sign off<br>- street improvement (new ground up construction) and minor sidewalk<br>encroachment (new fdc along the polk frontage). both ucds are inside<br>the property line and corner bulb out is existing. download the apps<br>at https://www.sfpublicworks.org/services/permits/application-forms.<br>email the required materials to bsmpermitdivision@sfdpw.org. also,<br>please coordinate with bureau of urban forestry about trees at<br>urbanforesty@sfdpw.org. -cc"
          ],
          [
           "approved - assessed for capacity charges. route back to jerry<br>estrella, sffd, 3/11/21"
          ],
          [
           "N/A"
          ],
          [
           "N/A"
          ],
          [
           "approved - already assessed charges. route to ppc 7/16/21"
          ],
          [
           "approved"
          ],
          [
           "restamped 8 sheets"
          ],
          [
           "N/A"
          ],
          [
           "8/6/21: to cpb;nl 7/23/21: update index, architect license date needs<br>to be updated for new sheets submitted on 7/8/21. plans on hold at ppc<br>(49 south van ness, 5th floor) for designer to make an appointment @<br>dbi.ppcrequest@sfgov.org to update drawings. 07/20/21: to sffd for re<br>stamp of sheets received on 07/08/21;me 07/19/21: to anne hu's desk<br>for re stamp of sheets  received on 07/08/21 (then to sffd);me<br>7/15/21: to sfpuc for re stamp  of plans received on 4/1/21; nl<br>04/21/21: to planning for re stamp of plans received on 04/01/21 (then<br>to puc);me 4/20/21: sffd retrieved the plans from hold bin;ec.<br>04/12/21: to overflow hold bin #34 pending sffd approval (then to<br>planning);me 4/2/21: to bsm; nl 02/16/21: to sffd;me 8/26/20: to bldg;<br>am  8/5/20: physically in-hold by city planning for scanning. ibb<br>12/11/19: to dcp; mml"
          ],
          [
           "12/14/21: issued. site permit release to customer. amaris. 12/09/21:<br>132 pages. re-send invoice for site issuance & s-1 filing fee. amaris.<br>8/11/21: invoiced. gs school fees posted. 8/9/21: approved. sfusd<br>req'd, waiting for school fee calculation. need payer info, contr stmt<br>or owner builder form. gs"
          ]
         ],
         "hovertemplate": "Phase=Started<br>start=%{base}<br>end=%{x}<br>Station=%{y}<br>hold_description=%{customdata[0]}<extra></extra>",
         "legendgroup": "Started",
         "marker": {
          "color": "#1CBE4F",
          "pattern": {
           "shape": ""
          }
         },
         "name": "Started",
         "offsetgroup": "Started",
         "orientation": "h",
         "showlegend": true,
         "textposition": "auto",
         "type": "bar",
         "x": [
          0,
          0,
          86400000,
          2937600000,
          8553600000,
          0,
          0,
          86400000,
          86400000,
          0,
          518400000,
          86400000,
          86400000,
          86400000,
          0,
          86400000,
          10972800000
         ],
         "xaxis": "x",
         "y": [
          "Central Permit Bureau",
          "Central Permit Bureau",
          "Central Permit Bureau",
          "City Planning - Zoning Plan Clerk",
          "Building Plan Review Services",
          "Fire Department",
          "Fire Department",
          "Bureau of Street Use and Mapping",
          "Public Utilities Commission",
          "City Planning - Zoning Plan Clerk",
          "City Planning - Zoning Plan Clerk",
          "Public Utilities Commission",
          "Building Plan Review Services",
          "Fire Department",
          "Development Fee Collection Unit",
          "Permit Processing Center",
          "Central Permit Bureau"
         ],
         "yaxis": "y"
        },
        {
         "alignmentgroup": "True",
         "base": [
          "2020-05-14T00:00:00",
          null,
          null,
          "2021-03-09T00:00:00",
          "2021-02-24T00:00:00",
          null,
          null,
          "2021-04-22T00:00:00",
          null,
          null,
          null,
          "2021-07-29T00:00:00",
          null,
          null
         ],
         "customdata": [
          [
           "withdrawn epr, stick to paper per comments. ss 5/14/20: electronically<br>submitted. hardcopies to be reconciled. ss"
          ],
          [
           "N/A"
          ],
          [
           "hard copy revisions received on 07/20/2020; delivered to a. perry at<br>planning (jennifer) hard copy revision stamped and approved on 7/21/20<br>by a. perry. approved project in general conformity with project<br>approved by commission with minor changes: 97 total dwelling units<br>(97,129sf) and ground floor retail (8,639sf), no vehicle parking. unit<br>mix of 13 studios, 34 1-bedrooms, 39 two-bedrooms, and 11 three-<br>bedrooms. awaiting original permit document to be located for sign off<br>and routing. note - there is a routing freeze to dbi from 7/22 to 8/4.<br>impact fees entered for project. (awp 7/21/20)  original permit<br>located and approved on 8/24/20, attached to approved plan set and<br>placed to be routed to dbi. tdm nsr still needs to be recorded prior<br>to permit issuance. (awp 8/24/20)"
          ],
          [
           "approved, 4/1/21"
          ],
          [
           "04/20/2021, approved. routed to ppc. jbe  courtesy set to fpe estrella<br>for ot review 8/28/20 th  3-02-21, routed to estrella's desk. po"
          ],
          [
           "approved site permit only. 4/9/21: addendum requirements for sign off<br>- street improvement (new ground up construction) and minor sidewalk<br>encroachment (new fdc along the polk frontage). both ucds are inside<br>the property line and corner bulb out is existing. download the apps<br>at https://www.sfpublicworks.org/services/permits/application-forms.<br>email the required materials to bsmpermitdivision@sfdpw.org. also,<br>please coordinate with bureau of urban forestry about trees at<br>urbanforesty@sfdpw.org. -cc"
          ],
          [
           "approved - assessed for capacity charges. route back to jerry<br>estrella, sffd, 3/11/21"
          ],
          [
           "final project plans and permit approved, consistent with and subject<br>to approvals under m-20657 and m-20918. all impact fees recalculated<br>and corrected based on final square footages and provision of 11 on-<br>site affordable units. all nsrs recorded and inserted into plans. (awp<br>7/14/21) project on hold to amend cu approval for additional sdb<br>height waiver (approved at cpc 5/13/21, motion 20918). waiting for<br>appeal period to expire, new cua-02 nsr to be recorded and inserted<br>into final set before issuance. (awp)"
          ],
          [
           "approved - already assessed charges. route to ppc 7/16/21"
          ],
          [
           "approved"
          ],
          [
           "restamped 8 sheets"
          ],
          [
           "8/6/21: the fsha has been executed.  7/29/21: awaiting executed first<br>source hiring agreement before sign off.  7/15/21: impact fee report<br>sent to agent."
          ],
          [
           "8/6/21: to cpb;nl 7/23/21: update index, architect license date needs<br>to be updated for new sheets submitted on 7/8/21. plans on hold at ppc<br>(49 south van ness, 5th floor) for designer to make an appointment @<br>dbi.ppcrequest@sfgov.org to update drawings. 07/20/21: to sffd for re<br>stamp of sheets received on 07/08/21;me 07/19/21: to anne hu's desk<br>for re stamp of sheets  received on 07/08/21 (then to sffd);me<br>7/15/21: to sfpuc for re stamp  of plans received on 4/1/21; nl<br>04/21/21: to planning for re stamp of plans received on 04/01/21 (then<br>to puc);me 4/20/21: sffd retrieved the plans from hold bin;ec.<br>04/12/21: to overflow hold bin #34 pending sffd approval (then to<br>planning);me 4/2/21: to bsm; nl 02/16/21: to sffd;me 8/26/20: to bldg;<br>am  8/5/20: physically in-hold by city planning for scanning. ibb<br>12/11/19: to dcp; mml"
          ],
          [
           "12/14/21: issued. site permit release to customer. amaris. 12/09/21:<br>132 pages. re-send invoice for site issuance & s-1 filing fee. amaris.<br>8/11/21: invoiced. gs school fees posted. 8/9/21: approved. sfusd<br>req'd, waiting for school fee calculation. need payer info, contr stmt<br>or owner builder form. gs"
          ]
         ],
         "hovertemplate": "Phase=In Hold<br>start=%{base}<br>end=%{x}<br>Station=%{y}<br>hold_description=%{customdata[0]}<extra></extra>",
         "legendgroup": "In Hold",
         "marker": {
          "color": "#F6222E",
          "pattern": {
           "shape": ""
          }
         },
         "name": "In Hold",
         "offsetgroup": "In Hold",
         "orientation": "h",
         "showlegend": true,
         "textposition": "auto",
         "type": "bar",
         "x": [
          10108800000,
          null,
          null,
          1987200000,
          4752000000,
          null,
          null,
          6652800000,
          null,
          null,
          null,
          691200000,
          null,
          null
         ],
         "xaxis": "x",
         "y": [
          "Central Permit Bureau",
          "Central Permit Bureau",
          "City Planning - Zoning Plan Clerk",
          "Building Plan Review Services",
          "Fire Department",
          "Bureau of Street Use and Mapping",
          "Public Utilities Commission",
          "City Planning - Zoning Plan Clerk",
          "Public Utilities Commission",
          "Building Plan Review Services",
          "Fire Department",
          "Development Fee Collection Unit",
          "Permit Processing Center",
          "Central Permit Bureau"
         ],
         "yaxis": "y"
        }
       ],
       "layout": {
        "barmode": "overlay",
        "legend": {
         "title": {
          "text": "Phase"
         },
         "tracegroupgap": 0
        },
        "template": {
         "data": {
          "bar": [
           {
            "error_x": {
             "color": "#2a3f5f"
            },
            "error_y": {
             "color": "#2a3f5f"
            },
            "marker": {
             "line": {
              "color": "white",
              "width": 0.5
             },
             "pattern": {
              "fillmode": "overlay",
              "size": 10,
              "solidity": 0.2
             }
            },
            "type": "bar"
           }
          ],
          "barpolar": [
           {
            "marker": {
             "line": {
              "color": "white",
              "width": 0.5
             },
             "pattern": {
              "fillmode": "overlay",
              "size": 10,
              "solidity": 0.2
             }
            },
            "type": "barpolar"
           }
          ],
          "carpet": [
           {
            "aaxis": {
             "endlinecolor": "#2a3f5f",
             "gridcolor": "#C8D4E3",
             "linecolor": "#C8D4E3",
             "minorgridcolor": "#C8D4E3",
             "startlinecolor": "#2a3f5f"
            },
            "baxis": {
             "endlinecolor": "#2a3f5f",
             "gridcolor": "#C8D4E3",
             "linecolor": "#C8D4E3",
             "minorgridcolor": "#C8D4E3",
             "startlinecolor": "#2a3f5f"
            },
            "type": "carpet"
           }
          ],
          "choropleth": [
           {
            "colorbar": {
             "outlinewidth": 0,
             "ticks": ""
            },
            "type": "choropleth"
           }
          ],
          "contour": [
           {
            "colorbar": {
             "outlinewidth": 0,
             "ticks": ""
            },
            "colorscale": [
             [
              0,
              "#0d0887"
             ],
             [
              0.1111111111111111,
              "#46039f"
             ],
             [
              0.2222222222222222,
              "#7201a8"
             ],
             [
              0.3333333333333333,
              "#9c179e"
             ],
             [
              0.4444444444444444,
              "#bd3786"
             ],
             [
              0.5555555555555556,
              "#d8576b"
             ],
             [
              0.6666666666666666,
              "#ed7953"
             ],
             [
              0.7777777777777778,
              "#fb9f3a"
             ],
             [
              0.8888888888888888,
              "#fdca26"
             ],
             [
              1,
              "#f0f921"
             ]
            ],
            "type": "contour"
           }
          ],
          "contourcarpet": [
           {
            "colorbar": {
             "outlinewidth": 0,
             "ticks": ""
            },
            "type": "contourcarpet"
           }
          ],
          "heatmap": [
           {
            "colorbar": {
             "outlinewidth": 0,
             "ticks": ""
            },
            "colorscale": [
             [
              0,
              "#0d0887"
             ],
             [
              0.1111111111111111,
              "#46039f"
             ],
             [
              0.2222222222222222,
              "#7201a8"
             ],
             [
              0.3333333333333333,
              "#9c179e"
             ],
             [
              0.4444444444444444,
              "#bd3786"
             ],
             [
              0.5555555555555556,
              "#d8576b"
             ],
             [
              0.6666666666666666,
              "#ed7953"
             ],
             [
              0.7777777777777778,
              "#fb9f3a"
             ],
             [
              0.8888888888888888,
              "#fdca26"
             ],
             [
              1,
              "#f0f921"
             ]
            ],
            "type": "heatmap"
           }
          ],
          "heatmapgl": [
           {
            "colorbar": {
             "outlinewidth": 0,
             "ticks": ""
            },
            "colorscale": [
             [
              0,
              "#0d0887"
             ],
             [
              0.1111111111111111,
              "#46039f"
             ],
             [
              0.2222222222222222,
              "#7201a8"
             ],
             [
              0.3333333333333333,
              "#9c179e"
             ],
             [
              0.4444444444444444,
              "#bd3786"
             ],
             [
              0.5555555555555556,
              "#d8576b"
             ],
             [
              0.6666666666666666,
              "#ed7953"
             ],
             [
              0.7777777777777778,
              "#fb9f3a"
             ],
             [
              0.8888888888888888,
              "#fdca26"
             ],
             [
              1,
              "#f0f921"
             ]
            ],
            "type": "heatmapgl"
           }
          ],
          "histogram": [
           {
            "marker": {
             "pattern": {
              "fillmode": "overlay",
              "size": 10,
              "solidity": 0.2
             }
            },
            "type": "histogram"
           }
          ],
          "histogram2d": [
           {
            "colorbar": {
             "outlinewidth": 0,
             "ticks": ""
            },
            "colorscale": [
             [
              0,
              "#0d0887"
             ],
             [
              0.1111111111111111,
              "#46039f"
             ],
             [
              0.2222222222222222,
              "#7201a8"
             ],
             [
              0.3333333333333333,
              "#9c179e"
             ],
             [
              0.4444444444444444,
              "#bd3786"
             ],
             [
              0.5555555555555556,
              "#d8576b"
             ],
             [
              0.6666666666666666,
              "#ed7953"
             ],
             [
              0.7777777777777778,
              "#fb9f3a"
             ],
             [
              0.8888888888888888,
              "#fdca26"
             ],
             [
              1,
              "#f0f921"
             ]
            ],
            "type": "histogram2d"
           }
          ],
          "histogram2dcontour": [
           {
            "colorbar": {
             "outlinewidth": 0,
             "ticks": ""
            },
            "colorscale": [
             [
              0,
              "#0d0887"
             ],
             [
              0.1111111111111111,
              "#46039f"
             ],
             [
              0.2222222222222222,
              "#7201a8"
             ],
             [
              0.3333333333333333,
              "#9c179e"
             ],
             [
              0.4444444444444444,
              "#bd3786"
             ],
             [
              0.5555555555555556,
              "#d8576b"
             ],
             [
              0.6666666666666666,
              "#ed7953"
             ],
             [
              0.7777777777777778,
              "#fb9f3a"
             ],
             [
              0.8888888888888888,
              "#fdca26"
             ],
             [
              1,
              "#f0f921"
             ]
            ],
            "type": "histogram2dcontour"
           }
          ],
          "mesh3d": [
           {
            "colorbar": {
             "outlinewidth": 0,
             "ticks": ""
            },
            "type": "mesh3d"
           }
          ],
          "parcoords": [
           {
            "line": {
             "colorbar": {
              "outlinewidth": 0,
              "ticks": ""
             }
            },
            "type": "parcoords"
           }
          ],
          "pie": [
           {
            "automargin": true,
            "type": "pie"
           }
          ],
          "scatter": [
           {
            "fillpattern": {
             "fillmode": "overlay",
             "size": 10,
             "solidity": 0.2
            },
            "type": "scatter"
           }
          ],
          "scatter3d": [
           {
            "line": {
             "colorbar": {
              "outlinewidth": 0,
              "ticks": ""
             }
            },
            "marker": {
             "colorbar": {
              "outlinewidth": 0,
              "ticks": ""
             }
            },
            "type": "scatter3d"
           }
          ],
          "scattercarpet": [
           {
            "marker": {
             "colorbar": {
              "outlinewidth": 0,
              "ticks": ""
             }
            },
            "type": "scattercarpet"
           }
          ],
          "scattergeo": [
           {
            "marker": {
             "colorbar": {
              "outlinewidth": 0,
              "ticks": ""
             }
            },
            "type": "scattergeo"
           }
          ],
          "scattergl": [
           {
            "marker": {
             "colorbar": {
              "outlinewidth": 0,
              "ticks": ""
             }
            },
            "type": "scattergl"
           }
          ],
          "scattermapbox": [
           {
            "marker": {
             "colorbar": {
              "outlinewidth": 0,
              "ticks": ""
             }
            },
            "type": "scattermapbox"
           }
          ],
          "scatterpolar": [
           {
            "marker": {
             "colorbar": {
              "outlinewidth": 0,
              "ticks": ""
             }
            },
            "type": "scatterpolar"
           }
          ],
          "scatterpolargl": [
           {
            "marker": {
             "colorbar": {
              "outlinewidth": 0,
              "ticks": ""
             }
            },
            "type": "scatterpolargl"
           }
          ],
          "scatterternary": [
           {
            "marker": {
             "colorbar": {
              "outlinewidth": 0,
              "ticks": ""
             }
            },
            "type": "scatterternary"
           }
          ],
          "surface": [
           {
            "colorbar": {
             "outlinewidth": 0,
             "ticks": ""
            },
            "colorscale": [
             [
              0,
              "#0d0887"
             ],
             [
              0.1111111111111111,
              "#46039f"
             ],
             [
              0.2222222222222222,
              "#7201a8"
             ],
             [
              0.3333333333333333,
              "#9c179e"
             ],
             [
              0.4444444444444444,
              "#bd3786"
             ],
             [
              0.5555555555555556,
              "#d8576b"
             ],
             [
              0.6666666666666666,
              "#ed7953"
             ],
             [
              0.7777777777777778,
              "#fb9f3a"
             ],
             [
              0.8888888888888888,
              "#fdca26"
             ],
             [
              1,
              "#f0f921"
             ]
            ],
            "type": "surface"
           }
          ],
          "table": [
           {
            "cells": {
             "fill": {
              "color": "#EBF0F8"
             },
             "line": {
              "color": "white"
             }
            },
            "header": {
             "fill": {
              "color": "#C8D4E3"
             },
             "line": {
              "color": "white"
             }
            },
            "type": "table"
           }
          ]
         },
         "layout": {
          "annotationdefaults": {
           "arrowcolor": "#2a3f5f",
           "arrowhead": 0,
           "arrowwidth": 1
          },
          "autotypenumbers": "strict",
          "coloraxis": {
           "colorbar": {
            "outlinewidth": 0,
            "ticks": ""
           }
          },
          "colorscale": {
           "diverging": [
            [
             0,
             "#8e0152"
            ],
            [
             0.1,
             "#c51b7d"
            ],
            [
             0.2,
             "#de77ae"
            ],
            [
             0.3,
             "#f1b6da"
            ],
            [
             0.4,
             "#fde0ef"
            ],
            [
             0.5,
             "#f7f7f7"
            ],
            [
             0.6,
             "#e6f5d0"
            ],
            [
             0.7,
             "#b8e186"
            ],
            [
             0.8,
             "#7fbc41"
            ],
            [
             0.9,
             "#4d9221"
            ],
            [
             1,
             "#276419"
            ]
           ],
           "sequential": [
            [
             0,
             "#0d0887"
            ],
            [
             0.1111111111111111,
             "#46039f"
            ],
            [
             0.2222222222222222,
             "#7201a8"
            ],
            [
             0.3333333333333333,
             "#9c179e"
            ],
            [
             0.4444444444444444,
             "#bd3786"
            ],
            [
             0.5555555555555556,
             "#d8576b"
            ],
            [
             0.6666666666666666,
             "#ed7953"
            ],
            [
             0.7777777777777778,
             "#fb9f3a"
            ],
            [
             0.8888888888888888,
             "#fdca26"
            ],
            [
             1,
             "#f0f921"
            ]
           ],
           "sequentialminus": [
            [
             0,
             "#0d0887"
            ],
            [
             0.1111111111111111,
             "#46039f"
            ],
            [
             0.2222222222222222,
             "#7201a8"
            ],
            [
             0.3333333333333333,
             "#9c179e"
            ],
            [
             0.4444444444444444,
             "#bd3786"
            ],
            [
             0.5555555555555556,
             "#d8576b"
            ],
            [
             0.6666666666666666,
             "#ed7953"
            ],
            [
             0.7777777777777778,
             "#fb9f3a"
            ],
            [
             0.8888888888888888,
             "#fdca26"
            ],
            [
             1,
             "#f0f921"
            ]
           ]
          },
          "colorway": [
           "#636efa",
           "#EF553B",
           "#00cc96",
           "#ab63fa",
           "#FFA15A",
           "#19d3f3",
           "#FF6692",
           "#B6E880",
           "#FF97FF",
           "#FECB52"
          ],
          "font": {
           "color": "#2a3f5f"
          },
          "geo": {
           "bgcolor": "white",
           "lakecolor": "white",
           "landcolor": "white",
           "showlakes": true,
           "showland": true,
           "subunitcolor": "#C8D4E3"
          },
          "hoverlabel": {
           "align": "left"
          },
          "hovermode": "closest",
          "mapbox": {
           "style": "light"
          },
          "paper_bgcolor": "white",
          "plot_bgcolor": "white",
          "polar": {
           "angularaxis": {
            "gridcolor": "#EBF0F8",
            "linecolor": "#EBF0F8",
            "ticks": ""
           },
           "bgcolor": "white",
           "radialaxis": {
            "gridcolor": "#EBF0F8",
            "linecolor": "#EBF0F8",
            "ticks": ""
           }
          },
          "scene": {
           "xaxis": {
            "backgroundcolor": "white",
            "gridcolor": "#DFE8F3",
            "gridwidth": 2,
            "linecolor": "#EBF0F8",
            "showbackground": true,
            "ticks": "",
            "zerolinecolor": "#EBF0F8"
           },
           "yaxis": {
            "backgroundcolor": "white",
            "gridcolor": "#DFE8F3",
            "gridwidth": 2,
            "linecolor": "#EBF0F8",
            "showbackground": true,
            "ticks": "",
            "zerolinecolor": "#EBF0F8"
           },
           "zaxis": {
            "backgroundcolor": "white",
            "gridcolor": "#DFE8F3",
            "gridwidth": 2,
            "linecolor": "#EBF0F8",
            "showbackground": true,
            "ticks": "",
            "zerolinecolor": "#EBF0F8"
           }
          },
          "shapedefaults": {
           "line": {
            "color": "#2a3f5f"
           }
          },
          "ternary": {
           "aaxis": {
            "gridcolor": "#DFE8F3",
            "linecolor": "#A2B1C6",
            "ticks": ""
           },
           "baxis": {
            "gridcolor": "#DFE8F3",
            "linecolor": "#A2B1C6",
            "ticks": ""
           },
           "bgcolor": "white",
           "caxis": {
            "gridcolor": "#DFE8F3",
            "linecolor": "#A2B1C6",
            "ticks": ""
           }
          },
          "title": {
           "x": 0.05
          },
          "xaxis": {
           "automargin": true,
           "gridcolor": "#EBF0F8",
           "linecolor": "#EBF0F8",
           "ticks": "",
           "title": {
            "standoff": 15
           },
           "zerolinecolor": "#EBF0F8",
           "zerolinewidth": 2
          },
          "yaxis": {
           "automargin": true,
           "gridcolor": "#EBF0F8",
           "linecolor": "#EBF0F8",
           "ticks": "",
           "title": {
            "standoff": 15
           },
           "zerolinecolor": "#EBF0F8",
           "zerolinewidth": 2
          }
         }
        },
        "title": {
         "text": "1567 California St (100 Units)"
        },
        "width": 1000,
        "xaxis": {
         "anchor": "y",
         "domain": [
          0,
          1
         ],
         "type": "date"
        },
        "yaxis": {
         "anchor": "x",
         "autorange": "reversed",
         "domain": [
          0,
          1
         ],
         "title": {
          "text": "Station"
         }
        }
       }
      },
      "text/html": [
       "<div>                            <div id=\"03a2bff3-54b6-40d4-9fa4-d027704851d1\" class=\"plotly-graph-div\" style=\"height:525px; width:1000px;\"></div>            <script type=\"text/javascript\">                require([\"plotly\"], function(Plotly) {                    window.PLOTLYENV=window.PLOTLYENV || {};                                    if (document.getElementById(\"03a2bff3-54b6-40d4-9fa4-d027704851d1\")) {                    Plotly.newPlot(                        \"03a2bff3-54b6-40d4-9fa4-d027704851d1\",                        [{\"alignmentgroup\":\"True\",\"base\":[\"2020-05-14T00:00:00\",\"2019-12-10T00:00:00\",\"2019-12-11T00:00:00\",\"2020-08-26T00:00:00\",\"2021-02-16T00:00:00\",\"2021-04-02T00:00:00\",\"2021-03-11T00:00:00\",\"2021-04-21T00:00:00\",\"2021-07-15T00:00:00\",\"2021-07-19T00:00:00\",\"2021-07-20T00:00:00\",\"2021-07-29T00:00:00\",\"2021-08-05T00:00:00\",\"2021-08-06T00:00:00\"],\"customdata\":[[\"N\\u002fA\"],[\"N\\u002fA\"],[\"N\\u002fA\"],[\"N\\u002fA\"],[\"N\\u002fA\"],[\"N\\u002fA\"],[\"N\\u002fA\"],[\"N\\u002fA\"],[\"N\\u002fA\"],[\"N\\u002fA\"],[\"N\\u002fA\"],[\"N\\u002fA\"],[\"N\\u002fA\"],[\"N\\u002fA\"]],\"hovertemplate\":\"Phase=Pending\\u003cbr\\u003estart=%{base}\\u003cbr\\u003eend=%{x}\\u003cbr\\u003eStation=%{y}\\u003cbr\\u003ehold_description=%{customdata[0]}\\u003cextra\\u003e\\u003c\\u002fextra\\u003e\",\"legendgroup\":\"Pending\",\"marker\":{\"color\":\"#FBE426\",\"pattern\":{\"shape\":\"\"}},\"name\":\"Pending\",\"offsetgroup\":\"Pending\",\"orientation\":\"h\",\"showlegend\":true,\"textposition\":\"auto\",\"x\":[0.0,0.0,19267200000.0,8294400000.0,691200000.0,604800000.0,0.0,86400000.0,86400000.0,86400000.0,172800000.0,0.0,0.0,259200000.0],\"xaxis\":\"x\",\"y\":[\"Central Permit Bureau\",\"Central Permit Bureau\",\"City Planning - Zoning Plan Clerk\",\"Building Plan Review Services\",\"Fire Department\",\"Bureau of Street Use and Mapping\",\"Public Utilities Commission\",\"City Planning - Zoning Plan Clerk\",\"Public Utilities Commission\",\"Building Plan Review Services\",\"Fire Department\",\"Development Fee Collection Unit\",\"Permit Processing Center\",\"Central Permit Bureau\"],\"yaxis\":\"y\",\"type\":\"bar\"},{\"alignmentgroup\":\"True\",\"base\":[\"2020-09-08T00:00:00\",\"2020-05-14T00:00:00\",\"2019-12-10T00:00:00\",\"2020-07-21T00:00:00\",\"2020-11-30T00:00:00\",\"2021-04-20T00:00:00\",\"2021-02-24T00:00:00\",\"2021-04-09T00:00:00\",\"2021-03-11T00:00:00\",\"2021-04-22T00:00:00\",\"2021-07-08T00:00:00\",\"2021-07-16T00:00:00\",\"2021-07-20T00:00:00\",\"2021-07-22T00:00:00\",\"2021-07-29T00:00:00\",\"2021-08-05T00:00:00\",\"2021-08-09T00:00:00\"],\"customdata\":[[\"N\\u002fA\"],[\"N\\u002fA\"],[\"N\\u002fA\"],[\"hard copy revisions received on 07\\u002f20\\u002f2020; delivered to a. perry at\\u003cbr\\u003eplanning (jennifer) hard copy revision stamped and approved on 7\\u002f21\\u002f20\\u003cbr\\u003eby a. perry. approved project in general conformity with project\\u003cbr\\u003eapproved by commission with minor changes: 97 total dwelling units\\u003cbr\\u003e(97,129sf) and ground floor retail (8,639sf), no vehicle parking. unit\\u003cbr\\u003emix of 13 studios, 34 1-bedrooms, 39 two-bedrooms, and 11 three-\\u003cbr\\u003ebedrooms. awaiting original permit document to be located for sign off\\u003cbr\\u003eand routing. note - there is a routing freeze to dbi from 7\\u002f22 to 8\\u002f4.\\u003cbr\\u003eimpact fees entered for project. (awp 7\\u002f21\\u002f20)  original permit\\u003cbr\\u003elocated and approved on 8\\u002f24\\u002f20, attached to approved plan set and\\u003cbr\\u003eplaced to be routed to dbi. tdm nsr still needs to be recorded prior\\u003cbr\\u003eto permit issuance. (awp 8\\u002f24\\u002f20)\"],[\"N\\u002fA\"],[\"N\\u002fA\"],[\"N\\u002fA\"],[\"approved site permit only. 4\\u002f9\\u002f21: addendum requirements for sign off\\u003cbr\\u003e- street improvement (new ground up construction) and minor sidewalk\\u003cbr\\u003eencroachment (new fdc along the polk frontage). both ucds are inside\\u003cbr\\u003ethe property line and corner bulb out is existing. download the apps\\u003cbr\\u003eat https:\\u002f\\u002fwww.sfpublicworks.org\\u002fservices\\u002fpermits\\u002fapplication-forms.\\u003cbr\\u003eemail the required materials to bsmpermitdivision@sfdpw.org. also,\\u003cbr\\u003eplease coordinate with bureau of urban forestry about trees at\\u003cbr\\u003eurbanforesty@sfdpw.org. -cc\"],[\"approved - assessed for capacity charges. route back to jerry\\u003cbr\\u003eestrella, sffd, 3\\u002f11\\u002f21\"],[\"N\\u002fA\"],[\"N\\u002fA\"],[\"approved - already assessed charges. route to ppc 7\\u002f16\\u002f21\"],[\"approved\"],[\"restamped 8 sheets\"],[\"N\\u002fA\"],[\"8\\u002f6\\u002f21: to cpb;nl 7\\u002f23\\u002f21: update index, architect license date needs\\u003cbr\\u003eto be updated for new sheets submitted on 7\\u002f8\\u002f21. plans on hold at ppc\\u003cbr\\u003e(49 south van ness, 5th floor) for designer to make an appointment @\\u003cbr\\u003edbi.ppcrequest@sfgov.org to update drawings. 07\\u002f20\\u002f21: to sffd for re\\u003cbr\\u003estamp of sheets received on 07\\u002f08\\u002f21;me 07\\u002f19\\u002f21: to anne hu's desk\\u003cbr\\u003efor re stamp of sheets  received on 07\\u002f08\\u002f21 (then to sffd);me\\u003cbr\\u003e7\\u002f15\\u002f21: to sfpuc for re stamp  of plans received on 4\\u002f1\\u002f21; nl\\u003cbr\\u003e04\\u002f21\\u002f21: to planning for re stamp of plans received on 04\\u002f01\\u002f21 (then\\u003cbr\\u003eto puc);me 4\\u002f20\\u002f21: sffd retrieved the plans from hold bin;ec.\\u003cbr\\u003e04\\u002f12\\u002f21: to overflow hold bin #34 pending sffd approval (then to\\u003cbr\\u003eplanning);me 4\\u002f2\\u002f21: to bsm; nl 02\\u002f16\\u002f21: to sffd;me 8\\u002f26\\u002f20: to bldg;\\u003cbr\\u003eam  8\\u002f5\\u002f20: physically in-hold by city planning for scanning. ibb\\u003cbr\\u003e12\\u002f11\\u002f19: to dcp; mml\"],[\"12\\u002f14\\u002f21: issued. site permit release to customer. amaris. 12\\u002f09\\u002f21:\\u003cbr\\u003e132 pages. re-send invoice for site issuance & s-1 filing fee. amaris.\\u003cbr\\u003e8\\u002f11\\u002f21: invoiced. gs school fees posted. 8\\u002f9\\u002f21: approved. sfusd\\u003cbr\\u003ereq'd, waiting for school fee calculation. need payer info, contr stmt\\u003cbr\\u003eor owner builder form. gs\"]],\"hovertemplate\":\"Phase=Started\\u003cbr\\u003estart=%{base}\\u003cbr\\u003eend=%{x}\\u003cbr\\u003eStation=%{y}\\u003cbr\\u003ehold_description=%{customdata[0]}\\u003cextra\\u003e\\u003c\\u002fextra\\u003e\",\"legendgroup\":\"Started\",\"marker\":{\"color\":\"#1CBE4F\",\"pattern\":{\"shape\":\"\"}},\"name\":\"Started\",\"offsetgroup\":\"Started\",\"orientation\":\"h\",\"showlegend\":true,\"textposition\":\"auto\",\"x\":[0.0,0.0,86400000.0,2937600000.0,8553600000.0,0.0,0.0,86400000.0,86400000.0,0.0,518400000.0,86400000.0,86400000.0,86400000.0,0.0,86400000.0,10972800000.0],\"xaxis\":\"x\",\"y\":[\"Central Permit Bureau\",\"Central Permit Bureau\",\"Central Permit Bureau\",\"City Planning - Zoning Plan Clerk\",\"Building Plan Review Services\",\"Fire Department\",\"Fire Department\",\"Bureau of Street Use and Mapping\",\"Public Utilities Commission\",\"City Planning - Zoning Plan Clerk\",\"City Planning - Zoning Plan Clerk\",\"Public Utilities Commission\",\"Building Plan Review Services\",\"Fire Department\",\"Development Fee Collection Unit\",\"Permit Processing Center\",\"Central Permit Bureau\"],\"yaxis\":\"y\",\"type\":\"bar\"},{\"alignmentgroup\":\"True\",\"base\":[\"2020-05-14T00:00:00\",null,null,\"2021-03-09T00:00:00\",\"2021-02-24T00:00:00\",null,null,\"2021-04-22T00:00:00\",null,null,null,\"2021-07-29T00:00:00\",null,null],\"customdata\":[[\"withdrawn epr, stick to paper per comments. ss 5\\u002f14\\u002f20: electronically\\u003cbr\\u003esubmitted. hardcopies to be reconciled. ss\"],[\"N\\u002fA\"],[\"hard copy revisions received on 07\\u002f20\\u002f2020; delivered to a. perry at\\u003cbr\\u003eplanning (jennifer) hard copy revision stamped and approved on 7\\u002f21\\u002f20\\u003cbr\\u003eby a. perry. approved project in general conformity with project\\u003cbr\\u003eapproved by commission with minor changes: 97 total dwelling units\\u003cbr\\u003e(97,129sf) and ground floor retail (8,639sf), no vehicle parking. unit\\u003cbr\\u003emix of 13 studios, 34 1-bedrooms, 39 two-bedrooms, and 11 three-\\u003cbr\\u003ebedrooms. awaiting original permit document to be located for sign off\\u003cbr\\u003eand routing. note - there is a routing freeze to dbi from 7\\u002f22 to 8\\u002f4.\\u003cbr\\u003eimpact fees entered for project. (awp 7\\u002f21\\u002f20)  original permit\\u003cbr\\u003elocated and approved on 8\\u002f24\\u002f20, attached to approved plan set and\\u003cbr\\u003eplaced to be routed to dbi. tdm nsr still needs to be recorded prior\\u003cbr\\u003eto permit issuance. (awp 8\\u002f24\\u002f20)\"],[\"approved, 4\\u002f1\\u002f21\"],[\"04\\u002f20\\u002f2021, approved. routed to ppc. jbe  courtesy set to fpe estrella\\u003cbr\\u003efor ot review 8\\u002f28\\u002f20 th  3-02-21, routed to estrella's desk. po\"],[\"approved site permit only. 4\\u002f9\\u002f21: addendum requirements for sign off\\u003cbr\\u003e- street improvement (new ground up construction) and minor sidewalk\\u003cbr\\u003eencroachment (new fdc along the polk frontage). both ucds are inside\\u003cbr\\u003ethe property line and corner bulb out is existing. download the apps\\u003cbr\\u003eat https:\\u002f\\u002fwww.sfpublicworks.org\\u002fservices\\u002fpermits\\u002fapplication-forms.\\u003cbr\\u003eemail the required materials to bsmpermitdivision@sfdpw.org. also,\\u003cbr\\u003eplease coordinate with bureau of urban forestry about trees at\\u003cbr\\u003eurbanforesty@sfdpw.org. -cc\"],[\"approved - assessed for capacity charges. route back to jerry\\u003cbr\\u003eestrella, sffd, 3\\u002f11\\u002f21\"],[\"final project plans and permit approved, consistent with and subject\\u003cbr\\u003eto approvals under m-20657 and m-20918. all impact fees recalculated\\u003cbr\\u003eand corrected based on final square footages and provision of 11 on-\\u003cbr\\u003esite affordable units. all nsrs recorded and inserted into plans. (awp\\u003cbr\\u003e7\\u002f14\\u002f21) project on hold to amend cu approval for additional sdb\\u003cbr\\u003eheight waiver (approved at cpc 5\\u002f13\\u002f21, motion 20918). waiting for\\u003cbr\\u003eappeal period to expire, new cua-02 nsr to be recorded and inserted\\u003cbr\\u003einto final set before issuance. (awp)\"],[\"approved - already assessed charges. route to ppc 7\\u002f16\\u002f21\"],[\"approved\"],[\"restamped 8 sheets\"],[\"8\\u002f6\\u002f21: the fsha has been executed.  7\\u002f29\\u002f21: awaiting executed first\\u003cbr\\u003esource hiring agreement before sign off.  7\\u002f15\\u002f21: impact fee report\\u003cbr\\u003esent to agent.\"],[\"8\\u002f6\\u002f21: to cpb;nl 7\\u002f23\\u002f21: update index, architect license date needs\\u003cbr\\u003eto be updated for new sheets submitted on 7\\u002f8\\u002f21. plans on hold at ppc\\u003cbr\\u003e(49 south van ness, 5th floor) for designer to make an appointment @\\u003cbr\\u003edbi.ppcrequest@sfgov.org to update drawings. 07\\u002f20\\u002f21: to sffd for re\\u003cbr\\u003estamp of sheets received on 07\\u002f08\\u002f21;me 07\\u002f19\\u002f21: to anne hu's desk\\u003cbr\\u003efor re stamp of sheets  received on 07\\u002f08\\u002f21 (then to sffd);me\\u003cbr\\u003e7\\u002f15\\u002f21: to sfpuc for re stamp  of plans received on 4\\u002f1\\u002f21; nl\\u003cbr\\u003e04\\u002f21\\u002f21: to planning for re stamp of plans received on 04\\u002f01\\u002f21 (then\\u003cbr\\u003eto puc);me 4\\u002f20\\u002f21: sffd retrieved the plans from hold bin;ec.\\u003cbr\\u003e04\\u002f12\\u002f21: to overflow hold bin #34 pending sffd approval (then to\\u003cbr\\u003eplanning);me 4\\u002f2\\u002f21: to bsm; nl 02\\u002f16\\u002f21: to sffd;me 8\\u002f26\\u002f20: to bldg;\\u003cbr\\u003eam  8\\u002f5\\u002f20: physically in-hold by city planning for scanning. ibb\\u003cbr\\u003e12\\u002f11\\u002f19: to dcp; mml\"],[\"12\\u002f14\\u002f21: issued. site permit release to customer. amaris. 12\\u002f09\\u002f21:\\u003cbr\\u003e132 pages. re-send invoice for site issuance & s-1 filing fee. amaris.\\u003cbr\\u003e8\\u002f11\\u002f21: invoiced. gs school fees posted. 8\\u002f9\\u002f21: approved. sfusd\\u003cbr\\u003ereq'd, waiting for school fee calculation. need payer info, contr stmt\\u003cbr\\u003eor owner builder form. gs\"]],\"hovertemplate\":\"Phase=In Hold\\u003cbr\\u003estart=%{base}\\u003cbr\\u003eend=%{x}\\u003cbr\\u003eStation=%{y}\\u003cbr\\u003ehold_description=%{customdata[0]}\\u003cextra\\u003e\\u003c\\u002fextra\\u003e\",\"legendgroup\":\"In Hold\",\"marker\":{\"color\":\"#F6222E\",\"pattern\":{\"shape\":\"\"}},\"name\":\"In Hold\",\"offsetgroup\":\"In Hold\",\"orientation\":\"h\",\"showlegend\":true,\"textposition\":\"auto\",\"x\":[10108800000.0,null,null,1987200000.0,4752000000.0,null,null,6652800000.0,null,null,null,691200000.0,null,null],\"xaxis\":\"x\",\"y\":[\"Central Permit Bureau\",\"Central Permit Bureau\",\"City Planning - Zoning Plan Clerk\",\"Building Plan Review Services\",\"Fire Department\",\"Bureau of Street Use and Mapping\",\"Public Utilities Commission\",\"City Planning - Zoning Plan Clerk\",\"Public Utilities Commission\",\"Building Plan Review Services\",\"Fire Department\",\"Development Fee Collection Unit\",\"Permit Processing Center\",\"Central Permit Bureau\"],\"yaxis\":\"y\",\"type\":\"bar\"}],                        {\"template\":{\"data\":{\"barpolar\":[{\"marker\":{\"line\":{\"color\":\"white\",\"width\":0.5},\"pattern\":{\"fillmode\":\"overlay\",\"size\":10,\"solidity\":0.2}},\"type\":\"barpolar\"}],\"bar\":[{\"error_x\":{\"color\":\"#2a3f5f\"},\"error_y\":{\"color\":\"#2a3f5f\"},\"marker\":{\"line\":{\"color\":\"white\",\"width\":0.5},\"pattern\":{\"fillmode\":\"overlay\",\"size\":10,\"solidity\":0.2}},\"type\":\"bar\"}],\"carpet\":[{\"aaxis\":{\"endlinecolor\":\"#2a3f5f\",\"gridcolor\":\"#C8D4E3\",\"linecolor\":\"#C8D4E3\",\"minorgridcolor\":\"#C8D4E3\",\"startlinecolor\":\"#2a3f5f\"},\"baxis\":{\"endlinecolor\":\"#2a3f5f\",\"gridcolor\":\"#C8D4E3\",\"linecolor\":\"#C8D4E3\",\"minorgridcolor\":\"#C8D4E3\",\"startlinecolor\":\"#2a3f5f\"},\"type\":\"carpet\"}],\"choropleth\":[{\"colorbar\":{\"outlinewidth\":0,\"ticks\":\"\"},\"type\":\"choropleth\"}],\"contourcarpet\":[{\"colorbar\":{\"outlinewidth\":0,\"ticks\":\"\"},\"type\":\"contourcarpet\"}],\"contour\":[{\"colorbar\":{\"outlinewidth\":0,\"ticks\":\"\"},\"colorscale\":[[0.0,\"#0d0887\"],[0.1111111111111111,\"#46039f\"],[0.2222222222222222,\"#7201a8\"],[0.3333333333333333,\"#9c179e\"],[0.4444444444444444,\"#bd3786\"],[0.5555555555555556,\"#d8576b\"],[0.6666666666666666,\"#ed7953\"],[0.7777777777777778,\"#fb9f3a\"],[0.8888888888888888,\"#fdca26\"],[1.0,\"#f0f921\"]],\"type\":\"contour\"}],\"heatmapgl\":[{\"colorbar\":{\"outlinewidth\":0,\"ticks\":\"\"},\"colorscale\":[[0.0,\"#0d0887\"],[0.1111111111111111,\"#46039f\"],[0.2222222222222222,\"#7201a8\"],[0.3333333333333333,\"#9c179e\"],[0.4444444444444444,\"#bd3786\"],[0.5555555555555556,\"#d8576b\"],[0.6666666666666666,\"#ed7953\"],[0.7777777777777778,\"#fb9f3a\"],[0.8888888888888888,\"#fdca26\"],[1.0,\"#f0f921\"]],\"type\":\"heatmapgl\"}],\"heatmap\":[{\"colorbar\":{\"outlinewidth\":0,\"ticks\":\"\"},\"colorscale\":[[0.0,\"#0d0887\"],[0.1111111111111111,\"#46039f\"],[0.2222222222222222,\"#7201a8\"],[0.3333333333333333,\"#9c179e\"],[0.4444444444444444,\"#bd3786\"],[0.5555555555555556,\"#d8576b\"],[0.6666666666666666,\"#ed7953\"],[0.7777777777777778,\"#fb9f3a\"],[0.8888888888888888,\"#fdca26\"],[1.0,\"#f0f921\"]],\"type\":\"heatmap\"}],\"histogram2dcontour\":[{\"colorbar\":{\"outlinewidth\":0,\"ticks\":\"\"},\"colorscale\":[[0.0,\"#0d0887\"],[0.1111111111111111,\"#46039f\"],[0.2222222222222222,\"#7201a8\"],[0.3333333333333333,\"#9c179e\"],[0.4444444444444444,\"#bd3786\"],[0.5555555555555556,\"#d8576b\"],[0.6666666666666666,\"#ed7953\"],[0.7777777777777778,\"#fb9f3a\"],[0.8888888888888888,\"#fdca26\"],[1.0,\"#f0f921\"]],\"type\":\"histogram2dcontour\"}],\"histogram2d\":[{\"colorbar\":{\"outlinewidth\":0,\"ticks\":\"\"},\"colorscale\":[[0.0,\"#0d0887\"],[0.1111111111111111,\"#46039f\"],[0.2222222222222222,\"#7201a8\"],[0.3333333333333333,\"#9c179e\"],[0.4444444444444444,\"#bd3786\"],[0.5555555555555556,\"#d8576b\"],[0.6666666666666666,\"#ed7953\"],[0.7777777777777778,\"#fb9f3a\"],[0.8888888888888888,\"#fdca26\"],[1.0,\"#f0f921\"]],\"type\":\"histogram2d\"}],\"histogram\":[{\"marker\":{\"pattern\":{\"fillmode\":\"overlay\",\"size\":10,\"solidity\":0.2}},\"type\":\"histogram\"}],\"mesh3d\":[{\"colorbar\":{\"outlinewidth\":0,\"ticks\":\"\"},\"type\":\"mesh3d\"}],\"parcoords\":[{\"line\":{\"colorbar\":{\"outlinewidth\":0,\"ticks\":\"\"}},\"type\":\"parcoords\"}],\"pie\":[{\"automargin\":true,\"type\":\"pie\"}],\"scatter3d\":[{\"line\":{\"colorbar\":{\"outlinewidth\":0,\"ticks\":\"\"}},\"marker\":{\"colorbar\":{\"outlinewidth\":0,\"ticks\":\"\"}},\"type\":\"scatter3d\"}],\"scattercarpet\":[{\"marker\":{\"colorbar\":{\"outlinewidth\":0,\"ticks\":\"\"}},\"type\":\"scattercarpet\"}],\"scattergeo\":[{\"marker\":{\"colorbar\":{\"outlinewidth\":0,\"ticks\":\"\"}},\"type\":\"scattergeo\"}],\"scattergl\":[{\"marker\":{\"colorbar\":{\"outlinewidth\":0,\"ticks\":\"\"}},\"type\":\"scattergl\"}],\"scattermapbox\":[{\"marker\":{\"colorbar\":{\"outlinewidth\":0,\"ticks\":\"\"}},\"type\":\"scattermapbox\"}],\"scatterpolargl\":[{\"marker\":{\"colorbar\":{\"outlinewidth\":0,\"ticks\":\"\"}},\"type\":\"scatterpolargl\"}],\"scatterpolar\":[{\"marker\":{\"colorbar\":{\"outlinewidth\":0,\"ticks\":\"\"}},\"type\":\"scatterpolar\"}],\"scatter\":[{\"fillpattern\":{\"fillmode\":\"overlay\",\"size\":10,\"solidity\":0.2},\"type\":\"scatter\"}],\"scatterternary\":[{\"marker\":{\"colorbar\":{\"outlinewidth\":0,\"ticks\":\"\"}},\"type\":\"scatterternary\"}],\"surface\":[{\"colorbar\":{\"outlinewidth\":0,\"ticks\":\"\"},\"colorscale\":[[0.0,\"#0d0887\"],[0.1111111111111111,\"#46039f\"],[0.2222222222222222,\"#7201a8\"],[0.3333333333333333,\"#9c179e\"],[0.4444444444444444,\"#bd3786\"],[0.5555555555555556,\"#d8576b\"],[0.6666666666666666,\"#ed7953\"],[0.7777777777777778,\"#fb9f3a\"],[0.8888888888888888,\"#fdca26\"],[1.0,\"#f0f921\"]],\"type\":\"surface\"}],\"table\":[{\"cells\":{\"fill\":{\"color\":\"#EBF0F8\"},\"line\":{\"color\":\"white\"}},\"header\":{\"fill\":{\"color\":\"#C8D4E3\"},\"line\":{\"color\":\"white\"}},\"type\":\"table\"}]},\"layout\":{\"annotationdefaults\":{\"arrowcolor\":\"#2a3f5f\",\"arrowhead\":0,\"arrowwidth\":1},\"autotypenumbers\":\"strict\",\"coloraxis\":{\"colorbar\":{\"outlinewidth\":0,\"ticks\":\"\"}},\"colorscale\":{\"diverging\":[[0,\"#8e0152\"],[0.1,\"#c51b7d\"],[0.2,\"#de77ae\"],[0.3,\"#f1b6da\"],[0.4,\"#fde0ef\"],[0.5,\"#f7f7f7\"],[0.6,\"#e6f5d0\"],[0.7,\"#b8e186\"],[0.8,\"#7fbc41\"],[0.9,\"#4d9221\"],[1,\"#276419\"]],\"sequential\":[[0.0,\"#0d0887\"],[0.1111111111111111,\"#46039f\"],[0.2222222222222222,\"#7201a8\"],[0.3333333333333333,\"#9c179e\"],[0.4444444444444444,\"#bd3786\"],[0.5555555555555556,\"#d8576b\"],[0.6666666666666666,\"#ed7953\"],[0.7777777777777778,\"#fb9f3a\"],[0.8888888888888888,\"#fdca26\"],[1.0,\"#f0f921\"]],\"sequentialminus\":[[0.0,\"#0d0887\"],[0.1111111111111111,\"#46039f\"],[0.2222222222222222,\"#7201a8\"],[0.3333333333333333,\"#9c179e\"],[0.4444444444444444,\"#bd3786\"],[0.5555555555555556,\"#d8576b\"],[0.6666666666666666,\"#ed7953\"],[0.7777777777777778,\"#fb9f3a\"],[0.8888888888888888,\"#fdca26\"],[1.0,\"#f0f921\"]]},\"colorway\":[\"#636efa\",\"#EF553B\",\"#00cc96\",\"#ab63fa\",\"#FFA15A\",\"#19d3f3\",\"#FF6692\",\"#B6E880\",\"#FF97FF\",\"#FECB52\"],\"font\":{\"color\":\"#2a3f5f\"},\"geo\":{\"bgcolor\":\"white\",\"lakecolor\":\"white\",\"landcolor\":\"white\",\"showlakes\":true,\"showland\":true,\"subunitcolor\":\"#C8D4E3\"},\"hoverlabel\":{\"align\":\"left\"},\"hovermode\":\"closest\",\"mapbox\":{\"style\":\"light\"},\"paper_bgcolor\":\"white\",\"plot_bgcolor\":\"white\",\"polar\":{\"angularaxis\":{\"gridcolor\":\"#EBF0F8\",\"linecolor\":\"#EBF0F8\",\"ticks\":\"\"},\"bgcolor\":\"white\",\"radialaxis\":{\"gridcolor\":\"#EBF0F8\",\"linecolor\":\"#EBF0F8\",\"ticks\":\"\"}},\"scene\":{\"xaxis\":{\"backgroundcolor\":\"white\",\"gridcolor\":\"#DFE8F3\",\"gridwidth\":2,\"linecolor\":\"#EBF0F8\",\"showbackground\":true,\"ticks\":\"\",\"zerolinecolor\":\"#EBF0F8\"},\"yaxis\":{\"backgroundcolor\":\"white\",\"gridcolor\":\"#DFE8F3\",\"gridwidth\":2,\"linecolor\":\"#EBF0F8\",\"showbackground\":true,\"ticks\":\"\",\"zerolinecolor\":\"#EBF0F8\"},\"zaxis\":{\"backgroundcolor\":\"white\",\"gridcolor\":\"#DFE8F3\",\"gridwidth\":2,\"linecolor\":\"#EBF0F8\",\"showbackground\":true,\"ticks\":\"\",\"zerolinecolor\":\"#EBF0F8\"}},\"shapedefaults\":{\"line\":{\"color\":\"#2a3f5f\"}},\"ternary\":{\"aaxis\":{\"gridcolor\":\"#DFE8F3\",\"linecolor\":\"#A2B1C6\",\"ticks\":\"\"},\"baxis\":{\"gridcolor\":\"#DFE8F3\",\"linecolor\":\"#A2B1C6\",\"ticks\":\"\"},\"bgcolor\":\"white\",\"caxis\":{\"gridcolor\":\"#DFE8F3\",\"linecolor\":\"#A2B1C6\",\"ticks\":\"\"}},\"title\":{\"x\":0.05},\"xaxis\":{\"automargin\":true,\"gridcolor\":\"#EBF0F8\",\"linecolor\":\"#EBF0F8\",\"ticks\":\"\",\"title\":{\"standoff\":15},\"zerolinecolor\":\"#EBF0F8\",\"zerolinewidth\":2},\"yaxis\":{\"automargin\":true,\"gridcolor\":\"#EBF0F8\",\"linecolor\":\"#EBF0F8\",\"ticks\":\"\",\"title\":{\"standoff\":15},\"zerolinecolor\":\"#EBF0F8\",\"zerolinewidth\":2}}},\"xaxis\":{\"anchor\":\"y\",\"domain\":[0.0,1.0],\"type\":\"date\"},\"yaxis\":{\"anchor\":\"x\",\"domain\":[0.0,1.0],\"title\":{\"text\":\"Station\"},\"autorange\":\"reversed\"},\"legend\":{\"title\":{\"text\":\"Phase\"},\"tracegroupgap\":0},\"title\":{\"text\":\"1567 California St (100 Units)\"},\"barmode\":\"overlay\",\"width\":1000},                        {\"responsive\": true}                    ).then(function(){\n",
       "                            \n",
       "var gd = document.getElementById('03a2bff3-54b6-40d4-9fa4-d027704851d1');\n",
       "var x = new MutationObserver(function (mutations, observer) {{\n",
       "        var display = window.getComputedStyle(gd).display;\n",
       "        if (!display || display === 'none') {{\n",
       "            console.log([gd, 'removed!']);\n",
       "            Plotly.purge(gd);\n",
       "            observer.disconnect();\n",
       "        }}\n",
       "}});\n",
       "\n",
       "// Listen for the removal of the full notebook cells\n",
       "var notebookContainer = gd.closest('#notebook-container');\n",
       "if (notebookContainer) {{\n",
       "    x.observe(notebookContainer, {childList: true});\n",
       "}}\n",
       "\n",
       "// Listen for the clearing of the current output cell\n",
       "var outputEl = gd.closest('.output');\n",
       "if (outputEl) {{\n",
       "    x.observe(outputEl, {childList: true});\n",
       "}}\n",
       "\n",
       "                        })                };                });            </script>        </div>"
      ]
     },
     "metadata": {},
     "output_type": "display_data"
    }
   ],
   "source": [
    "plotly.offline.init_notebook_mode(connected=True)\n",
    "\n",
    "#_find_permits_with_proposed_units(permits_df, 100, float(\"inf\"), 2019, 365 * 2, 365 * 3)\n",
    "_permit_gannt_chart(permits_filed_after_2014_routing_df[permits_filed_after_2014_routing_df[\"Permit Number\"] == \"201912099034\"])"
   ]
  },
  {
   "cell_type": "markdown",
   "metadata": {},
   "source": [
    "![1567 California St](data/1567californiast.png)"
   ]
  },
  {
   "cell_type": "markdown",
   "metadata": {},
   "source": [
    "Permitting data only shows a snapshot of the development pipeline. It doesn't speak to how restrictive zoning laws, expensive building costs, or high interest rates prevent projects from ever reaching the permiting stage. It doesn't tell us why projects fail to be built once permits are in order. What it does show is how insignificant action can lead to significant change. For more than a decade, we neglected to adequately respond to the clear signs of our city's growth, by either increasing staffing of the departments that handle these processes, or by simplifying the processes altogether. We are building fewer homes than we have in years in large part because we didn't choose to build more.\n",
    "\n",
    "Recently, the California State government has started to intervene. SB-423<sup>[9](https://sfplanning.org/resource/sb423-application)</sup>, which went into effect in San Francisco in June, introduces a streamlined process for Planning Department approval which bypasses neighborhood notification and discretionary review, as well as mandates timelines of the Planning Department's review. AB-1114<sup>[10](https://sfplanning.org/updated-planning-approval)</sup> similarly regulates the review timelines for permits that are issued separately from Planning Department approval, including building permits issued by the Department of Building Inpsection. If these works as intended, we'll be estimating permitting times in months rather than years. \n",
    "\n",
    "Only time will tell if these interventions successfully lead to more new homes. I plan to wait it out in my comfortable rental apartment, hopes of homeownership put on ice. The next time I pass a human who, for lack of a better option, has made a parking lot their home, I'll remind myself that not everyone is so lucky."
   ]
  },
  {
   "cell_type": "markdown",
   "metadata": {},
   "source": [
    "***\n",
    "\n",
    "#### Data Information"
   ]
  },
  {
   "cell_type": "markdown",
   "metadata": {},
   "source": [
    "##### Percentage of housing stock built since 2000\n",
    "\n",
    "The following counts the number of newly constructed residential units completed between January 1, 2000, and August 31, 2024. The data, with filters applied, was downloaded from [DataSF](https://data.sfgov.org/Housing-and-Buildings/Building-Permits/i98e-djp9/explore/query/SELECT%0A%20%20%60permit_number%60%2C%0A%20%20%60permit_type%60%2C%0A%20%20%60permit_type_definition%60%2C%0A%20%20%60permit_creation_date%60%2C%0A%20%20%60block%60%2C%0A%20%20%60lot%60%2C%0A%20%20%60street_number%60%2C%0A%20%20%60street_number_suffix%60%2C%0A%20%20%60street_name%60%2C%0A%20%20%60street_suffix%60%2C%0A%20%20%60unit%60%2C%0A%20%20%60unit_suffix%60%2C%0A%20%20%60description%60%2C%0A%20%20%60status%60%2C%0A%20%20%60status_date%60%2C%0A%20%20%60filed_date%60%2C%0A%20%20%60issued_date%60%2C%0A%20%20%60completed_date%60%2C%0A%20%20%60first_construction_document_date%60%2C%0A%20%20%60structural_notification%60%2C%0A%20%20%60number_of_existing_stories%60%2C%0A%20%20%60number_of_proposed_stories%60%2C%0A%20%20%60voluntary_soft_story_retrofit%60%2C%0A%20%20%60fire_only_permit%60%2C%0A%20%20%60estimated_cost%60%2C%0A%20%20%60revised_cost%60%2C%0A%20%20%60existing_use%60%2C%0A%20%20%60existing_units%60%2C%0A%20%20%60proposed_use%60%2C%0A%20%20%60proposed_units%60%2C%0A%20%20%60plansets%60%2C%0A%20%20%60tidf_compliance%60%2C%0A%20%20%60existing_occupancy%60%2C%0A%20%20%60proposed_occupancy%60%2C%0A%20%20%60existing_construction_type%60%2C%0A%20%20%60existing_construction_type_description%60%2C%0A%20%20%60proposed_construction_type%60%2C%0A%20%20%60proposed_construction_type_description%60%2C%0A%20%20%60site_permit%60%2C%0A%20%20%60last_permit_activity_date%60%2C%0A%20%20%60application_submission_method%60%2C%0A%20%20%60adu%60%2C%0A%20%20%60primary_address_flag%60%2C%0A%20%20%60supervisor_district%60%2C%0A%20%20%60neighborhoods_analysis_boundaries%60%2C%0A%20%20%60zipcode%60%2C%0A%20%20%60location%60%2C%0A%20%20%60point_source%60%2C%0A%20%20%60record_id%60%2C%0A%20%20%60data_as_of%60%2C%0A%20%20%60data_loaded_at%60%0AWHERE%0A%20%20caseless_one_of%28%0A%20%20%20%20%60permit_type_definition%60%2C%0A%20%20%20%20%22new%20construction%22%2C%0A%20%20%20%20%22new%20construction%20wood%20frame%22%0A%20%20%29%0A%20%20AND%20%28caseless_one_of%28%0A%20%20%20%20%20%20%20%20%20%20%20%60proposed_use%60%2C%0A%20%20%20%20%20%20%20%20%20%20%20%221%20family%20dwelling%22%2C%0A%20%20%20%20%20%20%20%20%20%20%20%222%20family%20dwelling%22%2C%0A%20%20%20%20%20%20%20%20%20%20%20%22apartments%22%0A%20%20%20%20%20%20%20%20%20%29%0A%20%20%20%20%20%20%20%20%20AND%20%28%28%60proposed_units%60%20%3E%200%29%0A%20%20%20%20%20%20%20%20%20%20%20%20%20%20%20%20AND%20%28caseless_one_of%28%60status%60%2C%20%22complete%22%29%0A%20%20%20%20%20%20%20%20%20%20%20%20%20%20%20%20%20%20%20%20%20%20%20AND%20%28%60status_date%60%0A%20%20%20%20%20%20%20%20%20%20%20%20%20%20%20%20%20%20%20%20%20%20%20%20%20%20%20%20%20%20BETWEEN%20%222000-01-01T00%3A00%3A00%22%20%3A%3A%20floating_timestamp%0A%20%20%20%20%20%20%20%20%20%20%20%20%20%20%20%20%20%20%20%20%20%20%20%20%20%20%20%20%20%20AND%20%222024-08-31T23%3A59%3A59%22%20%3A%3A%20floating_timestamp%29%29%29%29/page/filter).\n",
    "\n",
    "The number of total residential units in the housing stock (415,803) was pulled from the [2023 SF Housing Inventory Report](https://sfplanning.org/sites/default/files/resources/2024-04/2023_Housing_Inventory.pdf), page 15."
   ]
  },
  {
   "cell_type": "code",
   "execution_count": 19,
   "metadata": {},
   "outputs": [
    {
     "name": "stdout",
     "output_type": "stream",
     "text": [
      "Number of completed units: 50651\n",
      "Percentage of housing stock: 12.18%\n"
     ]
    }
   ],
   "source": [
    "completed_residential_permits_df = pd.read_csv(\"data/deduplicated_residential_building_permits_completed_since_2000.csv\")\n",
    "num_completed_residential_units_since_2000 = completed_residential_permits_df[\"Proposed Units\"].sum()\n",
    "num_total_residential_units = 415_803\n",
    "print(\"Number of completed units:\", num_completed_residential_units_since_2000)\n",
    "print(\"Percentage of housing stock:\", f\"{(100 * float(num_completed_residential_units_since_2000 / num_total_residential_units)):.02f}%\")"
   ]
  },
  {
   "cell_type": "markdown",
   "metadata": {},
   "source": [
    "##### Permit Filing and Completion Data\n",
    "\n",
    "The data used to create the graphs of permit issuings, permit application filings, wait times, and backlogs between January 1, 2000, and August 31, 2024 was downloaded, with filters applied, from [DataSF](https://data.sfgov.org/Housing-and-Buildings/Building-Permits-Deduplicated-on-Primary-Address/f2jc-ivnc/explore/query/SELECT%0A%20%20%60permit_number%60%2C%0A%20%20%60permit_type%60%2C%0A%20%20%60permit_type_definition%60%2C%0A%20%20%60permit_creation_date%60%2C%0A%20%20%60block%60%2C%0A%20%20%60lot%60%2C%0A%20%20%60street_number%60%2C%0A%20%20%60street_number_suffix%60%2C%0A%20%20%60street_name%60%2C%0A%20%20%60street_suffix%60%2C%0A%20%20%60unit%60%2C%0A%20%20%60unit_suffix%60%2C%0A%20%20%60description%60%2C%0A%20%20%60status%60%2C%0A%20%20%60status_date%60%2C%0A%20%20%60filed_date%60%2C%0A%20%20%60issued_date%60%2C%0A%20%20%60completed_date%60%2C%0A%20%20%60first_construction_document_date%60%2C%0A%20%20%60structural_notification%60%2C%0A%20%20%60number_of_existing_stories%60%2C%0A%20%20%60number_of_proposed_stories%60%2C%0A%20%20%60voluntary_soft_story_retrofit%60%2C%0A%20%20%60fire_only_permit%60%2C%0A%20%20%60estimated_cost%60%2C%0A%20%20%60revised_cost%60%2C%0A%20%20%60existing_use%60%2C%0A%20%20%60existing_units%60%2C%0A%20%20%60proposed_use%60%2C%0A%20%20%60proposed_units%60%2C%0A%20%20%60plansets%60%2C%0A%20%20%60tidf_compliance%60%2C%0A%20%20%60existing_occupancy%60%2C%0A%20%20%60proposed_occupancy%60%2C%0A%20%20%60existing_construction_type%60%2C%0A%20%20%60existing_construction_type_description%60%2C%0A%20%20%60proposed_construction_type%60%2C%0A%20%20%60proposed_construction_type_description%60%2C%0A%20%20%60site_permit%60%2C%0A%20%20%60last_permit_activity_date%60%2C%0A%20%20%60application_submission_method%60%2C%0A%20%20%60adu%60%2C%0A%20%20%60primary_address_flag%60%2C%0A%20%20%60supervisor_district%60%2C%0A%20%20%60neighborhoods_analysis_boundaries%60%2C%0A%20%20%60zipcode%60%2C%0A%20%20%60location%60%2C%0A%20%20%60point_source%60%2C%0A%20%20%60record_id%60%2C%0A%20%20%60data_as_of%60%2C%0A%20%20%60data_loaded_at%60%0AWHERE%0A%20%20%28caseless_one_of%28%0A%20%20%20%20%20%20%20%60permit_type_definition%60%2C%0A%20%20%20%20%20%20%20%22new%20construction%22%2C%0A%20%20%20%20%20%20%20%22new%20construction%20wood%20frame%22%0A%20%20%20%20%20%29%0A%20%20%20%20%20AND%20%28caseless_one_of%28%0A%20%20%20%20%20%20%20%20%20%20%20%20%20%20%60proposed_use%60%2C%0A%20%20%20%20%20%20%20%20%20%20%20%20%20%20%221%20family%20dwelling%22%2C%0A%20%20%20%20%20%20%20%20%20%20%20%20%20%20%222%20family%20dwelling%22%2C%0A%20%20%20%20%20%20%20%20%20%20%20%20%20%20%22apartments%22%0A%20%20%20%20%20%20%20%20%20%20%20%20%29%0A%20%20%20%20%20%20%20%20%20%20%20%20AND%20%28%60issued_date%60%0A%20%20%20%20%20%20%20%20%20%20%20%20%20%20%20%20%20%20%20BETWEEN%20%222000-01-01T00%3A00%3A00%22%20%3A%3A%20floating_timestamp%0A%20%20%20%20%20%20%20%20%20%20%20%20%20%20%20%20%20%20%20AND%20%222024-08-31T23%3A59%3A59%22%20%3A%3A%20floating_timestamp%29%29%29%0A%20%20%20%20OR%20%28caseless_one_of%28%0A%20%20%20%20%20%20%20%20%20%20%20%20%60permit_type_definition%60%2C%0A%20%20%20%20%20%20%20%20%20%20%20%20%22new%20construction%22%2C%0A%20%20%20%20%20%20%20%20%20%20%20%20%22new%20construction%20wood%20frame%22%0A%20%20%20%20%20%20%20%20%20%20%29%0A%20%20%20%20%20%20%20%20%20%20AND%20%28caseless_one_of%28%0A%20%20%20%20%20%20%20%20%20%20%20%20%20%20%20%20%20%20%20%60proposed_use%60%2C%0A%20%20%20%20%20%20%20%20%20%20%20%20%20%20%20%20%20%20%20%221%20family%20dwelling%22%2C%0A%20%20%20%20%20%20%20%20%20%20%20%20%20%20%20%20%20%20%20%222%20family%20dwelling%22%2C%0A%20%20%20%20%20%20%20%20%20%20%20%20%20%20%20%20%20%20%20%22apartments%22%0A%20%20%20%20%20%20%20%20%20%20%20%20%20%20%20%20%20%29%0A%20%20%20%20%20%20%20%20%20%20%20%20%20%20%20%20%20AND%20%28%60filed_date%60%0A%20%20%20%20%20%20%20%20%20%20%20%20%20%20%20%20%20%20%20%20%20%20%20%20BETWEEN%20%222000-01-01T00%3A00%3A00%22%20%3A%3A%20floating_timestamp%0A%20%20%20%20%20%20%20%20%20%20%20%20%20%20%20%20%20%20%20%20%20%20%20%20AND%20%222024-08-31T23%3A59%3A59%22%20%3A%3A%20floating_timestamp%29%29%29/page/filter)."
   ]
  },
  {
   "cell_type": "markdown",
   "metadata": {},
   "source": [
    "##### Permit Routing Data\n",
    "\n",
    "The data used to create the timeline visualizations was downloaded, with filters applied, from [DataSF](https://data.sfgov.org/Housing-and-Buildings/Building-Permit-Addenda-with-Routing/87xy-gk8d/explore/query/SELECT%0A%20%20%60primary_key%60%2C%0A%20%20%60application_number%60%2C%0A%20%20%60addenda_number%60%2C%0A%20%20%60step%60%2C%0A%20%20%60station%60%2C%0A%20%20%60arrive%60%2C%0A%20%20%60assign_date%60%2C%0A%20%20%60start_date%60%2C%0A%20%20%60in_hold%60%2C%0A%20%20%60out_hold%60%2C%0A%20%20%60finish_date%60%2C%0A%20%20%60plan_checked_by%60%2C%0A%20%20%60hold_description%60%2C%0A%20%20%60title%60%2C%0A%20%20%60addenda_status%60%2C%0A%20%20%60department%60%2C%0A%20%20%60review_results%60%2C%0A%20%20%60data_as_of%60%2C%0A%20%20%60data_loaded_at%60%0AWHERE%0A%20%20%28%60arrive%60%0A%20%20%20%20%20BETWEEN%20%222014-01-01T00%3A00%3A00%22%20%3A%3A%20floating_timestamp%0A%20%20%20%20%20AND%20%222024-09-16T13%3A55%3A11%22%20%3A%3A%20floating_timestamp%29%0A%20%20AND%20%28%60addenda_number%60%20%3D%200%29/page/filter)."
   ]
  }
 ],
 "metadata": {
  "kernelspec": {
   "display_name": "venv",
   "language": "python",
   "name": "python3"
  },
  "language_info": {
   "codemirror_mode": {
    "name": "ipython",
    "version": 3
   },
   "file_extension": ".py",
   "mimetype": "text/x-python",
   "name": "python",
   "nbconvert_exporter": "python",
   "pygments_lexer": "ipython3",
   "version": "3.12.5"
  }
 },
 "nbformat": 4,
 "nbformat_minor": 2
}
